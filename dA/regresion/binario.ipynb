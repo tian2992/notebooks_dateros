{
 "cells": [
  {
   "cell_type": "markdown",
   "metadata": {
    "collapsed": true,
    "pycharm": {
     "name": "#%% md\n"
    }
   },
   "source": [
    "# Clasificacion Binaria\n",
    "\n"
   ]
  },
  {
   "cell_type": "markdown",
   "source": [
    "* TP: True Positivo (positivo correcto)\n",
    "* FP: Falso Positivo\n",
    "* TN: True Negative (dice negativo, es negativo)\n",
    "* FN: Falso Negativo\n",
    "\n",
    "$ acc= \\frac{(TP+TN)}{(TP+FP+TN+FN)} $\n",
    "\n",
    "Tenemos a disposicion:\n",
    "\n",
    "* Support Vector Machine (SVM)\n",
    "* Naive Bayes\n",
    "* Nearest Neighbor\n",
    "* Decision Trees\n",
    "* Logistic Regresion\n",
    "* **Neural Network**\n",
    "\n",
    "Primero vamos a probar lo mas sencillo."
   ],
   "metadata": {
    "collapsed": false
   }
  },
  {
   "cell_type": "code",
   "execution_count": 2,
   "outputs": [],
   "source": [
    "import numpy as np\n",
    "import pandas as pd\n",
    "import seaborn as sns\n",
    "import matplotlib.pyplot as plt\n",
    "## Darle antes pip install sklearn\n",
    "from sklearn.datasets import load_breast_cancer\n",
    "\n",
    "dataset = load_breast_cancer()"
   ],
   "metadata": {
    "collapsed": false,
    "pycharm": {
     "name": "#%%\n"
    }
   }
  },
  {
   "cell_type": "code",
   "execution_count": null,
   "outputs": [],
   "source": [
    "sns.set_style('dark')\n",
    "import matplotlib as mpl\n"
   ],
   "metadata": {
    "collapsed": false,
    "pycharm": {
     "name": "#%%\n"
    }
   }
  },
  {
   "cell_type": "code",
   "execution_count": 3,
   "outputs": [
    {
     "name": "stdout",
     "output_type": "stream",
     "text": [
      "Target variables  :  ['malignant' 'benign']\n",
      "Unique values of the target variable [0 1]\n",
      "Counts of the target variable : [212 357]\n"
     ]
    }
   ],
   "source": [
    "print('Target variables  : ', dataset['target_names'])\n",
    "\n",
    "(unique, counts) = np.unique(dataset['target'], return_counts=True)\n",
    "\n",
    "print('Unique values of the target variable', unique)\n",
    "print('Counts of the target variable :', counts)"
   ],
   "metadata": {
    "collapsed": false,
    "pycharm": {
     "name": "#%%\n"
    }
   }
  },
  {
   "cell_type": "code",
   "execution_count": 6,
   "outputs": [
    {
     "data": {
      "text/plain": "<Figure size 432x288 with 1 Axes>",
      "image/png": "[encoded data removed]"
     },
     "metadata": {
      "needs_background": "light"
     },
     "output_type": "display_data"
    }
   ],
   "source": [
    "sns.barplot(x=dataset['target_names'], y=counts)\n",
    "plt.title=(\"Variables resultado en el dataset\")\n",
    "plt.show()"
   ],
   "metadata": {
    "collapsed": false,
    "pycharm": {
     "name": "#%%\n"
    }
   }
  },
  {
   "cell_type": "code",
   "execution_count": 9,
   "outputs": [],
   "source": [
    "X = dataset['data']\n",
    "y = dataset['target']"
   ],
   "metadata": {
    "collapsed": false,
    "pycharm": {
     "name": "#%%\n"
    }
   }
  },
  {
   "cell_type": "code",
   "execution_count": 11,
   "outputs": [],
   "source": [
    "# Scaler es necesario para que los numeros tengan integridad.\n",
    "from sklearn.preprocessing import StandardScaler\n",
    "standardizer = StandardScaler()\n",
    "X = standardizer.fit_transform(X)"
   ],
   "metadata": {
    "collapsed": false,
    "pycharm": {
     "name": "#%%\n"
    }
   }
  },
  {
   "cell_type": "code",
   "execution_count": 12,
   "outputs": [
    {
     "data": {
      "text/plain": "array([[ 1.09706398, -2.07333501,  1.26993369, ...,  2.29607613,\n         2.75062224,  1.93701461],\n       [ 1.82982061, -0.35363241,  1.68595471, ...,  1.0870843 ,\n        -0.24388967,  0.28118999],\n       [ 1.57988811,  0.45618695,  1.56650313, ...,  1.95500035,\n         1.152255  ,  0.20139121],\n       ...,\n       [ 0.70228425,  2.0455738 ,  0.67267578, ...,  0.41406869,\n        -1.10454895, -0.31840916],\n       [ 1.83834103,  2.33645719,  1.98252415, ...,  2.28998549,\n         1.91908301,  2.21963528],\n       [-1.80840125,  1.22179204, -1.81438851, ..., -1.74506282,\n        -0.04813821, -0.75120669]])"
     },
     "execution_count": 12,
     "metadata": {},
     "output_type": "execute_result"
    }
   ],
   "source": [
    "X"
   ],
   "metadata": {
    "collapsed": false,
    "pycharm": {
     "name": "#%%\n"
    }
   }
  },
  {
   "cell_type": "code",
   "execution_count": 13,
   "outputs": [],
   "source": [
    "from sklearn.model_selection import train_test_split\n",
    "X_train, X_test, y_train, y_test = train_test_split(X, y , test_size=0.25, random_state=0)\n",
    "\n"
   ],
   "metadata": {
    "collapsed": false,
    "pycharm": {
     "name": "#%%\n"
    }
   }
  },
  {
   "cell_type": "code",
   "execution_count": 14,
   "outputs": [
    {
     "data": {
      "text/plain": "LogisticRegression()"
     },
     "execution_count": 14,
     "metadata": {},
     "output_type": "execute_result"
    }
   ],
   "source": [
    "from sklearn.linear_model import LogisticRegression\n",
    "model = LogisticRegression()\n",
    "model.fit(X_train, y_train)\n"
   ],
   "metadata": {
    "collapsed": false,
    "pycharm": {
     "name": "#%%\n"
    }
   }
  },
  {
   "cell_type": "code",
   "execution_count": 15,
   "outputs": [
    {
     "data": {
      "text/plain": "LogisticRegression()"
     },
     "execution_count": 15,
     "metadata": {},
     "output_type": "execute_result"
    }
   ],
   "source": [
    "# Ahora que tenemos un modelo podemos hacer predicciones\n",
    "model"
   ],
   "metadata": {
    "collapsed": false,
    "pycharm": {
     "name": "#%%\n"
    }
   }
  },
  {
   "cell_type": "code",
   "execution_count": 16,
   "outputs": [],
   "source": [
    "predictions = model.predict(X_test)\n"
   ],
   "metadata": {
    "collapsed": false,
    "pycharm": {
     "name": "#%%\n"
    }
   }
  },
  {
   "cell_type": "code",
   "execution_count": 17,
   "outputs": [
    {
     "data": {
      "text/plain": "array([0, 1, 1, 1, 1, 1, 1, 1, 1, 1, 1, 1, 1, 0, 1, 0, 1, 0, 0, 0, 0, 0,\n       1, 1, 0, 1, 1, 0, 1, 0, 1, 0, 1, 0, 1, 0, 1, 0, 1, 0, 0, 1, 0, 1,\n       1, 0, 1, 1, 1, 0, 0, 0, 0, 1, 1, 1, 1, 1, 1, 0, 0, 0, 1, 1, 0, 1,\n       0, 0, 0, 1, 1, 0, 1, 0, 0, 1, 1, 1, 1, 1, 0, 0, 0, 1, 0, 1, 1, 1,\n       0, 0, 1, 0, 0, 0, 1, 1, 0, 1, 1, 1, 1, 1, 1, 1, 0, 1, 0, 1, 1, 1,\n       1, 0, 0, 1, 1, 1, 1, 1, 1, 1, 1, 1, 1, 1, 0, 1, 1, 1, 1, 1, 0, 1,\n       1, 1, 1, 1, 1, 0, 0, 1, 1, 1, 0])"
     },
     "execution_count": 17,
     "metadata": {},
     "output_type": "execute_result"
    }
   ],
   "source": [
    "predictions"
   ],
   "metadata": {
    "collapsed": false,
    "pycharm": {
     "name": "#%%\n"
    }
   }
  },
  {
   "cell_type": "code",
   "execution_count": 27,
   "outputs": [
    {
     "data": {
      "text/plain": "     mean radius  mean texture  mean perimeter  mean area  mean smoothness  \\\n0      -0.206561      0.286311       -0.137124  -0.279260         1.013376   \n1      -0.260524      1.387014       -0.324127  -0.332729        -0.601368   \n2      -0.030472     -0.844644       -0.097993  -0.137624        -1.188483   \n3       0.037691     -0.260550       -0.030853  -0.061970        -2.177683   \n4      -0.311646     -0.202373       -0.385500  -0.372831        -0.464730   \n..           ...           ...             ...        ...              ...   \n138     2.579618      1.787269        2.534473   2.887080        -0.090400   \n139    -1.027362      0.209518       -0.960928  -0.912073         1.127241   \n140    -0.507616     -1.633519       -0.536668  -0.530110        -0.450497   \n141    -0.169639     -1.943019       -0.167192  -0.272150         2.329937   \n142     1.551487     -0.265204        1.595336   1.590169         1.113008   \n\n     mean compactness  mean concavity  mean concave points  mean symmetry  \\\n0            0.806556        0.699320             0.846065       1.111279   \n1           -0.990992       -0.766849            -0.728400      -0.703240   \n2           -0.919734       -0.852851            -0.577763      -0.812768   \n3           -0.988149       -0.804137            -0.907410      -0.644825   \n4           -1.263703       -0.793214            -0.507861      -1.258183   \n..                ...             ...                  ...            ...   \n138          1.210223        1.333347             1.928896       0.355534   \n139          0.491962       -0.301813            -0.470460       0.402996   \n140         -0.782146       -0.743497            -0.579053      -0.447674   \n141          0.006804       -0.251467             0.429234       2.159100   \n142          1.179900        2.033914             2.055287       0.786345   \n\n     mean fractal dimension  ...  worst radius  worst texture  \\\n0                  1.481735  ...      0.029159       0.648570   \n1                 -0.986314  ...     -0.397431       1.392767   \n2                 -0.983478  ...     -0.281464      -1.036863   \n3                 -0.983478  ...     -0.010186      -0.067942   \n4                 -0.590802  ...     -0.614867      -0.466909   \n..                      ...  ...           ...            ...   \n138                0.041449  ...      3.052564       1.438363   \n139                2.129580  ...     -1.058024      -0.476680   \n140               -0.668770  ...     -0.550672      -1.043377   \n141                0.512094  ...     -0.453343      -2.147457   \n142               -0.280347  ...      2.166251       0.116071   \n\n     worst perimeter  worst area  worst smoothness  worst compactness  \\\n0           0.179870   -0.063607          1.097274           0.835474   \n1          -0.475716   -0.435405         -0.152049          -0.941264   \n2          -0.319638   -0.336962         -1.269864          -0.970527   \n3          -0.043523   -0.107027         -1.662195          -0.238966   \n4          -0.679153   -0.588344         -1.549975          -1.323648   \n..               ...         ...               ...                ...   \n138         2.941018    3.627307          0.689600           1.007232   \n139        -1.031818   -0.889826         -0.103829          -0.314031   \n140        -0.596944   -0.554943         -0.138898          -0.298127   \n141        -0.473631   -0.483572          0.558093          -0.740244   \n142         2.014678    2.375673          0.501106           0.829112   \n\n     worst concavity  worst concave points  worst symmetry  \\\n0           1.143785              1.377912        1.106957   \n1          -0.638975             -0.830706       -0.738931   \n2          -1.005506             -0.494046       -1.237207   \n3          -0.555018             -0.598500       -0.428317   \n4          -1.073966             -0.981753       -1.478256   \n..               ...                   ...             ...   \n138         1.486328              2.203194        0.327187   \n139        -0.684551             -0.810759       -0.837615   \n140        -0.446594             -0.115817        0.338511   \n141        -0.896170             -0.617229       -0.308601   \n142         1.961283              1.676354        1.200788   \n\n     worst fractal dimension  \n0                   1.493688  \n1                  -0.890300  \n2                  -0.933525  \n3                  -0.398208  \n4                  -1.233324  \n..                       ...  \n138                 0.156504  \n139                 0.349906  \n140                -0.444757  \n141                -0.666975  \n142                 0.459075  \n\n[143 rows x 30 columns]",
      "text/html": "<div>\n<style scoped>\n    .dataframe tbody tr th:only-of-type {\n        vertical-align: middle;\n    }\n\n    .dataframe tbody tr th {\n        vertical-align: top;\n    }\n\n    .dataframe thead th {\n        text-align: right;\n    }\n</style>\n<table border=\"1\" class=\"dataframe\">\n  <thead>\n    <tr style=\"text-align: right;\">\n      <th></th>\n      <th>mean radius</th>\n      <th>mean texture</th>\n      <th>mean perimeter</th>\n      <th>mean area</th>\n      <th>mean smoothness</th>\n      <th>mean compactness</th>\n      <th>mean concavity</th>\n      <th>mean concave points</th>\n      <th>mean symmetry</th>\n      <th>mean fractal dimension</th>\n      <th>...</th>\n      <th>worst radius</th>\n      <th>worst texture</th>\n      <th>worst perimeter</th>\n      <th>worst area</th>\n      <th>worst smoothness</th>\n      <th>worst compactness</th>\n      <th>worst concavity</th>\n      <th>worst concave points</th>\n      <th>worst symmetry</th>\n      <th>worst fractal dimension</th>\n    </tr>\n  </thead>\n  <tbody>\n    <tr>\n      <th>0</th>\n      <td>-0.206561</td>\n      <td>0.286311</td>\n      <td>-0.137124</td>\n      <td>-0.279260</td>\n      <td>1.013376</td>\n      <td>0.806556</td>\n      <td>0.699320</td>\n      <td>0.846065</td>\n      <td>1.111279</td>\n      <td>1.481735</td>\n      <td>...</td>\n      <td>0.029159</td>\n      <td>0.648570</td>\n      <td>0.179870</td>\n      <td>-0.063607</td>\n      <td>1.097274</td>\n      <td>0.835474</td>\n      <td>1.143785</td>\n      <td>1.377912</td>\n      <td>1.106957</td>\n      <td>1.493688</td>\n    </tr>\n    <tr>\n      <th>1</th>\n      <td>-0.260524</td>\n      <td>1.387014</td>\n      <td>-0.324127</td>\n      <td>-0.332729</td>\n      <td>-0.601368</td>\n      <td>-0.990992</td>\n      <td>-0.766849</td>\n      <td>-0.728400</td>\n      <td>-0.703240</td>\n      <td>-0.986314</td>\n      <td>...</td>\n      <td>-0.397431</td>\n      <td>1.392767</td>\n      <td>-0.475716</td>\n      <td>-0.435405</td>\n      <td>-0.152049</td>\n      <td>-0.941264</td>\n      <td>-0.638975</td>\n      <td>-0.830706</td>\n      <td>-0.738931</td>\n      <td>-0.890300</td>\n    </tr>\n    <tr>\n      <th>2</th>\n      <td>-0.030472</td>\n      <td>-0.844644</td>\n      <td>-0.097993</td>\n      <td>-0.137624</td>\n      <td>-1.188483</td>\n      <td>-0.919734</td>\n      <td>-0.852851</td>\n      <td>-0.577763</td>\n      <td>-0.812768</td>\n      <td>-0.983478</td>\n      <td>...</td>\n      <td>-0.281464</td>\n      <td>-1.036863</td>\n      <td>-0.319638</td>\n      <td>-0.336962</td>\n      <td>-1.269864</td>\n      <td>-0.970527</td>\n      <td>-1.005506</td>\n      <td>-0.494046</td>\n      <td>-1.237207</td>\n      <td>-0.933525</td>\n    </tr>\n    <tr>\n      <th>3</th>\n      <td>0.037691</td>\n      <td>-0.260550</td>\n      <td>-0.030853</td>\n      <td>-0.061970</td>\n      <td>-2.177683</td>\n      <td>-0.988149</td>\n      <td>-0.804137</td>\n      <td>-0.907410</td>\n      <td>-0.644825</td>\n      <td>-0.983478</td>\n      <td>...</td>\n      <td>-0.010186</td>\n      <td>-0.067942</td>\n      <td>-0.043523</td>\n      <td>-0.107027</td>\n      <td>-1.662195</td>\n      <td>-0.238966</td>\n      <td>-0.555018</td>\n      <td>-0.598500</td>\n      <td>-0.428317</td>\n      <td>-0.398208</td>\n    </tr>\n    <tr>\n      <th>4</th>\n      <td>-0.311646</td>\n      <td>-0.202373</td>\n      <td>-0.385500</td>\n      <td>-0.372831</td>\n      <td>-0.464730</td>\n      <td>-1.263703</td>\n      <td>-0.793214</td>\n      <td>-0.507861</td>\n      <td>-1.258183</td>\n      <td>-0.590802</td>\n      <td>...</td>\n      <td>-0.614867</td>\n      <td>-0.466909</td>\n      <td>-0.679153</td>\n      <td>-0.588344</td>\n      <td>-1.549975</td>\n      <td>-1.323648</td>\n      <td>-1.073966</td>\n      <td>-0.981753</td>\n      <td>-1.478256</td>\n      <td>-1.233324</td>\n    </tr>\n    <tr>\n      <th>...</th>\n      <td>...</td>\n      <td>...</td>\n      <td>...</td>\n      <td>...</td>\n      <td>...</td>\n      <td>...</td>\n      <td>...</td>\n      <td>...</td>\n      <td>...</td>\n      <td>...</td>\n      <td>...</td>\n      <td>...</td>\n      <td>...</td>\n      <td>...</td>\n      <td>...</td>\n      <td>...</td>\n      <td>...</td>\n      <td>...</td>\n      <td>...</td>\n      <td>...</td>\n      <td>...</td>\n    </tr>\n    <tr>\n      <th>138</th>\n      <td>2.579618</td>\n      <td>1.787269</td>\n      <td>2.534473</td>\n      <td>2.887080</td>\n      <td>-0.090400</td>\n      <td>1.210223</td>\n      <td>1.333347</td>\n      <td>1.928896</td>\n      <td>0.355534</td>\n      <td>0.041449</td>\n      <td>...</td>\n      <td>3.052564</td>\n      <td>1.438363</td>\n      <td>2.941018</td>\n      <td>3.627307</td>\n      <td>0.689600</td>\n      <td>1.007232</td>\n      <td>1.486328</td>\n      <td>2.203194</td>\n      <td>0.327187</td>\n      <td>0.156504</td>\n    </tr>\n    <tr>\n      <th>139</th>\n      <td>-1.027362</td>\n      <td>0.209518</td>\n      <td>-0.960928</td>\n      <td>-0.912073</td>\n      <td>1.127241</td>\n      <td>0.491962</td>\n      <td>-0.301813</td>\n      <td>-0.470460</td>\n      <td>0.402996</td>\n      <td>2.129580</td>\n      <td>...</td>\n      <td>-1.058024</td>\n      <td>-0.476680</td>\n      <td>-1.031818</td>\n      <td>-0.889826</td>\n      <td>-0.103829</td>\n      <td>-0.314031</td>\n      <td>-0.684551</td>\n      <td>-0.810759</td>\n      <td>-0.837615</td>\n      <td>0.349906</td>\n    </tr>\n    <tr>\n      <th>140</th>\n      <td>-0.507616</td>\n      <td>-1.633519</td>\n      <td>-0.536668</td>\n      <td>-0.530110</td>\n      <td>-0.450497</td>\n      <td>-0.782146</td>\n      <td>-0.743497</td>\n      <td>-0.579053</td>\n      <td>-0.447674</td>\n      <td>-0.668770</td>\n      <td>...</td>\n      <td>-0.550672</td>\n      <td>-1.043377</td>\n      <td>-0.596944</td>\n      <td>-0.554943</td>\n      <td>-0.138898</td>\n      <td>-0.298127</td>\n      <td>-0.446594</td>\n      <td>-0.115817</td>\n      <td>0.338511</td>\n      <td>-0.444757</td>\n    </tr>\n    <tr>\n      <th>141</th>\n      <td>-0.169639</td>\n      <td>-1.943019</td>\n      <td>-0.167192</td>\n      <td>-0.272150</td>\n      <td>2.329937</td>\n      <td>0.006804</td>\n      <td>-0.251467</td>\n      <td>0.429234</td>\n      <td>2.159100</td>\n      <td>0.512094</td>\n      <td>...</td>\n      <td>-0.453343</td>\n      <td>-2.147457</td>\n      <td>-0.473631</td>\n      <td>-0.483572</td>\n      <td>0.558093</td>\n      <td>-0.740244</td>\n      <td>-0.896170</td>\n      <td>-0.617229</td>\n      <td>-0.308601</td>\n      <td>-0.666975</td>\n    </tr>\n    <tr>\n      <th>142</th>\n      <td>1.551487</td>\n      <td>-0.265204</td>\n      <td>1.595336</td>\n      <td>1.590169</td>\n      <td>1.113008</td>\n      <td>1.179900</td>\n      <td>2.033914</td>\n      <td>2.055287</td>\n      <td>0.786345</td>\n      <td>-0.280347</td>\n      <td>...</td>\n      <td>2.166251</td>\n      <td>0.116071</td>\n      <td>2.014678</td>\n      <td>2.375673</td>\n      <td>0.501106</td>\n      <td>0.829112</td>\n      <td>1.961283</td>\n      <td>1.676354</td>\n      <td>1.200788</td>\n      <td>0.459075</td>\n    </tr>\n  </tbody>\n</table>\n<p>143 rows × 30 columns</p>\n</div>"
     },
     "execution_count": 27,
     "metadata": {},
     "output_type": "execute_result"
    }
   ],
   "source": [
    "import pandas as pd\n",
    "pd.DataFrame(X_test, columns=dataset['feature_names'])"
   ],
   "metadata": {
    "collapsed": false,
    "pycharm": {
     "name": "#%%\n"
    }
   }
  },
  {
   "cell_type": "code",
   "execution_count": 20,
   "outputs": [
    {
     "data": {
      "text/plain": "array(['mean radius', 'mean texture', 'mean perimeter', 'mean area',\n       'mean smoothness', 'mean compactness', 'mean concavity',\n       'mean concave points', 'mean symmetry', 'mean fractal dimension',\n       'radius error', 'texture error', 'perimeter error', 'area error',\n       'smoothness error', 'compactness error', 'concavity error',\n       'concave points error', 'symmetry error',\n       'fractal dimension error', 'worst radius', 'worst texture',\n       'worst perimeter', 'worst area', 'worst smoothness',\n       'worst compactness', 'worst concavity', 'worst concave points',\n       'worst symmetry', 'worst fractal dimension'], dtype='<U23')"
     },
     "execution_count": 20,
     "metadata": {},
     "output_type": "execute_result"
    }
   ],
   "source": [
    "dataset['feature_names']"
   ],
   "metadata": {
    "collapsed": false,
    "pycharm": {
     "name": "#%%\n"
    }
   }
  },
  {
   "cell_type": "code",
   "execution_count": 30,
   "outputs": [],
   "source": [
    "error = predictions-y_test"
   ],
   "metadata": {
    "collapsed": false,
    "pycharm": {
     "name": "#%%\n"
    }
   }
  },
  {
   "cell_type": "code",
   "execution_count": 40,
   "outputs": [
    {
     "data": {
      "text/plain": "array([ 0,  0,  0,  0,  0,  0,  0,  0,  0,  0,  0,  0,  0, -1,  0,  0,  0,\n        0,  0,  0,  0,  0,  0,  0,  0,  0,  0,  0,  0,  0,  0,  0,  0,  0,\n        0,  0,  0,  0,  0,  0,  0,  0,  0,  0,  0,  0,  0,  0,  0,  0,  0,\n        0,  0,  0,  0,  0,  0,  0,  0,  0,  0,  0,  0,  0,  0,  0,  0,  0,\n        0,  0,  0,  0,  0,  0,  0,  0,  0,  0,  0,  0,  0,  0,  0,  0,  0,\n        0,  0,  0,  0,  0,  0,  0, -1,  0,  0,  0,  0,  0,  0,  0,  0,  0,\n        0,  0,  0,  0,  0,  0,  1,  1,  0,  0,  0,  0,  0,  0,  0,  0,  0,\n        0,  0,  0,  1,  0,  0,  0,  0,  0,  0,  0,  0,  0,  0,  0,  0,  0,\n        0,  0,  0,  0,  0,  0,  0])"
     },
     "execution_count": 40,
     "metadata": {},
     "output_type": "execute_result"
    }
   ],
   "source": [
    "error"
   ],
   "metadata": {
    "collapsed": false,
    "pycharm": {
     "name": "#%%\n"
    }
   }
  },
  {
   "cell_type": "code",
   "execution_count": 33,
   "outputs": [],
   "source": [
    "pepe = X_test[0]\n",
    "ana = X_test[1]"
   ],
   "metadata": {
    "collapsed": false,
    "pycharm": {
     "name": "#%%\n"
    }
   }
  },
  {
   "cell_type": "code",
   "execution_count": 39,
   "outputs": [
    {
     "data": {
      "text/plain": "   mean radius  mean texture  mean perimeter  mean area  mean smoothness  \\\n0    -0.206561      0.286311       -0.137124   -0.27926         1.013376   \n\n   mean compactness  mean concavity  mean concave points  mean symmetry  \\\n0          0.806556         0.69932             0.846065       1.111279   \n\n   mean fractal dimension  ...  worst radius  worst texture  worst perimeter  \\\n0                1.481735  ...      0.029159        0.64857          0.17987   \n\n   worst area  worst smoothness  worst compactness  worst concavity  \\\n0   -0.063607          1.097274           0.835474         1.143785   \n\n   worst concave points  worst symmetry  worst fractal dimension  \n0              1.377912        1.106957                 1.493688  \n\n[1 rows x 30 columns]",
      "text/html": "<div>\n<style scoped>\n    .dataframe tbody tr th:only-of-type {\n        vertical-align: middle;\n    }\n\n    .dataframe tbody tr th {\n        vertical-align: top;\n    }\n\n    .dataframe thead th {\n        text-align: right;\n    }\n</style>\n<table border=\"1\" class=\"dataframe\">\n  <thead>\n    <tr style=\"text-align: right;\">\n      <th></th>\n      <th>mean radius</th>\n      <th>mean texture</th>\n      <th>mean perimeter</th>\n      <th>mean area</th>\n      <th>mean smoothness</th>\n      <th>mean compactness</th>\n      <th>mean concavity</th>\n      <th>mean concave points</th>\n      <th>mean symmetry</th>\n      <th>mean fractal dimension</th>\n      <th>...</th>\n      <th>worst radius</th>\n      <th>worst texture</th>\n      <th>worst perimeter</th>\n      <th>worst area</th>\n      <th>worst smoothness</th>\n      <th>worst compactness</th>\n      <th>worst concavity</th>\n      <th>worst concave points</th>\n      <th>worst symmetry</th>\n      <th>worst fractal dimension</th>\n    </tr>\n  </thead>\n  <tbody>\n    <tr>\n      <th>0</th>\n      <td>-0.206561</td>\n      <td>0.286311</td>\n      <td>-0.137124</td>\n      <td>-0.27926</td>\n      <td>1.013376</td>\n      <td>0.806556</td>\n      <td>0.69932</td>\n      <td>0.846065</td>\n      <td>1.111279</td>\n      <td>1.481735</td>\n      <td>...</td>\n      <td>0.029159</td>\n      <td>0.64857</td>\n      <td>0.17987</td>\n      <td>-0.063607</td>\n      <td>1.097274</td>\n      <td>0.835474</td>\n      <td>1.143785</td>\n      <td>1.377912</td>\n      <td>1.106957</td>\n      <td>1.493688</td>\n    </tr>\n  </tbody>\n</table>\n<p>1 rows × 30 columns</p>\n</div>"
     },
     "execution_count": 39,
     "metadata": {},
     "output_type": "execute_result"
    }
   ],
   "source": [
    "pd.DataFrame(pepe.reshape(1, -1), columns=dataset['feature_names'])"
   ],
   "metadata": {
    "collapsed": false,
    "pycharm": {
     "name": "#%%\n"
    }
   }
  },
  {
   "cell_type": "code",
   "execution_count": 36,
   "outputs": [
    {
     "data": {
      "text/plain": "array([0])"
     },
     "execution_count": 36,
     "metadata": {},
     "output_type": "execute_result"
    }
   ],
   "source": [
    "model.predict(pepe.reshape(1, -1))"
   ],
   "metadata": {
    "collapsed": false,
    "pycharm": {
     "name": "#%%\n"
    }
   }
  },
  {
   "cell_type": "code",
   "execution_count": 37,
   "outputs": [
    {
     "data": {
      "text/plain": "array([1])"
     },
     "execution_count": 37,
     "metadata": {},
     "output_type": "execute_result"
    }
   ],
   "source": [
    "model.predict(ana.reshape(1, -1))\n"
   ],
   "metadata": {
    "collapsed": false,
    "pycharm": {
     "name": "#%%\n"
    }
   }
  },
  {
   "cell_type": "markdown",
   "source": [
    "Necesitamos entonces calcular la precision de nuestro modelo\n"
   ],
   "metadata": {
    "collapsed": false,
    "pycharm": {
     "name": "#%% md\n"
    }
   }
  },
  {
   "cell_type": "code",
   "execution_count": 41,
   "outputs": [
    {
     "name": "stdout",
     "output_type": "stream",
     "text": [
      "True Positive(TP)  =  88\n",
      "False Positive(FP) =  3\n",
      "True Negative(TN)  =  50\n",
      "False Negative(FN) =  2\n",
      "Accuracy of the binary classification = 0.965\n"
     ]
    }
   ],
   "source": [
    "from sklearn.metrics import confusion_matrix\n",
    "\n",
    "cm = confusion_matrix(y_test, predictions)\n",
    "\n",
    "TN, FP, FN, TP = cm.ravel()\n",
    "\n",
    "print('True Positive(TP)  = ', TP)\n",
    "print('False Positive(FP) = ', FP)\n",
    "print('True Negative(TN)  = ', TN)\n",
    "print('False Negative(FN) = ', FN)\n",
    "\n",
    "accuracy =  (TP+TN) /(TP+FP+TN+FN)\n",
    "\n",
    "print('Accuracy of the binary classification = {:0.3f}'.format(accuracy))"
   ],
   "metadata": {
    "collapsed": false,
    "pycharm": {
     "name": "#%%\n"
    }
   }
  },
  {
   "cell_type": "code",
   "execution_count": null,
   "outputs": [],
   "source": [
    "#https://www.learndatasci.com/glossary/binary-classification/\n"
   ],
   "metadata": {
    "collapsed": false,
    "pycharm": {
     "name": "#%%\n"
    }
   }
  }
 ],
 "metadata": {
  "kernelspec": {
   "display_name": "Python 3",
   "language": "python",
   "name": "python3"
  },
  "language_info": {
   "codemirror_mode": {
    "name": "ipython",
    "version": 2
   },
   "file_extension": ".py",
   "mimetype": "text/x-python",
   "name": "python",
   "nbconvert_exporter": "python",
   "pygments_lexer": "ipython2",
   "version": "2.7.6"
  }
 },
 "nbformat": 4,
 "nbformat_minor": 0
}