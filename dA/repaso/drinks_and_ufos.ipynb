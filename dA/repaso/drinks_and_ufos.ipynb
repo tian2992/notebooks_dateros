{
 "cells": [
  {
   "cell_type": "code",
   "execution_count": 4,
   "metadata": {
    "pycharm": {
     "name": "#%%\n"
    }
   },
   "outputs": [],
   "source": [
    "import pandas as pd\n",
    "import seaborn as sns"
   ]
  },
  {
   "cell_type": "markdown",
   "metadata": {
    "pycharm": {
     "name": "#%% md\n"
    }
   },
   "source": [
    "# Hoja de trabajo de UFOs y Bebidas\n",
    "\n",
    "Cargamos los datos de consumo de bebidas y tipo por pais.\n"
   ]
  },
  {
   "cell_type": "code",
   "execution_count": 5,
   "metadata": {
    "pycharm": {
     "name": "#%%\n"
    }
   },
   "outputs": [],
   "source": [
    "drinks = pd.read_csv(\"http://bit.ly/drinksbycountry\")"
   ]
  },
  {
   "cell_type": "code",
   "execution_count": 6,
   "metadata": {
    "collapsed": true
   },
   "outputs": [
    {
     "data": {
      "text/plain": "         country  beer_servings  spirit_servings  wine_servings  \\\n0    Afghanistan              0                0              0   \n1        Albania             89              132             54   \n2        Algeria             25                0             14   \n3        Andorra            245              138            312   \n4         Angola            217               57             45   \n..           ...            ...              ...            ...   \n188    Venezuela            333              100              3   \n189      Vietnam            111                2              1   \n190        Yemen              6                0              0   \n191       Zambia             32               19              4   \n192     Zimbabwe             64               18              4   \n\n     total_litres_of_pure_alcohol      continent  \n0                             0.0           Asia  \n1                             4.9         Europe  \n2                             0.7         Africa  \n3                            12.4         Europe  \n4                             5.9         Africa  \n..                            ...            ...  \n188                           7.7  South America  \n189                           2.0           Asia  \n190                           0.1           Asia  \n191                           2.5         Africa  \n192                           4.7         Africa  \n\n[193 rows x 6 columns]",
      "text/html": "<div>\n<style scoped>\n    .dataframe tbody tr th:only-of-type {\n        vertical-align: middle;\n    }\n\n    .dataframe tbody tr th {\n        vertical-align: top;\n    }\n\n    .dataframe thead th {\n        text-align: right;\n    }\n</style>\n<table border=\"1\" class=\"dataframe\">\n  <thead>\n    <tr style=\"text-align: right;\">\n      <th></th>\n      <th>country</th>\n      <th>beer_servings</th>\n      <th>spirit_servings</th>\n      <th>wine_servings</th>\n      <th>total_litres_of_pure_alcohol</th>\n      <th>continent</th>\n    </tr>\n  </thead>\n  <tbody>\n    <tr>\n      <th>0</th>\n      <td>Afghanistan</td>\n      <td>0</td>\n      <td>0</td>\n      <td>0</td>\n      <td>0.0</td>\n      <td>Asia</td>\n    </tr>\n    <tr>\n      <th>1</th>\n      <td>Albania</td>\n      <td>89</td>\n      <td>132</td>\n      <td>54</td>\n      <td>4.9</td>\n      <td>Europe</td>\n    </tr>\n    <tr>\n      <th>2</th>\n      <td>Algeria</td>\n      <td>25</td>\n      <td>0</td>\n      <td>14</td>\n      <td>0.7</td>\n      <td>Africa</td>\n    </tr>\n    <tr>\n      <th>3</th>\n      <td>Andorra</td>\n      <td>245</td>\n      <td>138</td>\n      <td>312</td>\n      <td>12.4</td>\n      <td>Europe</td>\n    </tr>\n    <tr>\n      <th>4</th>\n      <td>Angola</td>\n      <td>217</td>\n      <td>57</td>\n      <td>45</td>\n      <td>5.9</td>\n      <td>Africa</td>\n    </tr>\n    <tr>\n      <th>...</th>\n      <td>...</td>\n      <td>...</td>\n      <td>...</td>\n      <td>...</td>\n      <td>...</td>\n      <td>...</td>\n    </tr>\n    <tr>\n      <th>188</th>\n      <td>Venezuela</td>\n      <td>333</td>\n      <td>100</td>\n      <td>3</td>\n      <td>7.7</td>\n      <td>South America</td>\n    </tr>\n    <tr>\n      <th>189</th>\n      <td>Vietnam</td>\n      <td>111</td>\n      <td>2</td>\n      <td>1</td>\n      <td>2.0</td>\n      <td>Asia</td>\n    </tr>\n    <tr>\n      <th>190</th>\n      <td>Yemen</td>\n      <td>6</td>\n      <td>0</td>\n      <td>0</td>\n      <td>0.1</td>\n      <td>Asia</td>\n    </tr>\n    <tr>\n      <th>191</th>\n      <td>Zambia</td>\n      <td>32</td>\n      <td>19</td>\n      <td>4</td>\n      <td>2.5</td>\n      <td>Africa</td>\n    </tr>\n    <tr>\n      <th>192</th>\n      <td>Zimbabwe</td>\n      <td>64</td>\n      <td>18</td>\n      <td>4</td>\n      <td>4.7</td>\n      <td>Africa</td>\n    </tr>\n  </tbody>\n</table>\n<p>193 rows × 6 columns</p>\n</div>"
     },
     "execution_count": 6,
     "metadata": {},
     "output_type": "execute_result"
    }
   ],
   "source": [
    "drinks"
   ]
  },
  {
   "cell_type": "code",
   "execution_count": 12,
   "outputs": [
    {
     "data": {
      "text/plain": "             beer_servings  spirit_servings  wine_servings  \\\ncountry                                                      \nAfghanistan              0                0              0   \nAlbania                 89              132             54   \nAlgeria                 25                0             14   \nAndorra                245              138            312   \nAngola                 217               57             45   \n...                    ...              ...            ...   \nVenezuela              333              100              3   \nVietnam                111                2              1   \nYemen                    6                0              0   \nZambia                  32               19              4   \nZimbabwe                64               18              4   \n\n             total_litres_of_pure_alcohol      continent  \ncountry                                                   \nAfghanistan                           0.0           Asia  \nAlbania                               4.9         Europe  \nAlgeria                               0.7         Africa  \nAndorra                              12.4         Europe  \nAngola                                5.9         Africa  \n...                                   ...            ...  \nVenezuela                             7.7  South America  \nVietnam                               2.0           Asia  \nYemen                                 0.1           Asia  \nZambia                                2.5         Africa  \nZimbabwe                              4.7         Africa  \n\n[193 rows x 5 columns]",
      "text/html": "<div>\n<style scoped>\n    .dataframe tbody tr th:only-of-type {\n        vertical-align: middle;\n    }\n\n    .dataframe tbody tr th {\n        vertical-align: top;\n    }\n\n    .dataframe thead th {\n        text-align: right;\n    }\n</style>\n<table border=\"1\" class=\"dataframe\">\n  <thead>\n    <tr style=\"text-align: right;\">\n      <th></th>\n      <th>beer_servings</th>\n      <th>spirit_servings</th>\n      <th>wine_servings</th>\n      <th>total_litres_of_pure_alcohol</th>\n      <th>continent</th>\n    </tr>\n    <tr>\n      <th>country</th>\n      <th></th>\n      <th></th>\n      <th></th>\n      <th></th>\n      <th></th>\n    </tr>\n  </thead>\n  <tbody>\n    <tr>\n      <th>Afghanistan</th>\n      <td>0</td>\n      <td>0</td>\n      <td>0</td>\n      <td>0.0</td>\n      <td>Asia</td>\n    </tr>\n    <tr>\n      <th>Albania</th>\n      <td>89</td>\n      <td>132</td>\n      <td>54</td>\n      <td>4.9</td>\n      <td>Europe</td>\n    </tr>\n    <tr>\n      <th>Algeria</th>\n      <td>25</td>\n      <td>0</td>\n      <td>14</td>\n      <td>0.7</td>\n      <td>Africa</td>\n    </tr>\n    <tr>\n      <th>Andorra</th>\n      <td>245</td>\n      <td>138</td>\n      <td>312</td>\n      <td>12.4</td>\n      <td>Europe</td>\n    </tr>\n    <tr>\n      <th>Angola</th>\n      <td>217</td>\n      <td>57</td>\n      <td>45</td>\n      <td>5.9</td>\n      <td>Africa</td>\n    </tr>\n    <tr>\n      <th>...</th>\n      <td>...</td>\n      <td>...</td>\n      <td>...</td>\n      <td>...</td>\n      <td>...</td>\n    </tr>\n    <tr>\n      <th>Venezuela</th>\n      <td>333</td>\n      <td>100</td>\n      <td>3</td>\n      <td>7.7</td>\n      <td>South America</td>\n    </tr>\n    <tr>\n      <th>Vietnam</th>\n      <td>111</td>\n      <td>2</td>\n      <td>1</td>\n      <td>2.0</td>\n      <td>Asia</td>\n    </tr>\n    <tr>\n      <th>Yemen</th>\n      <td>6</td>\n      <td>0</td>\n      <td>0</td>\n      <td>0.1</td>\n      <td>Asia</td>\n    </tr>\n    <tr>\n      <th>Zambia</th>\n      <td>32</td>\n      <td>19</td>\n      <td>4</td>\n      <td>2.5</td>\n      <td>Africa</td>\n    </tr>\n    <tr>\n      <th>Zimbabwe</th>\n      <td>64</td>\n      <td>18</td>\n      <td>4</td>\n      <td>4.7</td>\n      <td>Africa</td>\n    </tr>\n  </tbody>\n</table>\n<p>193 rows × 5 columns</p>\n</div>"
     },
     "execution_count": 12,
     "metadata": {},
     "output_type": "execute_result"
    }
   ],
   "source": [
    "drinks.set_index(\"country\")"
   ],
   "metadata": {
    "collapsed": false,
    "pycharm": {
     "name": "#%%\n"
    }
   }
  },
  {
   "cell_type": "code",
   "execution_count": 15,
   "outputs": [],
   "source": [
    "drinks[\"beer_alcohol_litres\"] = drinks.beer_servings * 0.05 * 0.335\n",
    "# drinks.beer_servings * 0.05 * 0.335"
   ],
   "metadata": {
    "collapsed": false,
    "pycharm": {
     "name": "#%%\n"
    }
   }
  },
  {
   "cell_type": "code",
   "execution_count": 24,
   "outputs": [],
   "source": [
    "drinks[\"beer_percent\"] = (drinks.beer_servings * 0.05 * 0.335 )/ drinks.total_litres_of_pure_alcohol"
   ],
   "metadata": {
    "collapsed": false,
    "pycharm": {
     "name": "#%%\n"
    }
   }
  },
  {
   "cell_type": "code",
   "execution_count": 28,
   "outputs": [
    {
     "data": {
      "text/plain": "             country  beer_servings  spirit_servings  wine_servings  \\\n190            Yemen              6                0              0   \n19            Bhutan             23                0              0   \n189          Vietnam            111                2              1   \n117          Namibia            376                3              1   \n24            Brunei             31                2              1   \n78         Indonesia              5                1              0   \n116          Myanmar              5                1              0   \n118            Nauru             49                0              8   \n157  Solomon Islands             56               11              1   \n80              Iraq              9                3              0   \n70            Guinea              9                0              2   \n39             Congo             76                1              9   \n129            Palau            306               63             23   \n20           Bolivia            167               41              8   \n102         Malaysia             13                4              0   \n109           Mexico            238               68              5   \n188        Venezuela            333              100              3   \n146            Samoa            105               18             24   \n154        Singapore             60               12             11   \n130           Panama            285              104             18   \n\n     total_litres_of_pure_alcohol      continent  beer_alcohol_litres  \\\n190                           0.1           Asia              0.10050   \n19                            0.4           Asia              0.38525   \n189                           2.0           Asia              1.85925   \n117                           6.8         Africa              6.29800   \n24                            0.6           Asia              0.51925   \n78                            0.1           Asia              0.08375   \n116                           0.1           Asia              0.08375   \n118                           1.0        Oceania              0.82075   \n157                           1.2        Oceania              0.93800   \n80                            0.2           Asia              0.15075   \n70                            0.2         Africa              0.15075   \n39                            1.7         Africa              1.27300   \n129                           6.9        Oceania              5.12550   \n20                            3.8  South America              2.79725   \n102                           0.3           Asia              0.21775   \n109                           5.5  North America              3.98650   \n188                           7.7  South America              5.57775   \n146                           2.6        Oceania              1.75875   \n154                           1.5           Asia              1.00500   \n130                           7.2  North America              4.77375   \n\n     spirit_alcohol_litres  beer_percent  \n190                  0.000      1.005000  \n19                   0.000      0.963125  \n189                  0.024      0.929625  \n117                  0.036      0.926176  \n24                   0.024      0.865417  \n78                   0.012      0.837500  \n116                  0.012      0.837500  \n118                  0.000      0.820750  \n157                  0.132      0.781667  \n80                   0.036      0.753750  \n70                   0.000      0.753750  \n39                   0.012      0.748824  \n129                  0.756      0.742826  \n20                   0.492      0.736118  \n102                  0.048      0.725833  \n109                  0.816      0.724818  \n188                  1.200      0.724383  \n146                  0.216      0.676442  \n154                  0.144      0.670000  \n130                  1.248      0.663021  ",
      "text/html": "<div>\n<style scoped>\n    .dataframe tbody tr th:only-of-type {\n        vertical-align: middle;\n    }\n\n    .dataframe tbody tr th {\n        vertical-align: top;\n    }\n\n    .dataframe thead th {\n        text-align: right;\n    }\n</style>\n<table border=\"1\" class=\"dataframe\">\n  <thead>\n    <tr style=\"text-align: right;\">\n      <th></th>\n      <th>country</th>\n      <th>beer_servings</th>\n      <th>spirit_servings</th>\n      <th>wine_servings</th>\n      <th>total_litres_of_pure_alcohol</th>\n      <th>continent</th>\n      <th>beer_alcohol_litres</th>\n      <th>spirit_alcohol_litres</th>\n      <th>beer_percent</th>\n    </tr>\n  </thead>\n  <tbody>\n    <tr>\n      <th>190</th>\n      <td>Yemen</td>\n      <td>6</td>\n      <td>0</td>\n      <td>0</td>\n      <td>0.1</td>\n      <td>Asia</td>\n      <td>0.10050</td>\n      <td>0.000</td>\n      <td>1.005000</td>\n    </tr>\n    <tr>\n      <th>19</th>\n      <td>Bhutan</td>\n      <td>23</td>\n      <td>0</td>\n      <td>0</td>\n      <td>0.4</td>\n      <td>Asia</td>\n      <td>0.38525</td>\n      <td>0.000</td>\n      <td>0.963125</td>\n    </tr>\n    <tr>\n      <th>189</th>\n      <td>Vietnam</td>\n      <td>111</td>\n      <td>2</td>\n      <td>1</td>\n      <td>2.0</td>\n      <td>Asia</td>\n      <td>1.85925</td>\n      <td>0.024</td>\n      <td>0.929625</td>\n    </tr>\n    <tr>\n      <th>117</th>\n      <td>Namibia</td>\n      <td>376</td>\n      <td>3</td>\n      <td>1</td>\n      <td>6.8</td>\n      <td>Africa</td>\n      <td>6.29800</td>\n      <td>0.036</td>\n      <td>0.926176</td>\n    </tr>\n    <tr>\n      <th>24</th>\n      <td>Brunei</td>\n      <td>31</td>\n      <td>2</td>\n      <td>1</td>\n      <td>0.6</td>\n      <td>Asia</td>\n      <td>0.51925</td>\n      <td>0.024</td>\n      <td>0.865417</td>\n    </tr>\n    <tr>\n      <th>78</th>\n      <td>Indonesia</td>\n      <td>5</td>\n      <td>1</td>\n      <td>0</td>\n      <td>0.1</td>\n      <td>Asia</td>\n      <td>0.08375</td>\n      <td>0.012</td>\n      <td>0.837500</td>\n    </tr>\n    <tr>\n      <th>116</th>\n      <td>Myanmar</td>\n      <td>5</td>\n      <td>1</td>\n      <td>0</td>\n      <td>0.1</td>\n      <td>Asia</td>\n      <td>0.08375</td>\n      <td>0.012</td>\n      <td>0.837500</td>\n    </tr>\n    <tr>\n      <th>118</th>\n      <td>Nauru</td>\n      <td>49</td>\n      <td>0</td>\n      <td>8</td>\n      <td>1.0</td>\n      <td>Oceania</td>\n      <td>0.82075</td>\n      <td>0.000</td>\n      <td>0.820750</td>\n    </tr>\n    <tr>\n      <th>157</th>\n      <td>Solomon Islands</td>\n      <td>56</td>\n      <td>11</td>\n      <td>1</td>\n      <td>1.2</td>\n      <td>Oceania</td>\n      <td>0.93800</td>\n      <td>0.132</td>\n      <td>0.781667</td>\n    </tr>\n    <tr>\n      <th>80</th>\n      <td>Iraq</td>\n      <td>9</td>\n      <td>3</td>\n      <td>0</td>\n      <td>0.2</td>\n      <td>Asia</td>\n      <td>0.15075</td>\n      <td>0.036</td>\n      <td>0.753750</td>\n    </tr>\n    <tr>\n      <th>70</th>\n      <td>Guinea</td>\n      <td>9</td>\n      <td>0</td>\n      <td>2</td>\n      <td>0.2</td>\n      <td>Africa</td>\n      <td>0.15075</td>\n      <td>0.000</td>\n      <td>0.753750</td>\n    </tr>\n    <tr>\n      <th>39</th>\n      <td>Congo</td>\n      <td>76</td>\n      <td>1</td>\n      <td>9</td>\n      <td>1.7</td>\n      <td>Africa</td>\n      <td>1.27300</td>\n      <td>0.012</td>\n      <td>0.748824</td>\n    </tr>\n    <tr>\n      <th>129</th>\n      <td>Palau</td>\n      <td>306</td>\n      <td>63</td>\n      <td>23</td>\n      <td>6.9</td>\n      <td>Oceania</td>\n      <td>5.12550</td>\n      <td>0.756</td>\n      <td>0.742826</td>\n    </tr>\n    <tr>\n      <th>20</th>\n      <td>Bolivia</td>\n      <td>167</td>\n      <td>41</td>\n      <td>8</td>\n      <td>3.8</td>\n      <td>South America</td>\n      <td>2.79725</td>\n      <td>0.492</td>\n      <td>0.736118</td>\n    </tr>\n    <tr>\n      <th>102</th>\n      <td>Malaysia</td>\n      <td>13</td>\n      <td>4</td>\n      <td>0</td>\n      <td>0.3</td>\n      <td>Asia</td>\n      <td>0.21775</td>\n      <td>0.048</td>\n      <td>0.725833</td>\n    </tr>\n    <tr>\n      <th>109</th>\n      <td>Mexico</td>\n      <td>238</td>\n      <td>68</td>\n      <td>5</td>\n      <td>5.5</td>\n      <td>North America</td>\n      <td>3.98650</td>\n      <td>0.816</td>\n      <td>0.724818</td>\n    </tr>\n    <tr>\n      <th>188</th>\n      <td>Venezuela</td>\n      <td>333</td>\n      <td>100</td>\n      <td>3</td>\n      <td>7.7</td>\n      <td>South America</td>\n      <td>5.57775</td>\n      <td>1.200</td>\n      <td>0.724383</td>\n    </tr>\n    <tr>\n      <th>146</th>\n      <td>Samoa</td>\n      <td>105</td>\n      <td>18</td>\n      <td>24</td>\n      <td>2.6</td>\n      <td>Oceania</td>\n      <td>1.75875</td>\n      <td>0.216</td>\n      <td>0.676442</td>\n    </tr>\n    <tr>\n      <th>154</th>\n      <td>Singapore</td>\n      <td>60</td>\n      <td>12</td>\n      <td>11</td>\n      <td>1.5</td>\n      <td>Asia</td>\n      <td>1.00500</td>\n      <td>0.144</td>\n      <td>0.670000</td>\n    </tr>\n    <tr>\n      <th>130</th>\n      <td>Panama</td>\n      <td>285</td>\n      <td>104</td>\n      <td>18</td>\n      <td>7.2</td>\n      <td>North America</td>\n      <td>4.77375</td>\n      <td>1.248</td>\n      <td>0.663021</td>\n    </tr>\n  </tbody>\n</table>\n</div>"
     },
     "execution_count": 28,
     "metadata": {},
     "output_type": "execute_result"
    }
   ],
   "source": [
    "drinks.sort_values(\"beer_percent\", ascending=False).head(20)"
   ],
   "metadata": {
    "collapsed": false,
    "pycharm": {
     "name": "#%%\n"
    }
   }
  },
  {
   "cell_type": "code",
   "execution_count": 79,
   "outputs": [],
   "source": [],
   "metadata": {
    "collapsed": false,
    "pycharm": {
     "name": "#%%\n"
    }
   }
  },
  {
   "cell_type": "code",
   "execution_count": 81,
   "outputs": [
    {
     "name": "stderr",
     "output_type": "stream",
     "text": [
      "/home/tian/miniconda3/envs/scientificProject/lib/python3.9/site-packages/seaborn/_decorators.py:36: FutureWarning: Pass the following variable as a keyword arg: x. From version 0.12, the only valid positional argument will be `data`, and passing other arguments without an explicit keyword will result in an error or misinterpretation.\n",
      "  warnings.warn(\n"
     ]
    },
    {
     "ename": "ValueError",
     "evalue": "The truth value of a Series is ambiguous. Use a.empty, a.bool(), a.item(), a.any() or a.all().",
     "output_type": "error",
     "traceback": [
      "\u001B[0;31m---------------------------------------------------------------------------\u001B[0m",
      "\u001B[0;31mValueError\u001B[0m                                Traceback (most recent call last)",
      "\u001B[0;32m<ipython-input-81-d6143ba15106>\u001B[0m in \u001B[0;36m<module>\u001B[0;34m\u001B[0m\n\u001B[0;32m----> 1\u001B[0;31m \u001B[0msns\u001B[0m\u001B[0;34m.\u001B[0m\u001B[0mbarplot\u001B[0m\u001B[0;34m(\u001B[0m\u001B[0mpercentz\u001B[0m\u001B[0;34m)\u001B[0m\u001B[0;34m\u001B[0m\u001B[0;34m\u001B[0m\u001B[0m\n\u001B[0m",
      "\u001B[0;32m~/miniconda3/envs/scientificProject/lib/python3.9/site-packages/seaborn/_decorators.py\u001B[0m in \u001B[0;36minner_f\u001B[0;34m(*args, **kwargs)\u001B[0m\n\u001B[1;32m     44\u001B[0m             )\n\u001B[1;32m     45\u001B[0m         \u001B[0mkwargs\u001B[0m\u001B[0;34m.\u001B[0m\u001B[0mupdate\u001B[0m\u001B[0;34m(\u001B[0m\u001B[0;34m{\u001B[0m\u001B[0mk\u001B[0m\u001B[0;34m:\u001B[0m \u001B[0marg\u001B[0m \u001B[0;32mfor\u001B[0m \u001B[0mk\u001B[0m\u001B[0;34m,\u001B[0m \u001B[0marg\u001B[0m \u001B[0;32min\u001B[0m \u001B[0mzip\u001B[0m\u001B[0;34m(\u001B[0m\u001B[0msig\u001B[0m\u001B[0;34m.\u001B[0m\u001B[0mparameters\u001B[0m\u001B[0;34m,\u001B[0m \u001B[0margs\u001B[0m\u001B[0;34m)\u001B[0m\u001B[0;34m}\u001B[0m\u001B[0;34m)\u001B[0m\u001B[0;34m\u001B[0m\u001B[0;34m\u001B[0m\u001B[0m\n\u001B[0;32m---> 46\u001B[0;31m         \u001B[0;32mreturn\u001B[0m \u001B[0mf\u001B[0m\u001B[0;34m(\u001B[0m\u001B[0;34m**\u001B[0m\u001B[0mkwargs\u001B[0m\u001B[0;34m)\u001B[0m\u001B[0;34m\u001B[0m\u001B[0;34m\u001B[0m\u001B[0m\n\u001B[0m\u001B[1;32m     47\u001B[0m     \u001B[0;32mreturn\u001B[0m \u001B[0minner_f\u001B[0m\u001B[0;34m\u001B[0m\u001B[0;34m\u001B[0m\u001B[0m\n\u001B[1;32m     48\u001B[0m \u001B[0;34m\u001B[0m\u001B[0m\n",
      "\u001B[0;32m~/miniconda3/envs/scientificProject/lib/python3.9/site-packages/seaborn/categorical.py\u001B[0m in \u001B[0;36mbarplot\u001B[0;34m(x, y, hue, data, order, hue_order, estimator, ci, n_boot, units, seed, orient, color, palette, saturation, errcolor, errwidth, capsize, dodge, ax, **kwargs)\u001B[0m\n\u001B[1;32m   3177\u001B[0m ):\n\u001B[1;32m   3178\u001B[0m \u001B[0;34m\u001B[0m\u001B[0m\n\u001B[0;32m-> 3179\u001B[0;31m     plotter = _BarPlotter(x, y, hue, data, order, hue_order,\n\u001B[0m\u001B[1;32m   3180\u001B[0m                           \u001B[0mestimator\u001B[0m\u001B[0;34m,\u001B[0m \u001B[0mci\u001B[0m\u001B[0;34m,\u001B[0m \u001B[0mn_boot\u001B[0m\u001B[0;34m,\u001B[0m \u001B[0munits\u001B[0m\u001B[0;34m,\u001B[0m \u001B[0mseed\u001B[0m\u001B[0;34m,\u001B[0m\u001B[0;34m\u001B[0m\u001B[0;34m\u001B[0m\u001B[0m\n\u001B[1;32m   3181\u001B[0m                           \u001B[0morient\u001B[0m\u001B[0;34m,\u001B[0m \u001B[0mcolor\u001B[0m\u001B[0;34m,\u001B[0m \u001B[0mpalette\u001B[0m\u001B[0;34m,\u001B[0m \u001B[0msaturation\u001B[0m\u001B[0;34m,\u001B[0m\u001B[0;34m\u001B[0m\u001B[0;34m\u001B[0m\u001B[0m\n",
      "\u001B[0;32m~/miniconda3/envs/scientificProject/lib/python3.9/site-packages/seaborn/categorical.py\u001B[0m in \u001B[0;36m__init__\u001B[0;34m(self, x, y, hue, data, order, hue_order, estimator, ci, n_boot, units, seed, orient, color, palette, saturation, errcolor, errwidth, capsize, dodge)\u001B[0m\n\u001B[1;32m   1582\u001B[0m                  errwidth, capsize, dodge):\n\u001B[1;32m   1583\u001B[0m         \u001B[0;34m\"\"\"Initialize the plotter.\"\"\"\u001B[0m\u001B[0;34m\u001B[0m\u001B[0;34m\u001B[0m\u001B[0m\n\u001B[0;32m-> 1584\u001B[0;31m         self.establish_variables(x, y, hue, data, orient,\n\u001B[0m\u001B[1;32m   1585\u001B[0m                                  order, hue_order, units)\n\u001B[1;32m   1586\u001B[0m         \u001B[0mself\u001B[0m\u001B[0;34m.\u001B[0m\u001B[0mestablish_colors\u001B[0m\u001B[0;34m(\u001B[0m\u001B[0mcolor\u001B[0m\u001B[0;34m,\u001B[0m \u001B[0mpalette\u001B[0m\u001B[0;34m,\u001B[0m \u001B[0msaturation\u001B[0m\u001B[0;34m)\u001B[0m\u001B[0;34m\u001B[0m\u001B[0;34m\u001B[0m\u001B[0m\n",
      "\u001B[0;32m~/miniconda3/envs/scientificProject/lib/python3.9/site-packages/seaborn/categorical.py\u001B[0m in \u001B[0;36mestablish_variables\u001B[0;34m(self, x, y, hue, data, orient, order, hue_order, units)\u001B[0m\n\u001B[1;32m    154\u001B[0m \u001B[0;34m\u001B[0m\u001B[0m\n\u001B[1;32m    155\u001B[0m             \u001B[0;31m# Figure out the plotting orientation\u001B[0m\u001B[0;34m\u001B[0m\u001B[0;34m\u001B[0m\u001B[0;34m\u001B[0m\u001B[0m\n\u001B[0;32m--> 156\u001B[0;31m             orient = infer_orient(\n\u001B[0m\u001B[1;32m    157\u001B[0m                 \u001B[0mx\u001B[0m\u001B[0;34m,\u001B[0m \u001B[0my\u001B[0m\u001B[0;34m,\u001B[0m \u001B[0morient\u001B[0m\u001B[0;34m,\u001B[0m \u001B[0mrequire_numeric\u001B[0m\u001B[0;34m=\u001B[0m\u001B[0mself\u001B[0m\u001B[0;34m.\u001B[0m\u001B[0mrequire_numeric\u001B[0m\u001B[0;34m\u001B[0m\u001B[0;34m\u001B[0m\u001B[0m\n\u001B[1;32m    158\u001B[0m             )\n",
      "\u001B[0;32m~/miniconda3/envs/scientificProject/lib/python3.9/site-packages/seaborn/_core.py\u001B[0m in \u001B[0;36minfer_orient\u001B[0;34m(x, y, orient, require_numeric)\u001B[0m\n\u001B[1;32m   1302\u001B[0m     \"\"\"\n\u001B[1;32m   1303\u001B[0m \u001B[0;34m\u001B[0m\u001B[0m\n\u001B[0;32m-> 1304\u001B[0;31m     \u001B[0mx_type\u001B[0m \u001B[0;34m=\u001B[0m \u001B[0;32mNone\u001B[0m \u001B[0;32mif\u001B[0m \u001B[0mx\u001B[0m \u001B[0;32mis\u001B[0m \u001B[0;32mNone\u001B[0m \u001B[0;32melse\u001B[0m \u001B[0mvariable_type\u001B[0m\u001B[0;34m(\u001B[0m\u001B[0mx\u001B[0m\u001B[0;34m)\u001B[0m\u001B[0;34m\u001B[0m\u001B[0;34m\u001B[0m\u001B[0m\n\u001B[0m\u001B[1;32m   1305\u001B[0m     \u001B[0my_type\u001B[0m \u001B[0;34m=\u001B[0m \u001B[0;32mNone\u001B[0m \u001B[0;32mif\u001B[0m \u001B[0my\u001B[0m \u001B[0;32mis\u001B[0m \u001B[0;32mNone\u001B[0m \u001B[0;32melse\u001B[0m \u001B[0mvariable_type\u001B[0m\u001B[0;34m(\u001B[0m\u001B[0my\u001B[0m\u001B[0;34m)\u001B[0m\u001B[0;34m\u001B[0m\u001B[0;34m\u001B[0m\u001B[0m\n\u001B[1;32m   1306\u001B[0m \u001B[0;34m\u001B[0m\u001B[0m\n",
      "\u001B[0;32m~/miniconda3/envs/scientificProject/lib/python3.9/site-packages/seaborn/_core.py\u001B[0m in \u001B[0;36mvariable_type\u001B[0;34m(vector, boolean_type)\u001B[0m\n\u001B[1;32m   1220\u001B[0m \u001B[0;34m\u001B[0m\u001B[0m\n\u001B[1;32m   1221\u001B[0m     \u001B[0;31m# Special-case all-na data, which is always \"numeric\"\u001B[0m\u001B[0;34m\u001B[0m\u001B[0;34m\u001B[0m\u001B[0;34m\u001B[0m\u001B[0m\n\u001B[0;32m-> 1222\u001B[0;31m     \u001B[0;32mif\u001B[0m \u001B[0mpd\u001B[0m\u001B[0;34m.\u001B[0m\u001B[0misna\u001B[0m\u001B[0;34m(\u001B[0m\u001B[0mvector\u001B[0m\u001B[0;34m)\u001B[0m\u001B[0;34m.\u001B[0m\u001B[0mall\u001B[0m\u001B[0;34m(\u001B[0m\u001B[0;34m)\u001B[0m\u001B[0;34m:\u001B[0m\u001B[0;34m\u001B[0m\u001B[0;34m\u001B[0m\u001B[0m\n\u001B[0m\u001B[1;32m   1223\u001B[0m         \u001B[0;32mreturn\u001B[0m \u001B[0;34m\"numeric\"\u001B[0m\u001B[0;34m\u001B[0m\u001B[0;34m\u001B[0m\u001B[0m\n\u001B[1;32m   1224\u001B[0m \u001B[0;34m\u001B[0m\u001B[0m\n",
      "\u001B[0;32m~/miniconda3/envs/scientificProject/lib/python3.9/site-packages/pandas/core/generic.py\u001B[0m in \u001B[0;36m__nonzero__\u001B[0;34m(self)\u001B[0m\n\u001B[1;32m   1440\u001B[0m     \u001B[0;34m@\u001B[0m\u001B[0mfinal\u001B[0m\u001B[0;34m\u001B[0m\u001B[0;34m\u001B[0m\u001B[0m\n\u001B[1;32m   1441\u001B[0m     \u001B[0;32mdef\u001B[0m \u001B[0m__nonzero__\u001B[0m\u001B[0;34m(\u001B[0m\u001B[0mself\u001B[0m\u001B[0;34m)\u001B[0m\u001B[0;34m:\u001B[0m\u001B[0;34m\u001B[0m\u001B[0;34m\u001B[0m\u001B[0m\n\u001B[0;32m-> 1442\u001B[0;31m         raise ValueError(\n\u001B[0m\u001B[1;32m   1443\u001B[0m             \u001B[0;34mf\"The truth value of a {type(self).__name__} is ambiguous. \"\u001B[0m\u001B[0;34m\u001B[0m\u001B[0;34m\u001B[0m\u001B[0m\n\u001B[1;32m   1444\u001B[0m             \u001B[0;34m\"Use a.empty, a.bool(), a.item(), a.any() or a.all().\"\u001B[0m\u001B[0;34m\u001B[0m\u001B[0;34m\u001B[0m\u001B[0m\n",
      "\u001B[0;31mValueError\u001B[0m: The truth value of a Series is ambiguous. Use a.empty, a.bool(), a.item(), a.any() or a.all()."
     ]
    }
   ],
   "source": [],
   "metadata": {
    "collapsed": false,
    "pycharm": {
     "name": "#%%\n"
    }
   }
  },
  {
   "cell_type": "markdown",
   "metadata": {
    "pycharm": {
     "name": "#%% md\n"
    }
   },
   "source": [
    "Pensemos con estos datos que podemos extraer:\n",
    "\n",
    "* porcentaje de consumo total por cada bebida\n",
    "* comparemos top de consumo por cada bebida\n",
    "* cuales son las bebidas favoritas de cada continente\n",
    "* etc\n"
   ]
  },
  {
   "cell_type": "code",
   "execution_count": 21,
   "metadata": {
    "pycharm": {
     "name": "#%%\n"
    }
   },
   "outputs": [
    {
     "data": {
      "text/plain": "array([[<AxesSubplot:title={'center':'beer_servings'}>,\n        <AxesSubplot:title={'center':'spirit_servings'}>],\n       [<AxesSubplot:title={'center':'wine_servings'}>,\n        <AxesSubplot:title={'center':'total_litres_of_pure_alcohol'}>],\n       [<AxesSubplot:title={'center':'beer_alcohol_litres'}>,\n        <AxesSubplot:title={'center':'spirit_alcohol_litres'}>]],\n      dtype=object)"
     },
     "execution_count": 21,
     "metadata": {},
     "output_type": "execute_result"
    },
    {
     "data": {
      "text/plain": "<Figure size 432x288 with 6 Axes>",
      "image/png": "[encoded data removed]"
     },
     "metadata": {
      "needs_background": "light"
     },
     "output_type": "display_data"
    }
   ],
   "source": [
    "drinks.hist()\n",
    "\n"
   ]
  },
  {
   "cell_type": "code",
   "execution_count": 42,
   "outputs": [
    {
     "data": {
      "text/plain": "0           NaN\n1      0.484898\n2      0.000000\n3      0.200323\n4      0.173898\n         ...   \n188    0.233766\n189    0.018000\n190    0.000000\n191    0.136800\n192    0.068936\nLength: 193, dtype: float64"
     },
     "execution_count": 42,
     "metadata": {},
     "output_type": "execute_result"
    }
   ],
   "source": [
    "drinks[\"spirit_alcohol_litres\"] = drinks.spirit_servings * 0.4 * 0.045\n",
    "drinks.spirit_alcohol_litres / drinks.total_litres_of_pure_alcohol\n"
   ],
   "metadata": {
    "collapsed": false,
    "pycharm": {
     "name": "#%%\n"
    }
   }
  },
  {
   "cell_type": "code",
   "execution_count": 86,
   "outputs": [],
   "source": [
    "drinks[\"spirit_percent\"] = (drinks.spirit_servings * 0.4 * 0.045) / drinks.total_litres_of_pure_alcohol\n"
   ],
   "metadata": {
    "collapsed": false,
    "pycharm": {
     "name": "#%%\n"
    }
   }
  },
  {
   "cell_type": "code",
   "execution_count": 87,
   "outputs": [
    {
     "data": {
      "text/plain": "                 country  beer_servings  spirit_servings  wine_servings  \\\n55     Equatorial Guinea             92                0            233   \n171          Timor-Leste              1                1              4   \n83                 Italy             85               42            237   \n185              Uruguay            115               35            220   \n148  Sao Tome & Principe             56               38            140   \n..                   ...            ...              ...            ...   \n107           Mauritania              0                0              0   \n111               Monaco              0                0              0   \n128             Pakistan              0                0              0   \n147           San Marino              0                0              0   \n158              Somalia              0                0              0   \n\n     total_litres_of_pure_alcohol      continent  beer_alcohol_litres  \\\n55                            5.8         Africa              1.54100   \n171                           0.1           Asia              0.01675   \n83                            6.5         Europe              1.42375   \n185                           6.6  South America              1.92625   \n148                           4.2         Africa              0.93800   \n..                            ...            ...                  ...   \n107                           0.0         Africa              0.00000   \n111                           0.0         Europe              0.00000   \n128                           0.0           Asia              0.00000   \n147                           0.0         Europe              0.00000   \n158                           0.0         Africa              0.00000   \n\n     spirit_alcohol_litres  beer_percent  spirit_percent  wine_percent  \n55                   0.000      0.265690        0.000000      0.787379  \n171                  0.018      0.167500        0.180000      0.784000  \n83                   0.756      0.219038        0.116308      0.714646  \n185                  0.630      0.291856        0.095455      0.653333  \n148                  0.684      0.223333        0.162857      0.653333  \n..                     ...           ...             ...           ...  \n107                  0.000           NaN             NaN           NaN  \n111                  0.000           NaN             NaN           NaN  \n128                  0.000           NaN             NaN           NaN  \n147                  0.000           NaN             NaN           NaN  \n158                  0.000           NaN             NaN           NaN  \n\n[193 rows x 11 columns]",
      "text/html": "<div>\n<style scoped>\n    .dataframe tbody tr th:only-of-type {\n        vertical-align: middle;\n    }\n\n    .dataframe tbody tr th {\n        vertical-align: top;\n    }\n\n    .dataframe thead th {\n        text-align: right;\n    }\n</style>\n<table border=\"1\" class=\"dataframe\">\n  <thead>\n    <tr style=\"text-align: right;\">\n      <th></th>\n      <th>country</th>\n      <th>beer_servings</th>\n      <th>spirit_servings</th>\n      <th>wine_servings</th>\n      <th>total_litres_of_pure_alcohol</th>\n      <th>continent</th>\n      <th>beer_alcohol_litres</th>\n      <th>spirit_alcohol_litres</th>\n      <th>beer_percent</th>\n      <th>spirit_percent</th>\n      <th>wine_percent</th>\n    </tr>\n  </thead>\n  <tbody>\n    <tr>\n      <th>55</th>\n      <td>Equatorial Guinea</td>\n      <td>92</td>\n      <td>0</td>\n      <td>233</td>\n      <td>5.8</td>\n      <td>Africa</td>\n      <td>1.54100</td>\n      <td>0.000</td>\n      <td>0.265690</td>\n      <td>0.000000</td>\n      <td>0.787379</td>\n    </tr>\n    <tr>\n      <th>171</th>\n      <td>Timor-Leste</td>\n      <td>1</td>\n      <td>1</td>\n      <td>4</td>\n      <td>0.1</td>\n      <td>Asia</td>\n      <td>0.01675</td>\n      <td>0.018</td>\n      <td>0.167500</td>\n      <td>0.180000</td>\n      <td>0.784000</td>\n    </tr>\n    <tr>\n      <th>83</th>\n      <td>Italy</td>\n      <td>85</td>\n      <td>42</td>\n      <td>237</td>\n      <td>6.5</td>\n      <td>Europe</td>\n      <td>1.42375</td>\n      <td>0.756</td>\n      <td>0.219038</td>\n      <td>0.116308</td>\n      <td>0.714646</td>\n    </tr>\n    <tr>\n      <th>185</th>\n      <td>Uruguay</td>\n      <td>115</td>\n      <td>35</td>\n      <td>220</td>\n      <td>6.6</td>\n      <td>South America</td>\n      <td>1.92625</td>\n      <td>0.630</td>\n      <td>0.291856</td>\n      <td>0.095455</td>\n      <td>0.653333</td>\n    </tr>\n    <tr>\n      <th>148</th>\n      <td>Sao Tome &amp; Principe</td>\n      <td>56</td>\n      <td>38</td>\n      <td>140</td>\n      <td>4.2</td>\n      <td>Africa</td>\n      <td>0.93800</td>\n      <td>0.684</td>\n      <td>0.223333</td>\n      <td>0.162857</td>\n      <td>0.653333</td>\n    </tr>\n    <tr>\n      <th>...</th>\n      <td>...</td>\n      <td>...</td>\n      <td>...</td>\n      <td>...</td>\n      <td>...</td>\n      <td>...</td>\n      <td>...</td>\n      <td>...</td>\n      <td>...</td>\n      <td>...</td>\n      <td>...</td>\n    </tr>\n    <tr>\n      <th>107</th>\n      <td>Mauritania</td>\n      <td>0</td>\n      <td>0</td>\n      <td>0</td>\n      <td>0.0</td>\n      <td>Africa</td>\n      <td>0.00000</td>\n      <td>0.000</td>\n      <td>NaN</td>\n      <td>NaN</td>\n      <td>NaN</td>\n    </tr>\n    <tr>\n      <th>111</th>\n      <td>Monaco</td>\n      <td>0</td>\n      <td>0</td>\n      <td>0</td>\n      <td>0.0</td>\n      <td>Europe</td>\n      <td>0.00000</td>\n      <td>0.000</td>\n      <td>NaN</td>\n      <td>NaN</td>\n      <td>NaN</td>\n    </tr>\n    <tr>\n      <th>128</th>\n      <td>Pakistan</td>\n      <td>0</td>\n      <td>0</td>\n      <td>0</td>\n      <td>0.0</td>\n      <td>Asia</td>\n      <td>0.00000</td>\n      <td>0.000</td>\n      <td>NaN</td>\n      <td>NaN</td>\n      <td>NaN</td>\n    </tr>\n    <tr>\n      <th>147</th>\n      <td>San Marino</td>\n      <td>0</td>\n      <td>0</td>\n      <td>0</td>\n      <td>0.0</td>\n      <td>Europe</td>\n      <td>0.00000</td>\n      <td>0.000</td>\n      <td>NaN</td>\n      <td>NaN</td>\n      <td>NaN</td>\n    </tr>\n    <tr>\n      <th>158</th>\n      <td>Somalia</td>\n      <td>0</td>\n      <td>0</td>\n      <td>0</td>\n      <td>0.0</td>\n      <td>Africa</td>\n      <td>0.00000</td>\n      <td>0.000</td>\n      <td>NaN</td>\n      <td>NaN</td>\n      <td>NaN</td>\n    </tr>\n  </tbody>\n</table>\n<p>193 rows × 11 columns</p>\n</div>"
     },
     "execution_count": 87,
     "metadata": {},
     "output_type": "execute_result"
    }
   ],
   "source": [
    "drinks[\"wine_percent\"] = (drinks.wine_servings * 0.14 * 0.140) / drinks.total_litres_of_pure_alcohol\n",
    "drinks.sort_values(\"wine_percent\", ascending=False)"
   ],
   "metadata": {
    "collapsed": false,
    "pycharm": {
     "name": "#%%\n"
    }
   }
  },
  {
   "cell_type": "code",
   "execution_count": 43,
   "outputs": [
    {
     "data": {
      "text/plain": "          country  beer_servings  spirit_servings  wine_servings  \\\n73          Haiti              1              326              1   \n77          India              9              114              0   \n168    Tajikistan              2               15              0   \n149  Saudi Arabia              0                5              0   \n96        Liberia             19              152              2   \n..            ...            ...              ...            ...   \n107    Mauritania              0                0              0   \n111        Monaco              0                0              0   \n128      Pakistan              0                0              0   \n147    San Marino              0                0              0   \n158       Somalia              0                0              0   \n\n     total_litres_of_pure_alcohol      continent  beer_alcohol_litres  \\\n73                            5.9  North America              0.01675   \n77                            2.2           Asia              0.15075   \n168                           0.3           Asia              0.03350   \n149                           0.1           Asia              0.00000   \n96                            3.1         Africa              0.31825   \n..                            ...            ...                  ...   \n107                           0.0         Africa              0.00000   \n111                           0.0         Europe              0.00000   \n128                           0.0           Asia              0.00000   \n147                           0.0         Europe              0.00000   \n158                           0.0         Africa              0.00000   \n\n     spirit_alcohol_litres  beer_percent  spirit_percent  \n73                   5.868      0.002839        0.994576  \n77                   2.052      0.068523        0.932727  \n168                  0.270      0.111667        0.900000  \n149                  0.090      0.000000        0.900000  \n96                   2.736      0.102661        0.882581  \n..                     ...           ...             ...  \n107                  0.000           NaN             NaN  \n111                  0.000           NaN             NaN  \n128                  0.000           NaN             NaN  \n147                  0.000           NaN             NaN  \n158                  0.000           NaN             NaN  \n\n[193 rows x 10 columns]",
      "text/html": "<div>\n<style scoped>\n    .dataframe tbody tr th:only-of-type {\n        vertical-align: middle;\n    }\n\n    .dataframe tbody tr th {\n        vertical-align: top;\n    }\n\n    .dataframe thead th {\n        text-align: right;\n    }\n</style>\n<table border=\"1\" class=\"dataframe\">\n  <thead>\n    <tr style=\"text-align: right;\">\n      <th></th>\n      <th>country</th>\n      <th>beer_servings</th>\n      <th>spirit_servings</th>\n      <th>wine_servings</th>\n      <th>total_litres_of_pure_alcohol</th>\n      <th>continent</th>\n      <th>beer_alcohol_litres</th>\n      <th>spirit_alcohol_litres</th>\n      <th>beer_percent</th>\n      <th>spirit_percent</th>\n    </tr>\n  </thead>\n  <tbody>\n    <tr>\n      <th>73</th>\n      <td>Haiti</td>\n      <td>1</td>\n      <td>326</td>\n      <td>1</td>\n      <td>5.9</td>\n      <td>North America</td>\n      <td>0.01675</td>\n      <td>5.868</td>\n      <td>0.002839</td>\n      <td>0.994576</td>\n    </tr>\n    <tr>\n      <th>77</th>\n      <td>India</td>\n      <td>9</td>\n      <td>114</td>\n      <td>0</td>\n      <td>2.2</td>\n      <td>Asia</td>\n      <td>0.15075</td>\n      <td>2.052</td>\n      <td>0.068523</td>\n      <td>0.932727</td>\n    </tr>\n    <tr>\n      <th>168</th>\n      <td>Tajikistan</td>\n      <td>2</td>\n      <td>15</td>\n      <td>0</td>\n      <td>0.3</td>\n      <td>Asia</td>\n      <td>0.03350</td>\n      <td>0.270</td>\n      <td>0.111667</td>\n      <td>0.900000</td>\n    </tr>\n    <tr>\n      <th>149</th>\n      <td>Saudi Arabia</td>\n      <td>0</td>\n      <td>5</td>\n      <td>0</td>\n      <td>0.1</td>\n      <td>Asia</td>\n      <td>0.00000</td>\n      <td>0.090</td>\n      <td>0.000000</td>\n      <td>0.900000</td>\n    </tr>\n    <tr>\n      <th>96</th>\n      <td>Liberia</td>\n      <td>19</td>\n      <td>152</td>\n      <td>2</td>\n      <td>3.1</td>\n      <td>Africa</td>\n      <td>0.31825</td>\n      <td>2.736</td>\n      <td>0.102661</td>\n      <td>0.882581</td>\n    </tr>\n    <tr>\n      <th>...</th>\n      <td>...</td>\n      <td>...</td>\n      <td>...</td>\n      <td>...</td>\n      <td>...</td>\n      <td>...</td>\n      <td>...</td>\n      <td>...</td>\n      <td>...</td>\n      <td>...</td>\n    </tr>\n    <tr>\n      <th>107</th>\n      <td>Mauritania</td>\n      <td>0</td>\n      <td>0</td>\n      <td>0</td>\n      <td>0.0</td>\n      <td>Africa</td>\n      <td>0.00000</td>\n      <td>0.000</td>\n      <td>NaN</td>\n      <td>NaN</td>\n    </tr>\n    <tr>\n      <th>111</th>\n      <td>Monaco</td>\n      <td>0</td>\n      <td>0</td>\n      <td>0</td>\n      <td>0.0</td>\n      <td>Europe</td>\n      <td>0.00000</td>\n      <td>0.000</td>\n      <td>NaN</td>\n      <td>NaN</td>\n    </tr>\n    <tr>\n      <th>128</th>\n      <td>Pakistan</td>\n      <td>0</td>\n      <td>0</td>\n      <td>0</td>\n      <td>0.0</td>\n      <td>Asia</td>\n      <td>0.00000</td>\n      <td>0.000</td>\n      <td>NaN</td>\n      <td>NaN</td>\n    </tr>\n    <tr>\n      <th>147</th>\n      <td>San Marino</td>\n      <td>0</td>\n      <td>0</td>\n      <td>0</td>\n      <td>0.0</td>\n      <td>Europe</td>\n      <td>0.00000</td>\n      <td>0.000</td>\n      <td>NaN</td>\n      <td>NaN</td>\n    </tr>\n    <tr>\n      <th>158</th>\n      <td>Somalia</td>\n      <td>0</td>\n      <td>0</td>\n      <td>0</td>\n      <td>0.0</td>\n      <td>Africa</td>\n      <td>0.00000</td>\n      <td>0.000</td>\n      <td>NaN</td>\n      <td>NaN</td>\n    </tr>\n  </tbody>\n</table>\n<p>193 rows × 10 columns</p>\n</div>"
     },
     "execution_count": 43,
     "metadata": {},
     "output_type": "execute_result"
    }
   ],
   "source": [
    "drinks.sort_values(\"spirit_percent\", ascending=False)"
   ],
   "metadata": {
    "collapsed": false,
    "pycharm": {
     "name": "#%%\n"
    }
   }
  },
  {
   "cell_type": "code",
   "execution_count": 45,
   "outputs": [
    {
     "data": {
      "text/plain": "       beer_servings  spirit_servings  wine_servings  \\\ncount     193.000000       193.000000     193.000000   \nmean      106.160622        80.994819      49.450777   \nstd       101.143103        88.284312      79.697598   \nmin         0.000000         0.000000       0.000000   \n25%        20.000000         4.000000       1.000000   \n50%        76.000000        56.000000       8.000000   \n75%       188.000000       128.000000      59.000000   \nmax       376.000000       438.000000     370.000000   \n\n       total_litres_of_pure_alcohol  beer_alcohol_litres  \\\ncount                    193.000000           193.000000   \nmean                       4.717098             1.778190   \nstd                        3.773298             1.694147   \nmin                        0.000000             0.000000   \n25%                        1.300000             0.335000   \n50%                        4.200000             1.273000   \n75%                        7.200000             3.149000   \nmax                       14.400000             6.298000   \n\n       spirit_alcohol_litres  beer_percent  spirit_percent  \ncount             193.000000    180.000000      180.000000  \nmean                1.457907      0.396509        0.323941  \nstd                 1.589118      0.215952        0.254894  \nmin                 0.000000      0.000000        0.000000  \n25%                 0.072000      0.231885        0.130154  \n50%                 1.008000      0.388592        0.259661  \n75%                 2.304000      0.518648        0.511078  \nmax                 7.884000      1.005000        0.994576  ",
      "text/html": "<div>\n<style scoped>\n    .dataframe tbody tr th:only-of-type {\n        vertical-align: middle;\n    }\n\n    .dataframe tbody tr th {\n        vertical-align: top;\n    }\n\n    .dataframe thead th {\n        text-align: right;\n    }\n</style>\n<table border=\"1\" class=\"dataframe\">\n  <thead>\n    <tr style=\"text-align: right;\">\n      <th></th>\n      <th>beer_servings</th>\n      <th>spirit_servings</th>\n      <th>wine_servings</th>\n      <th>total_litres_of_pure_alcohol</th>\n      <th>beer_alcohol_litres</th>\n      <th>spirit_alcohol_litres</th>\n      <th>beer_percent</th>\n      <th>spirit_percent</th>\n    </tr>\n  </thead>\n  <tbody>\n    <tr>\n      <th>count</th>\n      <td>193.000000</td>\n      <td>193.000000</td>\n      <td>193.000000</td>\n      <td>193.000000</td>\n      <td>193.000000</td>\n      <td>193.000000</td>\n      <td>180.000000</td>\n      <td>180.000000</td>\n    </tr>\n    <tr>\n      <th>mean</th>\n      <td>106.160622</td>\n      <td>80.994819</td>\n      <td>49.450777</td>\n      <td>4.717098</td>\n      <td>1.778190</td>\n      <td>1.457907</td>\n      <td>0.396509</td>\n      <td>0.323941</td>\n    </tr>\n    <tr>\n      <th>std</th>\n      <td>101.143103</td>\n      <td>88.284312</td>\n      <td>79.697598</td>\n      <td>3.773298</td>\n      <td>1.694147</td>\n      <td>1.589118</td>\n      <td>0.215952</td>\n      <td>0.254894</td>\n    </tr>\n    <tr>\n      <th>min</th>\n      <td>0.000000</td>\n      <td>0.000000</td>\n      <td>0.000000</td>\n      <td>0.000000</td>\n      <td>0.000000</td>\n      <td>0.000000</td>\n      <td>0.000000</td>\n      <td>0.000000</td>\n    </tr>\n    <tr>\n      <th>25%</th>\n      <td>20.000000</td>\n      <td>4.000000</td>\n      <td>1.000000</td>\n      <td>1.300000</td>\n      <td>0.335000</td>\n      <td>0.072000</td>\n      <td>0.231885</td>\n      <td>0.130154</td>\n    </tr>\n    <tr>\n      <th>50%</th>\n      <td>76.000000</td>\n      <td>56.000000</td>\n      <td>8.000000</td>\n      <td>4.200000</td>\n      <td>1.273000</td>\n      <td>1.008000</td>\n      <td>0.388592</td>\n      <td>0.259661</td>\n    </tr>\n    <tr>\n      <th>75%</th>\n      <td>188.000000</td>\n      <td>128.000000</td>\n      <td>59.000000</td>\n      <td>7.200000</td>\n      <td>3.149000</td>\n      <td>2.304000</td>\n      <td>0.518648</td>\n      <td>0.511078</td>\n    </tr>\n    <tr>\n      <th>max</th>\n      <td>376.000000</td>\n      <td>438.000000</td>\n      <td>370.000000</td>\n      <td>14.400000</td>\n      <td>6.298000</td>\n      <td>7.884000</td>\n      <td>1.005000</td>\n      <td>0.994576</td>\n    </tr>\n  </tbody>\n</table>\n</div>"
     },
     "execution_count": 45,
     "metadata": {},
     "output_type": "execute_result"
    }
   ],
   "source": [
    "drinks.describe()"
   ],
   "metadata": {
    "collapsed": false,
    "pycharm": {
     "name": "#%%\n"
    }
   }
  },
  {
   "cell_type": "code",
   "execution_count": 47,
   "outputs": [
    {
     "data": {
      "text/plain": "     beer_servings  spirit_servings  wine_servings  \\\n0              4.5              5.5            9.5   \n1              9.0             26.0            9.0   \n2             21.0              5.0           41.0   \n3             31.0             29.0           43.0   \n4             50.0             50.0           48.0   \n..             ...              ...            ...   \n188           12.0              6.0            3.0   \n189           41.0             14.5           22.0   \n190           16.5              5.5            9.5   \n191           26.5             40.0           30.5   \n192           39.0             38.5           30.5   \n\n     total_litres_of_pure_alcohol  beer_alcohol_litres  spirit_alcohol_litres  \\\n0                             4.0                  4.5                    5.5   \n1                             7.5                  9.0                   26.0   \n2                            13.5                 21.0                    5.0   \n3                            43.0                 31.0                   29.0   \n4                            45.0                 50.0                   50.0   \n..                            ...                  ...                    ...   \n188                          11.0                 12.0                    6.0   \n189                          26.5                 41.0                   14.5   \n190                          10.0                 16.5                    5.5   \n191                          29.5                 26.5                   40.0   \n192                          39.5                 39.0                   38.5   \n\n     beer_percent  spirit_percent  \n0             NaN             NaN  \n1            14.0            39.0  \n2            38.0             3.5  \n3            15.0            16.0  \n4            42.0            36.0  \n..            ...             ...  \n188          11.0             4.0  \n189          35.0             4.0  \n190          37.0             2.0  \n191          16.0            32.0  \n192          18.0            27.0  \n\n[193 rows x 8 columns]",
      "text/html": "<div>\n<style scoped>\n    .dataframe tbody tr th:only-of-type {\n        vertical-align: middle;\n    }\n\n    .dataframe tbody tr th {\n        vertical-align: top;\n    }\n\n    .dataframe thead th {\n        text-align: right;\n    }\n</style>\n<table border=\"1\" class=\"dataframe\">\n  <thead>\n    <tr style=\"text-align: right;\">\n      <th></th>\n      <th>beer_servings</th>\n      <th>spirit_servings</th>\n      <th>wine_servings</th>\n      <th>total_litres_of_pure_alcohol</th>\n      <th>beer_alcohol_litres</th>\n      <th>spirit_alcohol_litres</th>\n      <th>beer_percent</th>\n      <th>spirit_percent</th>\n    </tr>\n  </thead>\n  <tbody>\n    <tr>\n      <th>0</th>\n      <td>4.5</td>\n      <td>5.5</td>\n      <td>9.5</td>\n      <td>4.0</td>\n      <td>4.5</td>\n      <td>5.5</td>\n      <td>NaN</td>\n      <td>NaN</td>\n    </tr>\n    <tr>\n      <th>1</th>\n      <td>9.0</td>\n      <td>26.0</td>\n      <td>9.0</td>\n      <td>7.5</td>\n      <td>9.0</td>\n      <td>26.0</td>\n      <td>14.0</td>\n      <td>39.0</td>\n    </tr>\n    <tr>\n      <th>2</th>\n      <td>21.0</td>\n      <td>5.0</td>\n      <td>41.0</td>\n      <td>13.5</td>\n      <td>21.0</td>\n      <td>5.0</td>\n      <td>38.0</td>\n      <td>3.5</td>\n    </tr>\n    <tr>\n      <th>3</th>\n      <td>31.0</td>\n      <td>29.0</td>\n      <td>43.0</td>\n      <td>43.0</td>\n      <td>31.0</td>\n      <td>29.0</td>\n      <td>15.0</td>\n      <td>16.0</td>\n    </tr>\n    <tr>\n      <th>4</th>\n      <td>50.0</td>\n      <td>50.0</td>\n      <td>48.0</td>\n      <td>45.0</td>\n      <td>50.0</td>\n      <td>50.0</td>\n      <td>42.0</td>\n      <td>36.0</td>\n    </tr>\n    <tr>\n      <th>...</th>\n      <td>...</td>\n      <td>...</td>\n      <td>...</td>\n      <td>...</td>\n      <td>...</td>\n      <td>...</td>\n      <td>...</td>\n      <td>...</td>\n    </tr>\n    <tr>\n      <th>188</th>\n      <td>12.0</td>\n      <td>6.0</td>\n      <td>3.0</td>\n      <td>11.0</td>\n      <td>12.0</td>\n      <td>6.0</td>\n      <td>11.0</td>\n      <td>4.0</td>\n    </tr>\n    <tr>\n      <th>189</th>\n      <td>41.0</td>\n      <td>14.5</td>\n      <td>22.0</td>\n      <td>26.5</td>\n      <td>41.0</td>\n      <td>14.5</td>\n      <td>35.0</td>\n      <td>4.0</td>\n    </tr>\n    <tr>\n      <th>190</th>\n      <td>16.5</td>\n      <td>5.5</td>\n      <td>9.5</td>\n      <td>10.0</td>\n      <td>16.5</td>\n      <td>5.5</td>\n      <td>37.0</td>\n      <td>2.0</td>\n    </tr>\n    <tr>\n      <th>191</th>\n      <td>26.5</td>\n      <td>40.0</td>\n      <td>30.5</td>\n      <td>29.5</td>\n      <td>26.5</td>\n      <td>40.0</td>\n      <td>16.0</td>\n      <td>32.0</td>\n    </tr>\n    <tr>\n      <th>192</th>\n      <td>39.0</td>\n      <td>38.5</td>\n      <td>30.5</td>\n      <td>39.5</td>\n      <td>39.0</td>\n      <td>38.5</td>\n      <td>18.0</td>\n      <td>27.0</td>\n    </tr>\n  </tbody>\n</table>\n<p>193 rows × 8 columns</p>\n</div>"
     },
     "execution_count": 47,
     "metadata": {},
     "output_type": "execute_result"
    }
   ],
   "source": [
    "drinks.groupby(\"continent\").rank()"
   ],
   "metadata": {
    "collapsed": false,
    "pycharm": {
     "name": "#%%\n"
    }
   }
  },
  {
   "cell_type": "code",
   "execution_count": 95,
   "outputs": [
    {
     "data": {
      "text/plain": "<AxesSubplot:xlabel='country'>"
     },
     "execution_count": 95,
     "metadata": {},
     "output_type": "execute_result"
    },
    {
     "data": {
      "text/plain": "<Figure size 432x288 with 1 Axes>",
      "image/png": "[encoded data removed]"
     },
     "metadata": {
      "needs_background": "light"
     },
     "output_type": "display_data"
    }
   ],
   "source": [
    "percentz = drinks[['country','wine_percent', 'beer_percent', 'spirit_percent']]\n",
    "\n",
    "percentz.set_index(\"country\").sort_values(\"spirit_percent\", ascending=True).head(20).plot(kind='bar', stacked=True)\n"
   ],
   "metadata": {
    "collapsed": false,
    "pycharm": {
     "name": "#%%\n"
    }
   }
  },
  {
   "cell_type": "markdown",
   "metadata": {
    "pycharm": {
     "name": "#%% md\n"
    }
   },
   "source": [
    "# Ahora los a 🛸 UFOs 👽\n",
    "\n",
    "Importamos los avistamientos. Pensemos que podemos extraer con este recurso.\n",
    "👾"
   ]
  },
  {
   "cell_type": "code",
   "execution_count": 5,
   "metadata": {
    "pycharm": {
     "name": "#%%\n"
    }
   },
   "outputs": [],
   "source": [
    "ufos = pd.read_csv(\"http://bit.ly/uforeports\")"
   ]
  },
  {
   "cell_type": "code",
   "execution_count": 9,
   "metadata": {
    "pycharm": {
     "name": "#%%\n"
    }
   },
   "outputs": [
    {
     "data": {
      "text/plain": "                   City Colors Reported Shape Reported State             Time\n0                Ithaca             NaN       TRIANGLE    NY   6/1/1930 22:00\n1           Willingboro             NaN          OTHER    NJ  6/30/1930 20:00\n2               Holyoke             NaN           OVAL    CO  2/15/1931 14:00\n3               Abilene             NaN           DISK    KS   6/1/1931 13:00\n4  New York Worlds Fair             NaN          LIGHT    NY  4/18/1933 19:00",
      "text/html": "<div>\n<style scoped>\n    .dataframe tbody tr th:only-of-type {\n        vertical-align: middle;\n    }\n\n    .dataframe tbody tr th {\n        vertical-align: top;\n    }\n\n    .dataframe thead th {\n        text-align: right;\n    }\n</style>\n<table border=\"1\" class=\"dataframe\">\n  <thead>\n    <tr style=\"text-align: right;\">\n      <th></th>\n      <th>City</th>\n      <th>Colors Reported</th>\n      <th>Shape Reported</th>\n      <th>State</th>\n      <th>Time</th>\n    </tr>\n  </thead>\n  <tbody>\n    <tr>\n      <th>0</th>\n      <td>Ithaca</td>\n      <td>NaN</td>\n      <td>TRIANGLE</td>\n      <td>NY</td>\n      <td>6/1/1930 22:00</td>\n    </tr>\n    <tr>\n      <th>1</th>\n      <td>Willingboro</td>\n      <td>NaN</td>\n      <td>OTHER</td>\n      <td>NJ</td>\n      <td>6/30/1930 20:00</td>\n    </tr>\n    <tr>\n      <th>2</th>\n      <td>Holyoke</td>\n      <td>NaN</td>\n      <td>OVAL</td>\n      <td>CO</td>\n      <td>2/15/1931 14:00</td>\n    </tr>\n    <tr>\n      <th>3</th>\n      <td>Abilene</td>\n      <td>NaN</td>\n      <td>DISK</td>\n      <td>KS</td>\n      <td>6/1/1931 13:00</td>\n    </tr>\n    <tr>\n      <th>4</th>\n      <td>New York Worlds Fair</td>\n      <td>NaN</td>\n      <td>LIGHT</td>\n      <td>NY</td>\n      <td>4/18/1933 19:00</td>\n    </tr>\n  </tbody>\n</table>\n</div>"
     },
     "execution_count": 9,
     "metadata": {},
     "output_type": "execute_result"
    }
   ],
   "source": [
    "ufos.head()"
   ]
  },
  {
   "cell_type": "code",
   "execution_count": 10,
   "metadata": {
    "pycharm": {
     "name": "#%%\n"
    }
   },
   "outputs": [
    {
     "data": {
      "text/plain": "           City Colors Reported Shape Reported  State              Time\ncount     18216            2882          15597  18241             18241\nunique     6476              27             27     52             16145\ntop     Seattle             RED          LIGHT     CA  11/16/1999 19:00\nfreq        187             780           2803   2529                27",
      "text/html": "<div>\n<style scoped>\n    .dataframe tbody tr th:only-of-type {\n        vertical-align: middle;\n    }\n\n    .dataframe tbody tr th {\n        vertical-align: top;\n    }\n\n    .dataframe thead th {\n        text-align: right;\n    }\n</style>\n<table border=\"1\" class=\"dataframe\">\n  <thead>\n    <tr style=\"text-align: right;\">\n      <th></th>\n      <th>City</th>\n      <th>Colors Reported</th>\n      <th>Shape Reported</th>\n      <th>State</th>\n      <th>Time</th>\n    </tr>\n  </thead>\n  <tbody>\n    <tr>\n      <th>count</th>\n      <td>18216</td>\n      <td>2882</td>\n      <td>15597</td>\n      <td>18241</td>\n      <td>18241</td>\n    </tr>\n    <tr>\n      <th>unique</th>\n      <td>6476</td>\n      <td>27</td>\n      <td>27</td>\n      <td>52</td>\n      <td>16145</td>\n    </tr>\n    <tr>\n      <th>top</th>\n      <td>Seattle</td>\n      <td>RED</td>\n      <td>LIGHT</td>\n      <td>CA</td>\n      <td>11/16/1999 19:00</td>\n    </tr>\n    <tr>\n      <th>freq</th>\n      <td>187</td>\n      <td>780</td>\n      <td>2803</td>\n      <td>2529</td>\n      <td>27</td>\n    </tr>\n  </tbody>\n</table>\n</div>"
     },
     "execution_count": 10,
     "metadata": {},
     "output_type": "execute_result"
    }
   ],
   "source": [
    "ufos.describe()"
   ]
  },
  {
   "cell_type": "markdown",
   "metadata": {},
   "source": []
  },
  {
   "cell_type": "code",
   "execution_count": 48,
   "outputs": [
    {
     "data": {
      "text/plain": "                                 Colors Reported  Shape Reported  Time\nState City                                                            \nAK    Adak                                     0               1     1\n      Alaska                                   0               2     2\n      Anchorage                                2              12    12\n      Arctic                                   0               1     1\n      Auke Bay                                 2               2     2\n...                                          ...             ...   ...\nWY    Ten Sleep                                0               1     1\n      Wheeling                                 0               0     1\n      Wyoming                                  0               2     2\n      Yellowstone National Park                0               1     1\n      Yellowstone Park                         0               1     1\n\n[8029 rows x 3 columns]",
      "text/html": "<div>\n<style scoped>\n    .dataframe tbody tr th:only-of-type {\n        vertical-align: middle;\n    }\n\n    .dataframe tbody tr th {\n        vertical-align: top;\n    }\n\n    .dataframe thead th {\n        text-align: right;\n    }\n</style>\n<table border=\"1\" class=\"dataframe\">\n  <thead>\n    <tr style=\"text-align: right;\">\n      <th></th>\n      <th></th>\n      <th>Colors Reported</th>\n      <th>Shape Reported</th>\n      <th>Time</th>\n    </tr>\n    <tr>\n      <th>State</th>\n      <th>City</th>\n      <th></th>\n      <th></th>\n      <th></th>\n    </tr>\n  </thead>\n  <tbody>\n    <tr>\n      <th rowspan=\"5\" valign=\"top\">AK</th>\n      <th>Adak</th>\n      <td>0</td>\n      <td>1</td>\n      <td>1</td>\n    </tr>\n    <tr>\n      <th>Alaska</th>\n      <td>0</td>\n      <td>2</td>\n      <td>2</td>\n    </tr>\n    <tr>\n      <th>Anchorage</th>\n      <td>2</td>\n      <td>12</td>\n      <td>12</td>\n    </tr>\n    <tr>\n      <th>Arctic</th>\n      <td>0</td>\n      <td>1</td>\n      <td>1</td>\n    </tr>\n    <tr>\n      <th>Auke Bay</th>\n      <td>2</td>\n      <td>2</td>\n      <td>2</td>\n    </tr>\n    <tr>\n      <th>...</th>\n      <th>...</th>\n      <td>...</td>\n      <td>...</td>\n      <td>...</td>\n    </tr>\n    <tr>\n      <th rowspan=\"5\" valign=\"top\">WY</th>\n      <th>Ten Sleep</th>\n      <td>0</td>\n      <td>1</td>\n      <td>1</td>\n    </tr>\n    <tr>\n      <th>Wheeling</th>\n      <td>0</td>\n      <td>0</td>\n      <td>1</td>\n    </tr>\n    <tr>\n      <th>Wyoming</th>\n      <td>0</td>\n      <td>2</td>\n      <td>2</td>\n    </tr>\n    <tr>\n      <th>Yellowstone National Park</th>\n      <td>0</td>\n      <td>1</td>\n      <td>1</td>\n    </tr>\n    <tr>\n      <th>Yellowstone Park</th>\n      <td>0</td>\n      <td>1</td>\n      <td>1</td>\n    </tr>\n  </tbody>\n</table>\n<p>8029 rows × 3 columns</p>\n</div>"
     },
     "execution_count": 48,
     "metadata": {},
     "output_type": "execute_result"
    }
   ],
   "source": [
    "\n",
    "ufos.groupby([\"State\",\"City\"]).count()\n"
   ],
   "metadata": {
    "collapsed": false,
    "pycharm": {
     "name": "#%%\n"
    }
   }
  },
  {
   "cell_type": "code",
   "execution_count": 49,
   "outputs": [],
   "source": [
    "agrupado_ciudad = ufos.groupby([\"State\",\"City\"]).count()"
   ],
   "metadata": {
    "collapsed": false,
    "pycharm": {
     "name": "#%%\n"
    }
   }
  },
  {
   "cell_type": "code",
   "execution_count": 52,
   "outputs": [
    {
     "data": {
      "text/plain": "MultiIndex([('AK',                        'Adak'),\n            ('AK',                      'Alaska'),\n            ('AK',                   'Anchorage'),\n            ('AK',                      'Arctic'),\n            ('AK',                    'Auke Bay'),\n            ('AK',                  'Bering Sea'),\n            ('AK',                      'Bethel'),\n            ('AK',                    'Big Lake'),\n            ('AK',                    'Cantwell'),\n            ('AK',                     'Chugiak'),\n            ...\n            ('WY',                    'Riverton'),\n            ('WY',                  'Rock River'),\n            ('WY', 'Rock Spings, 2miles west of'),\n            ('WY',                'Rock Springs'),\n            ('WY',                    'Sheridan'),\n            ('WY',                   'Ten Sleep'),\n            ('WY',                    'Wheeling'),\n            ('WY',                     'Wyoming'),\n            ('WY',   'Yellowstone National Park'),\n            ('WY',            'Yellowstone Park')],\n           names=['State', 'City'], length=8029)"
     },
     "execution_count": 52,
     "metadata": {},
     "output_type": "execute_result"
    }
   ],
   "source": [
    "agrupado_ciudad.index"
   ],
   "metadata": {
    "collapsed": false,
    "pycharm": {
     "name": "#%%\n"
    }
   }
  },
  {
   "cell_type": "code",
   "execution_count": 56,
   "outputs": [
    {
     "data": {
      "text/plain": "              Colors Reported  Shape Reported  Time\nCity                                               \nAcampo                      1               1     1\nActon                       2               2     3\nAdelanto                    0               1     1\nAhwahnee                    1               1     1\nAlameda                     0               3     3\n...                       ...             ...   ...\nYreka                       0               2     2\nYuba City                   1               1     1\nYucaipa                     1               3     4\nYucca Valley                0               4     4\nYuma                        0               0     1\n\n[842 rows x 3 columns]",
      "text/html": "<div>\n<style scoped>\n    .dataframe tbody tr th:only-of-type {\n        vertical-align: middle;\n    }\n\n    .dataframe tbody tr th {\n        vertical-align: top;\n    }\n\n    .dataframe thead th {\n        text-align: right;\n    }\n</style>\n<table border=\"1\" class=\"dataframe\">\n  <thead>\n    <tr style=\"text-align: right;\">\n      <th></th>\n      <th>Colors Reported</th>\n      <th>Shape Reported</th>\n      <th>Time</th>\n    </tr>\n    <tr>\n      <th>City</th>\n      <th></th>\n      <th></th>\n      <th></th>\n    </tr>\n  </thead>\n  <tbody>\n    <tr>\n      <th>Acampo</th>\n      <td>1</td>\n      <td>1</td>\n      <td>1</td>\n    </tr>\n    <tr>\n      <th>Acton</th>\n      <td>2</td>\n      <td>2</td>\n      <td>3</td>\n    </tr>\n    <tr>\n      <th>Adelanto</th>\n      <td>0</td>\n      <td>1</td>\n      <td>1</td>\n    </tr>\n    <tr>\n      <th>Ahwahnee</th>\n      <td>1</td>\n      <td>1</td>\n      <td>1</td>\n    </tr>\n    <tr>\n      <th>Alameda</th>\n      <td>0</td>\n      <td>3</td>\n      <td>3</td>\n    </tr>\n    <tr>\n      <th>...</th>\n      <td>...</td>\n      <td>...</td>\n      <td>...</td>\n    </tr>\n    <tr>\n      <th>Yreka</th>\n      <td>0</td>\n      <td>2</td>\n      <td>2</td>\n    </tr>\n    <tr>\n      <th>Yuba City</th>\n      <td>1</td>\n      <td>1</td>\n      <td>1</td>\n    </tr>\n    <tr>\n      <th>Yucaipa</th>\n      <td>1</td>\n      <td>3</td>\n      <td>4</td>\n    </tr>\n    <tr>\n      <th>Yucca Valley</th>\n      <td>0</td>\n      <td>4</td>\n      <td>4</td>\n    </tr>\n    <tr>\n      <th>Yuma</th>\n      <td>0</td>\n      <td>0</td>\n      <td>1</td>\n    </tr>\n  </tbody>\n</table>\n<p>842 rows × 3 columns</p>\n</div>"
     },
     "execution_count": 56,
     "metadata": {},
     "output_type": "execute_result"
    }
   ],
   "source": [
    "agrupado_ciudad.loc[\"CA\"]\n"
   ],
   "metadata": {
    "collapsed": false,
    "pycharm": {
     "name": "#%%\n"
    }
   }
  },
  {
   "cell_type": "code",
   "execution_count": 61,
   "outputs": [
    {
     "data": {
      "text/plain": "                      City  Colors Reported  Time\nShape Reported State                             \nCHEVRON        AR        3                0     3\n               AZ       17                0    17\n               CA       40                6    40\n               CO        5                0     5\n               CT        5                0     5\n...                    ...              ...   ...\nVARIOUS        VA        3                0     3\n               WA       19                6    19\n               WI        3                0     3\n               WV        2                0     2\n               WY        1                0     1\n\n[896 rows x 3 columns]",
      "text/html": "<div>\n<style scoped>\n    .dataframe tbody tr th:only-of-type {\n        vertical-align: middle;\n    }\n\n    .dataframe tbody tr th {\n        vertical-align: top;\n    }\n\n    .dataframe thead th {\n        text-align: right;\n    }\n</style>\n<table border=\"1\" class=\"dataframe\">\n  <thead>\n    <tr style=\"text-align: right;\">\n      <th></th>\n      <th></th>\n      <th>City</th>\n      <th>Colors Reported</th>\n      <th>Time</th>\n    </tr>\n    <tr>\n      <th>Shape Reported</th>\n      <th>State</th>\n      <th></th>\n      <th></th>\n      <th></th>\n    </tr>\n  </thead>\n  <tbody>\n    <tr>\n      <th rowspan=\"5\" valign=\"top\">CHEVRON</th>\n      <th>AR</th>\n      <td>3</td>\n      <td>0</td>\n      <td>3</td>\n    </tr>\n    <tr>\n      <th>AZ</th>\n      <td>17</td>\n      <td>0</td>\n      <td>17</td>\n    </tr>\n    <tr>\n      <th>CA</th>\n      <td>40</td>\n      <td>6</td>\n      <td>40</td>\n    </tr>\n    <tr>\n      <th>CO</th>\n      <td>5</td>\n      <td>0</td>\n      <td>5</td>\n    </tr>\n    <tr>\n      <th>CT</th>\n      <td>5</td>\n      <td>0</td>\n      <td>5</td>\n    </tr>\n    <tr>\n      <th>...</th>\n      <th>...</th>\n      <td>...</td>\n      <td>...</td>\n      <td>...</td>\n    </tr>\n    <tr>\n      <th rowspan=\"5\" valign=\"top\">VARIOUS</th>\n      <th>VA</th>\n      <td>3</td>\n      <td>0</td>\n      <td>3</td>\n    </tr>\n    <tr>\n      <th>WA</th>\n      <td>19</td>\n      <td>6</td>\n      <td>19</td>\n    </tr>\n    <tr>\n      <th>WI</th>\n      <td>3</td>\n      <td>0</td>\n      <td>3</td>\n    </tr>\n    <tr>\n      <th>WV</th>\n      <td>2</td>\n      <td>0</td>\n      <td>2</td>\n    </tr>\n    <tr>\n      <th>WY</th>\n      <td>1</td>\n      <td>0</td>\n      <td>1</td>\n    </tr>\n  </tbody>\n</table>\n<p>896 rows × 3 columns</p>\n</div>"
     },
     "execution_count": 61,
     "metadata": {},
     "output_type": "execute_result"
    }
   ],
   "source": [
    "ufos.groupby([\"Shape Reported\", \"State\"]).count()"
   ],
   "metadata": {
    "collapsed": false,
    "pycharm": {
     "name": "#%%\n"
    }
   }
  },
  {
   "cell_type": "code",
   "execution_count": 63,
   "outputs": [
    {
     "data": {
      "text/plain": "                City  Colors Reported  Time\nShape Reported                             \nCHEVRON           40                6    40\nCIGAR             86               15    86\nCIRCLE           174               32   174\nCONE               6                2     6\nCROSS              8                0     8\nCYLINDER          28                2    28\nDIAMOND           36                4    36\nDISK             286               28   287\nEGG               27                1    27\nFIREBALL         173               61   173\nFLARE              1                0     1\nFLASH             22                3    22\nFORMATION         71                7    71\nLIGHT            394              100   394\nOTHER            207               32   207\nOVAL             101               14   102\nRECTANGLE         41                4    41\nROUND              1                0     1\nSPHERE           154               43   155\nTEARDROP          17                4    17\nTRIANGLE         210               20   210\nVARIOUS           61               11    62",
      "text/html": "<div>\n<style scoped>\n    .dataframe tbody tr th:only-of-type {\n        vertical-align: middle;\n    }\n\n    .dataframe tbody tr th {\n        vertical-align: top;\n    }\n\n    .dataframe thead th {\n        text-align: right;\n    }\n</style>\n<table border=\"1\" class=\"dataframe\">\n  <thead>\n    <tr style=\"text-align: right;\">\n      <th></th>\n      <th>City</th>\n      <th>Colors Reported</th>\n      <th>Time</th>\n    </tr>\n    <tr>\n      <th>Shape Reported</th>\n      <th></th>\n      <th></th>\n      <th></th>\n    </tr>\n  </thead>\n  <tbody>\n    <tr>\n      <th>CHEVRON</th>\n      <td>40</td>\n      <td>6</td>\n      <td>40</td>\n    </tr>\n    <tr>\n      <th>CIGAR</th>\n      <td>86</td>\n      <td>15</td>\n      <td>86</td>\n    </tr>\n    <tr>\n      <th>CIRCLE</th>\n      <td>174</td>\n      <td>32</td>\n      <td>174</td>\n    </tr>\n    <tr>\n      <th>CONE</th>\n      <td>6</td>\n      <td>2</td>\n      <td>6</td>\n    </tr>\n    <tr>\n      <th>CROSS</th>\n      <td>8</td>\n      <td>0</td>\n      <td>8</td>\n    </tr>\n    <tr>\n      <th>CYLINDER</th>\n      <td>28</td>\n      <td>2</td>\n      <td>28</td>\n    </tr>\n    <tr>\n      <th>DIAMOND</th>\n      <td>36</td>\n      <td>4</td>\n      <td>36</td>\n    </tr>\n    <tr>\n      <th>DISK</th>\n      <td>286</td>\n      <td>28</td>\n      <td>287</td>\n    </tr>\n    <tr>\n      <th>EGG</th>\n      <td>27</td>\n      <td>1</td>\n      <td>27</td>\n    </tr>\n    <tr>\n      <th>FIREBALL</th>\n      <td>173</td>\n      <td>61</td>\n      <td>173</td>\n    </tr>\n    <tr>\n      <th>FLARE</th>\n      <td>1</td>\n      <td>0</td>\n      <td>1</td>\n    </tr>\n    <tr>\n      <th>FLASH</th>\n      <td>22</td>\n      <td>3</td>\n      <td>22</td>\n    </tr>\n    <tr>\n      <th>FORMATION</th>\n      <td>71</td>\n      <td>7</td>\n      <td>71</td>\n    </tr>\n    <tr>\n      <th>LIGHT</th>\n      <td>394</td>\n      <td>100</td>\n      <td>394</td>\n    </tr>\n    <tr>\n      <th>OTHER</th>\n      <td>207</td>\n      <td>32</td>\n      <td>207</td>\n    </tr>\n    <tr>\n      <th>OVAL</th>\n      <td>101</td>\n      <td>14</td>\n      <td>102</td>\n    </tr>\n    <tr>\n      <th>RECTANGLE</th>\n      <td>41</td>\n      <td>4</td>\n      <td>41</td>\n    </tr>\n    <tr>\n      <th>ROUND</th>\n      <td>1</td>\n      <td>0</td>\n      <td>1</td>\n    </tr>\n    <tr>\n      <th>SPHERE</th>\n      <td>154</td>\n      <td>43</td>\n      <td>155</td>\n    </tr>\n    <tr>\n      <th>TEARDROP</th>\n      <td>17</td>\n      <td>4</td>\n      <td>17</td>\n    </tr>\n    <tr>\n      <th>TRIANGLE</th>\n      <td>210</td>\n      <td>20</td>\n      <td>210</td>\n    </tr>\n    <tr>\n      <th>VARIOUS</th>\n      <td>61</td>\n      <td>11</td>\n      <td>62</td>\n    </tr>\n  </tbody>\n</table>\n</div>"
     },
     "execution_count": 63,
     "metadata": {},
     "output_type": "execute_result"
    }
   ],
   "source": [
    "ufos.groupby([\"State\", \"Shape Reported\"]).count().loc[\"CA\"]"
   ],
   "metadata": {
    "collapsed": false,
    "pycharm": {
     "name": "#%%\n"
    }
   }
  },
  {
   "cell_type": "code",
   "execution_count": 65,
   "outputs": [
    {
     "data": {
      "text/plain": "                      City  Colors Reported  Time\nState Shape Reported                             \nCA    LIGHT            394              100   394\n      DISK             286               28   287\n      TRIANGLE         210               20   210\n      OTHER            207               32   207\nTX    LIGHT            181               30   181\nCA    CIRCLE           174               32   174\n      FIREBALL         173               61   173\nWA    LIGHT            173               46   173\nCA    SPHERE           154               43   155\nAZ    LIGHT            144               41   144\nFL    LIGHT            137               28   137\nNY    LIGHT            133               22   133\n      DISK             126               15   126\nTX    DISK             121                9   121\nNY    TRIANGLE         115               21   115\nTX    TRIANGLE         105               10   105\nCA    OVAL             101               14   102\nWA    OTHER            101               18   101\nOH    LIGHT            100               11   100\nWA    DISK              99               10    99",
      "text/html": "<div>\n<style scoped>\n    .dataframe tbody tr th:only-of-type {\n        vertical-align: middle;\n    }\n\n    .dataframe tbody tr th {\n        vertical-align: top;\n    }\n\n    .dataframe thead th {\n        text-align: right;\n    }\n</style>\n<table border=\"1\" class=\"dataframe\">\n  <thead>\n    <tr style=\"text-align: right;\">\n      <th></th>\n      <th></th>\n      <th>City</th>\n      <th>Colors Reported</th>\n      <th>Time</th>\n    </tr>\n    <tr>\n      <th>State</th>\n      <th>Shape Reported</th>\n      <th></th>\n      <th></th>\n      <th></th>\n    </tr>\n  </thead>\n  <tbody>\n    <tr>\n      <th rowspan=\"4\" valign=\"top\">CA</th>\n      <th>LIGHT</th>\n      <td>394</td>\n      <td>100</td>\n      <td>394</td>\n    </tr>\n    <tr>\n      <th>DISK</th>\n      <td>286</td>\n      <td>28</td>\n      <td>287</td>\n    </tr>\n    <tr>\n      <th>TRIANGLE</th>\n      <td>210</td>\n      <td>20</td>\n      <td>210</td>\n    </tr>\n    <tr>\n      <th>OTHER</th>\n      <td>207</td>\n      <td>32</td>\n      <td>207</td>\n    </tr>\n    <tr>\n      <th>TX</th>\n      <th>LIGHT</th>\n      <td>181</td>\n      <td>30</td>\n      <td>181</td>\n    </tr>\n    <tr>\n      <th rowspan=\"2\" valign=\"top\">CA</th>\n      <th>CIRCLE</th>\n      <td>174</td>\n      <td>32</td>\n      <td>174</td>\n    </tr>\n    <tr>\n      <th>FIREBALL</th>\n      <td>173</td>\n      <td>61</td>\n      <td>173</td>\n    </tr>\n    <tr>\n      <th>WA</th>\n      <th>LIGHT</th>\n      <td>173</td>\n      <td>46</td>\n      <td>173</td>\n    </tr>\n    <tr>\n      <th>CA</th>\n      <th>SPHERE</th>\n      <td>154</td>\n      <td>43</td>\n      <td>155</td>\n    </tr>\n    <tr>\n      <th>AZ</th>\n      <th>LIGHT</th>\n      <td>144</td>\n      <td>41</td>\n      <td>144</td>\n    </tr>\n    <tr>\n      <th>FL</th>\n      <th>LIGHT</th>\n      <td>137</td>\n      <td>28</td>\n      <td>137</td>\n    </tr>\n    <tr>\n      <th rowspan=\"2\" valign=\"top\">NY</th>\n      <th>LIGHT</th>\n      <td>133</td>\n      <td>22</td>\n      <td>133</td>\n    </tr>\n    <tr>\n      <th>DISK</th>\n      <td>126</td>\n      <td>15</td>\n      <td>126</td>\n    </tr>\n    <tr>\n      <th>TX</th>\n      <th>DISK</th>\n      <td>121</td>\n      <td>9</td>\n      <td>121</td>\n    </tr>\n    <tr>\n      <th>NY</th>\n      <th>TRIANGLE</th>\n      <td>115</td>\n      <td>21</td>\n      <td>115</td>\n    </tr>\n    <tr>\n      <th>TX</th>\n      <th>TRIANGLE</th>\n      <td>105</td>\n      <td>10</td>\n      <td>105</td>\n    </tr>\n    <tr>\n      <th>CA</th>\n      <th>OVAL</th>\n      <td>101</td>\n      <td>14</td>\n      <td>102</td>\n    </tr>\n    <tr>\n      <th>WA</th>\n      <th>OTHER</th>\n      <td>101</td>\n      <td>18</td>\n      <td>101</td>\n    </tr>\n    <tr>\n      <th>OH</th>\n      <th>LIGHT</th>\n      <td>100</td>\n      <td>11</td>\n      <td>100</td>\n    </tr>\n    <tr>\n      <th>WA</th>\n      <th>DISK</th>\n      <td>99</td>\n      <td>10</td>\n      <td>99</td>\n    </tr>\n  </tbody>\n</table>\n</div>"
     },
     "execution_count": 65,
     "metadata": {},
     "output_type": "execute_result"
    }
   ],
   "source": [
    "ufos.groupby([\"State\", \"Shape Reported\"]).count().sort_values(\"Time\", ascending=False).head(20)"
   ],
   "metadata": {
    "collapsed": false,
    "pycharm": {
     "name": "#%%\n"
    }
   }
  },
  {
   "cell_type": "code",
   "execution_count": 7,
   "outputs": [],
   "source": [
    "afas = ufos.pivot_table(aggfunc=len, index='State', columns=\"Shape Reported\")"
   ],
   "metadata": {
    "collapsed": false,
    "pycharm": {
     "name": "#%%\n"
    }
   }
  }
 ],
 "metadata": {
  "kernelspec": {
   "display_name": "Python 3",
   "language": "python",
   "name": "python3"
  },
  "language_info": {
   "codemirror_mode": {
    "name": "ipython",
    "version": 3
   },
   "file_extension": ".py",
   "mimetype": "text/x-python",
   "name": "python",
   "nbconvert_exporter": "python",
   "pygments_lexer": "ipython3",
   "version": "3.9.5"
  }
 },
 "nbformat": 4,
 "nbformat_minor": 1
}