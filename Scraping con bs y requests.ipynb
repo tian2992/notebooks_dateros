{
  "nbformat": 4,
  "nbformat_minor": 0,
  "metadata": {
    "colab": {
      "name": "Scrappy.ipynb",
      "provenance": [],
      "authorship_tag": "ABX9TyPdXRZPAthlY3Qa6zhDbW69",
      "include_colab_link": true
    },
    "kernelspec": {
      "name": "python3",
      "display_name": "Python 3"
    },
    "language_info": {
      "name": "python"
    }
  },
  "cells": [
    {
      "cell_type": "markdown",
      "metadata": {
        "id": "view-in-github",
        "colab_type": "text"
      },
      "source": [
        "<a href=\"https://colab.research.google.com/github/tian2992/notebooks_dateros/blob/master/Scraping%20con%20bs%20y%20requests.ipynb\" target=\"_parent\"><img src=\"https://colab.research.google.com/assets/colab-badge.svg\" alt=\"Open In Colab\"/></a>"
      ]
    },
    {
      "cell_type": "code",
      "metadata": {
        "colab": {
          "base_uri": "https://localhost:8080/"
        },
        "id": "Ol0_Dse1ulAK",
        "outputId": "9f781860-d7ff-4ffb-ee51-928883e2dffa"
      },
      "source": [
        "import requests\n",
        "!pip install beautifulsoup4\n",
        "from bs4 import BeautifulSoup"
      ],
      "execution_count": null,
      "outputs": [
        {
          "output_type": "stream",
          "text": [
            "Requirement already satisfied: beautifulsoup4 in /usr/local/lib/python3.7/dist-packages (4.6.3)\n"
          ],
          "name": "stdout"
        }
      ]
    },
    {
      "cell_type": "code",
      "metadata": {
        "id": "jynLcIyUuo4e"
      },
      "source": [
        "import pandas"
      ],
      "execution_count": null,
      "outputs": []
    },
    {
      "cell_type": "code",
      "metadata": {
        "id": "5fhH0OPbvDAs"
      },
      "source": [
        "url__ratings = 'https://www.allsides.com/media-bias/media-bias-ratings'"
      ],
      "execution_count": null,
      "outputs": []
    },
    {
      "cell_type": "code",
      "metadata": {
        "id": "NGQWEvOPvxNm"
      },
      "source": [
        "r = requests.get(url__ratings)\n"
      ],
      "execution_count": null,
      "outputs": []
    },
    {
      "cell_type": "code",
      "metadata": {
        "colab": {
          "base_uri": "https://localhost:8080/"
        },
        "id": "nBPZE4vzvzY5",
        "outputId": "e97143ce-1adb-4088-b0a0-24412c496f36"
      },
      "source": [
        "r.content[:100]"
      ],
      "execution_count": null,
      "outputs": [
        {
          "output_type": "execute_result",
          "data": {
            "text/plain": [
              "b'<!DOCTYPE html>\\n<!--[if IEMobile 7]><html class=\"iem7\"  lang=\"en\" dir=\"ltr\"><![endif]-->\\n<!--[if lte'"
            ]
          },
          "metadata": {
            "tags": []
          },
          "execution_count": 7
        }
      ]
    },
    {
      "cell_type": "code",
      "metadata": {
        "id": "zIcA18Ffv1Uk"
      },
      "source": [
        "soup = BeautifulSoup(r.content, 'html.parser')"
      ],
      "execution_count": null,
      "outputs": []
    },
    {
      "cell_type": "code",
      "metadata": {
        "colab": {
          "base_uri": "https://localhost:8080/"
        },
        "id": "c2_Lw8-Mv8V9",
        "outputId": "5028b89b-596e-438a-b284-80761bd017a9"
      },
      "source": [
        "soup.select_one(\"title\")"
      ],
      "execution_count": null,
      "outputs": [
        {
          "output_type": "execute_result",
          "data": {
            "text/plain": [
              "<title>Media Bias Ratings AllSides</title>"
            ]
          },
          "metadata": {
            "tags": []
          },
          "execution_count": 12
        }
      ]
    },
    {
      "cell_type": "code",
      "metadata": {
        "id": "tc6I66c9wUSM"
      },
      "source": [
        "soup.select_one(\"table.views-table > tbody\")"
      ],
      "execution_count": null,
      "outputs": []
    },
    {
      "cell_type": "code",
      "metadata": {
        "id": "VRFFZVYpwXIY"
      },
      "source": [
        "rows = soup.select('tbody tr')"
      ],
      "execution_count": null,
      "outputs": []
    },
    {
      "cell_type": "code",
      "metadata": {
        "colab": {
          "base_uri": "https://localhost:8080/",
          "height": 35
        },
        "id": "ELHGpNoSxJyT",
        "outputId": "b02cca13-aec2-4ae9-83e0-788b50c03bb7"
      },
      "source": [
        "rows[0].select_one('.source-title').text.strip()"
      ],
      "execution_count": null,
      "outputs": [
        {
          "output_type": "execute_result",
          "data": {
            "application/vnd.google.colaboratory.intrinsic+json": {
              "type": "string"
            },
            "text/plain": [
              "'ABC News (Online)'"
            ]
          },
          "metadata": {
            "tags": []
          },
          "execution_count": 45
        }
      ]
    },
    {
      "cell_type": "code",
      "metadata": {
        "id": "2gY6bKZnyxfb"
      },
      "source": [
        "row = rows[5]"
      ],
      "execution_count": null,
      "outputs": []
    },
    {
      "cell_type": "code",
      "metadata": {
        "colab": {
          "base_uri": "https://localhost:8080/",
          "height": 35
        },
        "id": "Yldk4q3jxLBZ",
        "outputId": "e8da5ca9-f5d9-4fbf-c2c3-1caf4f4b3c23"
      },
      "source": [
        "row.select_one('.source-title').text.strip()"
      ],
      "execution_count": null,
      "outputs": [
        {
          "output_type": "execute_result",
          "data": {
            "application/vnd.google.colaboratory.intrinsic+json": {
              "type": "string"
            },
            "text/plain": [
              "'BBC News'"
            ]
          },
          "metadata": {
            "tags": []
          },
          "execution_count": 22
        }
      ]
    },
    {
      "cell_type": "code",
      "metadata": {
        "id": "yX6ovvnSxlk4"
      },
      "source": [
        "allsides_page = row.select_one('.source-title a')['href']"
      ],
      "execution_count": null,
      "outputs": []
    },
    {
      "cell_type": "code",
      "metadata": {
        "id": "9Vs7D8LRxxSi"
      },
      "source": [
        "allsides_page = 'https://www.allsides.com' + allsides_page"
      ],
      "execution_count": null,
      "outputs": []
    },
    {
      "cell_type": "code",
      "metadata": {
        "colab": {
          "base_uri": "https://localhost:8080/"
        },
        "id": "QX-szOlwxzWh",
        "outputId": "9294b037-9ae1-41aa-98af-d5bdea61c839"
      },
      "source": [
        "bias = row.select_one('.views-field-field-bias-image a')['href']\n",
        "bias = bias.split('/')[-1]\n",
        "\n",
        "print(bias)"
      ],
      "execution_count": null,
      "outputs": [
        {
          "output_type": "stream",
          "text": [
            "center\n"
          ],
          "name": "stdout"
        }
      ]
    },
    {
      "cell_type": "code",
      "metadata": {
        "colab": {
          "base_uri": "https://localhost:8080/"
        },
        "id": "ODOfysKhx_Q1",
        "outputId": "a419d27c-4458-4854-86f4-d611093b427c"
      },
      "source": [
        "agree = int(row.select_one('.agree').text)\n",
        "disagree = int(row.select_one('.disagree').text)\n",
        "agree_ratio = agree / disagree\n",
        "\n",
        "print(f\"Agree: {agree}, Disagree: {disagree}, Ratio {agree_ratio:.2f}\")"
      ],
      "execution_count": null,
      "outputs": [
        {
          "output_type": "stream",
          "text": [
            "Agree: 27695, Disagree: 23754, Ratio 1.17\n"
          ],
          "name": "stdout"
        }
      ]
    },
    {
      "cell_type": "code",
      "metadata": {
        "colab": {
          "base_uri": "https://localhost:8080/"
        },
        "id": "JdJGrglTyzuo",
        "outputId": "44f3fc5a-471c-4cd8-e35f-706a016fb0ad"
      },
      "source": [
        "agree"
      ],
      "execution_count": null,
      "outputs": [
        {
          "output_type": "execute_result",
          "data": {
            "text/plain": [
              "27695"
            ]
          },
          "metadata": {
            "tags": []
          },
          "execution_count": 33
        }
      ]
    },
    {
      "cell_type": "code",
      "metadata": {
        "colab": {
          "base_uri": "https://localhost:8080/"
        },
        "id": "Vs15rIMRy00b",
        "outputId": "e9fdcb6e-9511-41a4-81e1-ba8503a146c9"
      },
      "source": [
        "print(row.select_one('.community-feedback-rating-page'))"
      ],
      "execution_count": null,
      "outputs": [
        {
          "output_type": "stream",
          "text": [
            "None\n"
          ],
          "name": "stdout"
        }
      ]
    },
    {
      "cell_type": "code",
      "metadata": {
        "id": "dR80aMMkzGRP"
      },
      "source": [
        "def get_agreeance_text(ratio):\n",
        "    if ratio > 3: return \"absolutely agrees\"\n",
        "    elif 2 < ratio <= 3: return \"strongly agrees\"\n",
        "    elif 1.5 < ratio <= 2: return \"agrees\"\n",
        "    elif 1 < ratio <= 1.5: return \"somewhat agrees\"\n",
        "    elif ratio == 1: return \"neutral\"\n",
        "    elif 0.67 < ratio < 1: return \"somewhat disagrees\"\n",
        "    elif 0.5 < ratio <= 0.67: return \"disagrees\"\n",
        "    elif 0.33 < ratio <= 0.5: return \"strongly disagrees\"\n",
        "    elif ratio <= 0.33: return \"absolutely disagrees\"\n",
        "    else: return None\n",
        "\n",
        "data = []\n",
        "\n",
        "for row in rows:\n",
        "    d = dict()\n",
        "\n",
        "    d['name'] = row.select_one('.source-title').text.strip()\n",
        "    d['allsides_page'] = 'https://www.allsides.com' + row.select_one('.source-title a')['href']\n",
        "    d['bias'] = row.select_one('.views-field-field-bias-image a')['href'].split('/')[-1]\n",
        "    d['agree'] = int(row.select_one('.agree').text)\n",
        "    d['disagree'] = int(row.select_one('.disagree').text)\n",
        "    d['agree_ratio'] = d['agree'] / d['disagree']\n",
        "    d['agreeance_text'] = get_agreeance_text(d['agree_ratio'])\n",
        "\n",
        "    data.append(d)"
      ],
      "execution_count": null,
      "outputs": []
    },
    {
      "cell_type": "code",
      "metadata": {
        "id": "S3QfKcpGzdRh"
      },
      "source": [
        "data"
      ],
      "execution_count": null,
      "outputs": []
    },
    {
      "cell_type": "code",
      "metadata": {
        "id": "fxatKQCAzgsc"
      },
      "source": [
        "agree_disagree = pandas.DataFrame(data)"
      ],
      "execution_count": null,
      "outputs": []
    },
    {
      "cell_type": "code",
      "metadata": {
        "colab": {
          "base_uri": "https://localhost:8080/",
          "height": 1000
        },
        "id": "I06qCHc3z7qI",
        "outputId": "3a554460-7acd-4c18-ebc1-04872b146a92"
      },
      "source": [
        "agree_disagree"
      ],
      "execution_count": null,
      "outputs": [
        {
          "output_type": "execute_result",
          "data": {
            "text/html": [
              "<div>\n",
              "<style scoped>\n",
              "    .dataframe tbody tr th:only-of-type {\n",
              "        vertical-align: middle;\n",
              "    }\n",
              "\n",
              "    .dataframe tbody tr th {\n",
              "        vertical-align: top;\n",
              "    }\n",
              "\n",
              "    .dataframe thead th {\n",
              "        text-align: right;\n",
              "    }\n",
              "</style>\n",
              "<table border=\"1\" class=\"dataframe\">\n",
              "  <thead>\n",
              "    <tr style=\"text-align: right;\">\n",
              "      <th></th>\n",
              "      <th>name</th>\n",
              "      <th>allsides_page</th>\n",
              "      <th>bias</th>\n",
              "      <th>agree</th>\n",
              "      <th>disagree</th>\n",
              "      <th>agree_ratio</th>\n",
              "      <th>agreeance_text</th>\n",
              "    </tr>\n",
              "  </thead>\n",
              "  <tbody>\n",
              "    <tr>\n",
              "      <th>0</th>\n",
              "      <td>ABC News (Online)</td>\n",
              "      <td>https://www.allsides.com/news-source/abc-news-...</td>\n",
              "      <td>left-center</td>\n",
              "      <td>33390</td>\n",
              "      <td>17034</td>\n",
              "      <td>1.960197</td>\n",
              "      <td>agrees</td>\n",
              "    </tr>\n",
              "    <tr>\n",
              "      <th>1</th>\n",
              "      <td>AlterNet</td>\n",
              "      <td>https://www.allsides.com/news-source/alternet-...</td>\n",
              "      <td>left</td>\n",
              "      <td>12621</td>\n",
              "      <td>2574</td>\n",
              "      <td>4.903263</td>\n",
              "      <td>absolutely agrees</td>\n",
              "    </tr>\n",
              "    <tr>\n",
              "      <th>2</th>\n",
              "      <td>AP Politics &amp; Fact Check</td>\n",
              "      <td>https://www.allsides.com/news-source/ap-fact-c...</td>\n",
              "      <td>left-center</td>\n",
              "      <td>3893</td>\n",
              "      <td>4630</td>\n",
              "      <td>0.840821</td>\n",
              "      <td>somewhat disagrees</td>\n",
              "    </tr>\n",
              "    <tr>\n",
              "      <th>3</th>\n",
              "      <td>Associated Press</td>\n",
              "      <td>https://www.allsides.com/news-source/associate...</td>\n",
              "      <td>center</td>\n",
              "      <td>25091</td>\n",
              "      <td>18956</td>\n",
              "      <td>1.323644</td>\n",
              "      <td>somewhat agrees</td>\n",
              "    </tr>\n",
              "    <tr>\n",
              "      <th>4</th>\n",
              "      <td>Axios</td>\n",
              "      <td>https://www.allsides.com/news-source/axios</td>\n",
              "      <td>center</td>\n",
              "      <td>5220</td>\n",
              "      <td>5525</td>\n",
              "      <td>0.944796</td>\n",
              "      <td>somewhat disagrees</td>\n",
              "    </tr>\n",
              "    <tr>\n",
              "      <th>5</th>\n",
              "      <td>BBC News</td>\n",
              "      <td>https://www.allsides.com/news-source/bbc-news-...</td>\n",
              "      <td>center</td>\n",
              "      <td>27695</td>\n",
              "      <td>23754</td>\n",
              "      <td>1.165909</td>\n",
              "      <td>somewhat agrees</td>\n",
              "    </tr>\n",
              "    <tr>\n",
              "      <th>6</th>\n",
              "      <td>Bloomberg</td>\n",
              "      <td>https://www.allsides.com/news-source/bloomberg...</td>\n",
              "      <td>left-center</td>\n",
              "      <td>14997</td>\n",
              "      <td>20335</td>\n",
              "      <td>0.737497</td>\n",
              "      <td>somewhat disagrees</td>\n",
              "    </tr>\n",
              "    <tr>\n",
              "      <th>7</th>\n",
              "      <td>Breitbart News</td>\n",
              "      <td>https://www.allsides.com/news-source/breitbart</td>\n",
              "      <td>right</td>\n",
              "      <td>37442</td>\n",
              "      <td>10854</td>\n",
              "      <td>3.449604</td>\n",
              "      <td>absolutely agrees</td>\n",
              "    </tr>\n",
              "    <tr>\n",
              "      <th>8</th>\n",
              "      <td>BuzzFeed News</td>\n",
              "      <td>https://www.allsides.com/news-source/buzzfeed-...</td>\n",
              "      <td>left</td>\n",
              "      <td>22958</td>\n",
              "      <td>8937</td>\n",
              "      <td>2.568871</td>\n",
              "      <td>strongly agrees</td>\n",
              "    </tr>\n",
              "    <tr>\n",
              "      <th>9</th>\n",
              "      <td>CBS News (Online)</td>\n",
              "      <td>https://www.allsides.com/news-source/cbs-news-...</td>\n",
              "      <td>left-center</td>\n",
              "      <td>17982</td>\n",
              "      <td>11474</td>\n",
              "      <td>1.567195</td>\n",
              "      <td>agrees</td>\n",
              "    </tr>\n",
              "    <tr>\n",
              "      <th>10</th>\n",
              "      <td>Christian Science Monitor</td>\n",
              "      <td>https://www.allsides.com/news-source/christian...</td>\n",
              "      <td>center</td>\n",
              "      <td>14924</td>\n",
              "      <td>18533</td>\n",
              "      <td>0.805266</td>\n",
              "      <td>somewhat disagrees</td>\n",
              "    </tr>\n",
              "    <tr>\n",
              "      <th>11</th>\n",
              "      <td>CNN (Online News)</td>\n",
              "      <td>https://www.allsides.com/news-source/cnn-media...</td>\n",
              "      <td>left</td>\n",
              "      <td>48085</td>\n",
              "      <td>46748</td>\n",
              "      <td>1.028600</td>\n",
              "      <td>somewhat agrees</td>\n",
              "    </tr>\n",
              "    <tr>\n",
              "      <th>12</th>\n",
              "      <td>CNN (Opinion)</td>\n",
              "      <td>https://www.allsides.com/news-source/cnn-edito...</td>\n",
              "      <td>left</td>\n",
              "      <td>31064</td>\n",
              "      <td>6835</td>\n",
              "      <td>4.544843</td>\n",
              "      <td>absolutely agrees</td>\n",
              "    </tr>\n",
              "    <tr>\n",
              "      <th>13</th>\n",
              "      <td>Daily Beast</td>\n",
              "      <td>https://www.allsides.com/news-source/daily-bea...</td>\n",
              "      <td>left</td>\n",
              "      <td>18175</td>\n",
              "      <td>5838</td>\n",
              "      <td>3.113224</td>\n",
              "      <td>absolutely agrees</td>\n",
              "    </tr>\n",
              "    <tr>\n",
              "      <th>14</th>\n",
              "      <td>Daily Mail</td>\n",
              "      <td>https://www.allsides.com/news-source/daily-mail</td>\n",
              "      <td>right</td>\n",
              "      <td>10843</td>\n",
              "      <td>5970</td>\n",
              "      <td>1.816248</td>\n",
              "      <td>agrees</td>\n",
              "    </tr>\n",
              "    <tr>\n",
              "      <th>15</th>\n",
              "      <td>Democracy Now</td>\n",
              "      <td>https://www.allsides.com/news-source/democracy...</td>\n",
              "      <td>left</td>\n",
              "      <td>12522</td>\n",
              "      <td>2849</td>\n",
              "      <td>4.395226</td>\n",
              "      <td>absolutely agrees</td>\n",
              "    </tr>\n",
              "    <tr>\n",
              "      <th>16</th>\n",
              "      <td>Forbes</td>\n",
              "      <td>https://www.allsides.com/news-source/forbes</td>\n",
              "      <td>center</td>\n",
              "      <td>12752</td>\n",
              "      <td>7556</td>\n",
              "      <td>1.687665</td>\n",
              "      <td>agrees</td>\n",
              "    </tr>\n",
              "    <tr>\n",
              "      <th>17</th>\n",
              "      <td>Fox News (Online News)</td>\n",
              "      <td>https://www.allsides.com/news-source/fox-news-...</td>\n",
              "      <td>right</td>\n",
              "      <td>39413</td>\n",
              "      <td>46064</td>\n",
              "      <td>0.855614</td>\n",
              "      <td>somewhat disagrees</td>\n",
              "    </tr>\n",
              "    <tr>\n",
              "      <th>18</th>\n",
              "      <td>Fox News (Opinion)</td>\n",
              "      <td>https://www.allsides.com/news-source/fox-news-...</td>\n",
              "      <td>right</td>\n",
              "      <td>25709</td>\n",
              "      <td>6030</td>\n",
              "      <td>4.263516</td>\n",
              "      <td>absolutely agrees</td>\n",
              "    </tr>\n",
              "    <tr>\n",
              "      <th>19</th>\n",
              "      <td>HuffPost</td>\n",
              "      <td>https://www.allsides.com/news-source/huffpost-...</td>\n",
              "      <td>left</td>\n",
              "      <td>34235</td>\n",
              "      <td>21999</td>\n",
              "      <td>1.556207</td>\n",
              "      <td>agrees</td>\n",
              "    </tr>\n",
              "    <tr>\n",
              "      <th>20</th>\n",
              "      <td>Mother Jones</td>\n",
              "      <td>https://www.allsides.com/news-source/mother-jo...</td>\n",
              "      <td>left</td>\n",
              "      <td>14336</td>\n",
              "      <td>2081</td>\n",
              "      <td>6.888996</td>\n",
              "      <td>absolutely agrees</td>\n",
              "    </tr>\n",
              "    <tr>\n",
              "      <th>21</th>\n",
              "      <td>MSNBC</td>\n",
              "      <td>https://www.allsides.com/news-source/msnbc</td>\n",
              "      <td>left</td>\n",
              "      <td>19574</td>\n",
              "      <td>5104</td>\n",
              "      <td>3.835031</td>\n",
              "      <td>absolutely agrees</td>\n",
              "    </tr>\n",
              "    <tr>\n",
              "      <th>22</th>\n",
              "      <td>National Review</td>\n",
              "      <td>https://www.allsides.com/news-source/national-...</td>\n",
              "      <td>right</td>\n",
              "      <td>17906</td>\n",
              "      <td>7298</td>\n",
              "      <td>2.453549</td>\n",
              "      <td>strongly agrees</td>\n",
              "    </tr>\n",
              "    <tr>\n",
              "      <th>23</th>\n",
              "      <td>NBC News (Online)</td>\n",
              "      <td>https://www.allsides.com/news-source/nbc-news-...</td>\n",
              "      <td>left-center</td>\n",
              "      <td>11357</td>\n",
              "      <td>11283</td>\n",
              "      <td>1.006559</td>\n",
              "      <td>somewhat agrees</td>\n",
              "    </tr>\n",
              "    <tr>\n",
              "      <th>24</th>\n",
              "      <td>New York Post (News)</td>\n",
              "      <td>https://www.allsides.com/news-source/new-york-...</td>\n",
              "      <td>right-center</td>\n",
              "      <td>13078</td>\n",
              "      <td>7086</td>\n",
              "      <td>1.845611</td>\n",
              "      <td>agrees</td>\n",
              "    </tr>\n",
              "    <tr>\n",
              "      <th>25</th>\n",
              "      <td>New York Times (News)</td>\n",
              "      <td>https://www.allsides.com/news-source/new-york-...</td>\n",
              "      <td>left-center</td>\n",
              "      <td>27730</td>\n",
              "      <td>37486</td>\n",
              "      <td>0.739743</td>\n",
              "      <td>somewhat disagrees</td>\n",
              "    </tr>\n",
              "    <tr>\n",
              "      <th>26</th>\n",
              "      <td>New York Times (Opinion)</td>\n",
              "      <td>https://www.allsides.com/news-source/new-york-...</td>\n",
              "      <td>left</td>\n",
              "      <td>13275</td>\n",
              "      <td>3573</td>\n",
              "      <td>3.715365</td>\n",
              "      <td>absolutely agrees</td>\n",
              "    </tr>\n",
              "    <tr>\n",
              "      <th>27</th>\n",
              "      <td>NPR (Online News)</td>\n",
              "      <td>https://www.allsides.com/news-source/npr-media...</td>\n",
              "      <td>center</td>\n",
              "      <td>30532</td>\n",
              "      <td>27923</td>\n",
              "      <td>1.093436</td>\n",
              "      <td>somewhat agrees</td>\n",
              "    </tr>\n",
              "    <tr>\n",
              "      <th>28</th>\n",
              "      <td>NPR (Opinion)</td>\n",
              "      <td>https://www.allsides.com/news-source/npr-edito...</td>\n",
              "      <td>left-center</td>\n",
              "      <td>7705</td>\n",
              "      <td>8584</td>\n",
              "      <td>0.897600</td>\n",
              "      <td>somewhat disagrees</td>\n",
              "    </tr>\n",
              "    <tr>\n",
              "      <th>29</th>\n",
              "      <td>Politico</td>\n",
              "      <td>https://www.allsides.com/news-source/politico-...</td>\n",
              "      <td>left-center</td>\n",
              "      <td>22506</td>\n",
              "      <td>29355</td>\n",
              "      <td>0.766684</td>\n",
              "      <td>somewhat disagrees</td>\n",
              "    </tr>\n",
              "    <tr>\n",
              "      <th>30</th>\n",
              "      <td>Reason</td>\n",
              "      <td>https://www.allsides.com/news-source/reason</td>\n",
              "      <td>right-center</td>\n",
              "      <td>8933</td>\n",
              "      <td>5445</td>\n",
              "      <td>1.640588</td>\n",
              "      <td>agrees</td>\n",
              "    </tr>\n",
              "    <tr>\n",
              "      <th>31</th>\n",
              "      <td>Reuters</td>\n",
              "      <td>https://www.allsides.com/news-source/reuters</td>\n",
              "      <td>center</td>\n",
              "      <td>17005</td>\n",
              "      <td>9288</td>\n",
              "      <td>1.830857</td>\n",
              "      <td>agrees</td>\n",
              "    </tr>\n",
              "    <tr>\n",
              "      <th>32</th>\n",
              "      <td>Slate</td>\n",
              "      <td>https://www.allsides.com/news-source/slate</td>\n",
              "      <td>left</td>\n",
              "      <td>8862</td>\n",
              "      <td>3323</td>\n",
              "      <td>2.666867</td>\n",
              "      <td>strongly agrees</td>\n",
              "    </tr>\n",
              "    <tr>\n",
              "      <th>33</th>\n",
              "      <td>The American Spectator</td>\n",
              "      <td>https://www.allsides.com/news-source/american-...</td>\n",
              "      <td>right</td>\n",
              "      <td>11561</td>\n",
              "      <td>3987</td>\n",
              "      <td>2.899674</td>\n",
              "      <td>strongly agrees</td>\n",
              "    </tr>\n",
              "    <tr>\n",
              "      <th>34</th>\n",
              "      <td>The Atlantic</td>\n",
              "      <td>https://www.allsides.com/news-source/atlantic</td>\n",
              "      <td>left-center</td>\n",
              "      <td>13745</td>\n",
              "      <td>7327</td>\n",
              "      <td>1.875938</td>\n",
              "      <td>agrees</td>\n",
              "    </tr>\n",
              "    <tr>\n",
              "      <th>35</th>\n",
              "      <td>The Daily Caller</td>\n",
              "      <td>https://www.allsides.com/news-source/daily-caller</td>\n",
              "      <td>right</td>\n",
              "      <td>9416</td>\n",
              "      <td>3779</td>\n",
              "      <td>2.491664</td>\n",
              "      <td>strongly agrees</td>\n",
              "    </tr>\n",
              "    <tr>\n",
              "      <th>36</th>\n",
              "      <td>The Daily Wire</td>\n",
              "      <td>https://www.allsides.com/news-source/daily-wire</td>\n",
              "      <td>right</td>\n",
              "      <td>9683</td>\n",
              "      <td>3486</td>\n",
              "      <td>2.777682</td>\n",
              "      <td>strongly agrees</td>\n",
              "    </tr>\n",
              "    <tr>\n",
              "      <th>37</th>\n",
              "      <td>The Economist</td>\n",
              "      <td>https://www.allsides.com/news-source/economist</td>\n",
              "      <td>left-center</td>\n",
              "      <td>5364</td>\n",
              "      <td>9342</td>\n",
              "      <td>0.574181</td>\n",
              "      <td>disagrees</td>\n",
              "    </tr>\n",
              "    <tr>\n",
              "      <th>38</th>\n",
              "      <td>The Epoch Times</td>\n",
              "      <td>https://www.allsides.com/news-source/epoch-tim...</td>\n",
              "      <td>right-center</td>\n",
              "      <td>10551</td>\n",
              "      <td>4753</td>\n",
              "      <td>2.219861</td>\n",
              "      <td>strongly agrees</td>\n",
              "    </tr>\n",
              "    <tr>\n",
              "      <th>39</th>\n",
              "      <td>The Federalist</td>\n",
              "      <td>https://www.allsides.com/news-source/federalist</td>\n",
              "      <td>right</td>\n",
              "      <td>8462</td>\n",
              "      <td>2574</td>\n",
              "      <td>3.287490</td>\n",
              "      <td>absolutely agrees</td>\n",
              "    </tr>\n",
              "    <tr>\n",
              "      <th>40</th>\n",
              "      <td>The Guardian</td>\n",
              "      <td>https://www.allsides.com/news-source/guardian</td>\n",
              "      <td>left-center</td>\n",
              "      <td>12737</td>\n",
              "      <td>7633</td>\n",
              "      <td>1.668675</td>\n",
              "      <td>agrees</td>\n",
              "    </tr>\n",
              "    <tr>\n",
              "      <th>41</th>\n",
              "      <td>The Hill</td>\n",
              "      <td>https://www.allsides.com/news-source/hill-medi...</td>\n",
              "      <td>center</td>\n",
              "      <td>15176</td>\n",
              "      <td>19987</td>\n",
              "      <td>0.759294</td>\n",
              "      <td>somewhat disagrees</td>\n",
              "    </tr>\n",
              "    <tr>\n",
              "      <th>42</th>\n",
              "      <td>The Intercept</td>\n",
              "      <td>https://www.allsides.com/news-source/intercept</td>\n",
              "      <td>left</td>\n",
              "      <td>4974</td>\n",
              "      <td>1405</td>\n",
              "      <td>3.540214</td>\n",
              "      <td>absolutely agrees</td>\n",
              "    </tr>\n",
              "    <tr>\n",
              "      <th>43</th>\n",
              "      <td>The New Yorker</td>\n",
              "      <td>https://www.allsides.com/news-source/new-yorker</td>\n",
              "      <td>left</td>\n",
              "      <td>8699</td>\n",
              "      <td>2067</td>\n",
              "      <td>4.208515</td>\n",
              "      <td>absolutely agrees</td>\n",
              "    </tr>\n",
              "    <tr>\n",
              "      <th>44</th>\n",
              "      <td>TheBlaze.com</td>\n",
              "      <td>https://www.allsides.com/news-source/theblaze-...</td>\n",
              "      <td>right</td>\n",
              "      <td>97202</td>\n",
              "      <td>78816</td>\n",
              "      <td>1.233278</td>\n",
              "      <td>somewhat agrees</td>\n",
              "    </tr>\n",
              "    <tr>\n",
              "      <th>45</th>\n",
              "      <td>Time Magazine</td>\n",
              "      <td>https://www.allsides.com/news-source/time-maga...</td>\n",
              "      <td>left-center</td>\n",
              "      <td>8839</td>\n",
              "      <td>7361</td>\n",
              "      <td>1.200788</td>\n",
              "      <td>somewhat agrees</td>\n",
              "    </tr>\n",
              "    <tr>\n",
              "      <th>46</th>\n",
              "      <td>USA TODAY</td>\n",
              "      <td>https://www.allsides.com/news-source/usa-today...</td>\n",
              "      <td>center</td>\n",
              "      <td>17559</td>\n",
              "      <td>19687</td>\n",
              "      <td>0.891908</td>\n",
              "      <td>somewhat disagrees</td>\n",
              "    </tr>\n",
              "    <tr>\n",
              "      <th>47</th>\n",
              "      <td>Vox</td>\n",
              "      <td>https://www.allsides.com/news-source/vox-news-...</td>\n",
              "      <td>left</td>\n",
              "      <td>28115</td>\n",
              "      <td>14749</td>\n",
              "      <td>1.906231</td>\n",
              "      <td>agrees</td>\n",
              "    </tr>\n",
              "    <tr>\n",
              "      <th>48</th>\n",
              "      <td>Wall Street Journal (News)</td>\n",
              "      <td>https://www.allsides.com/news-source/wall-stre...</td>\n",
              "      <td>center</td>\n",
              "      <td>20892</td>\n",
              "      <td>24077</td>\n",
              "      <td>0.867716</td>\n",
              "      <td>somewhat disagrees</td>\n",
              "    </tr>\n",
              "    <tr>\n",
              "      <th>49</th>\n",
              "      <td>Wall Street Journal (Opinion)</td>\n",
              "      <td>https://www.allsides.com/news-source/wall-stre...</td>\n",
              "      <td>right-center</td>\n",
              "      <td>10388</td>\n",
              "      <td>6981</td>\n",
              "      <td>1.488039</td>\n",
              "      <td>somewhat agrees</td>\n",
              "    </tr>\n",
              "  </tbody>\n",
              "</table>\n",
              "</div>"
            ],
            "text/plain": [
              "                             name  ...      agreeance_text\n",
              "0               ABC News (Online)  ...              agrees\n",
              "1                        AlterNet  ...   absolutely agrees\n",
              "2        AP Politics & Fact Check  ...  somewhat disagrees\n",
              "3                Associated Press  ...     somewhat agrees\n",
              "4                           Axios  ...  somewhat disagrees\n",
              "5                        BBC News  ...     somewhat agrees\n",
              "6                       Bloomberg  ...  somewhat disagrees\n",
              "7                  Breitbart News  ...   absolutely agrees\n",
              "8                   BuzzFeed News  ...     strongly agrees\n",
              "9               CBS News (Online)  ...              agrees\n",
              "10      Christian Science Monitor  ...  somewhat disagrees\n",
              "11              CNN (Online News)  ...     somewhat agrees\n",
              "12                  CNN (Opinion)  ...   absolutely agrees\n",
              "13                    Daily Beast  ...   absolutely agrees\n",
              "14                     Daily Mail  ...              agrees\n",
              "15                  Democracy Now  ...   absolutely agrees\n",
              "16                         Forbes  ...              agrees\n",
              "17         Fox News (Online News)  ...  somewhat disagrees\n",
              "18             Fox News (Opinion)  ...   absolutely agrees\n",
              "19                       HuffPost  ...              agrees\n",
              "20                   Mother Jones  ...   absolutely agrees\n",
              "21                          MSNBC  ...   absolutely agrees\n",
              "22                National Review  ...     strongly agrees\n",
              "23              NBC News (Online)  ...     somewhat agrees\n",
              "24           New York Post (News)  ...              agrees\n",
              "25          New York Times (News)  ...  somewhat disagrees\n",
              "26       New York Times (Opinion)  ...   absolutely agrees\n",
              "27              NPR (Online News)  ...     somewhat agrees\n",
              "28                  NPR (Opinion)  ...  somewhat disagrees\n",
              "29                       Politico  ...  somewhat disagrees\n",
              "30                         Reason  ...              agrees\n",
              "31                        Reuters  ...              agrees\n",
              "32                          Slate  ...     strongly agrees\n",
              "33         The American Spectator  ...     strongly agrees\n",
              "34                   The Atlantic  ...              agrees\n",
              "35               The Daily Caller  ...     strongly agrees\n",
              "36                 The Daily Wire  ...     strongly agrees\n",
              "37                  The Economist  ...           disagrees\n",
              "38                The Epoch Times  ...     strongly agrees\n",
              "39                 The Federalist  ...   absolutely agrees\n",
              "40                   The Guardian  ...              agrees\n",
              "41                       The Hill  ...  somewhat disagrees\n",
              "42                  The Intercept  ...   absolutely agrees\n",
              "43                 The New Yorker  ...   absolutely agrees\n",
              "44                   TheBlaze.com  ...     somewhat agrees\n",
              "45                  Time Magazine  ...     somewhat agrees\n",
              "46                      USA TODAY  ...  somewhat disagrees\n",
              "47                            Vox  ...              agrees\n",
              "48     Wall Street Journal (News)  ...  somewhat disagrees\n",
              "49  Wall Street Journal (Opinion)  ...     somewhat agrees\n",
              "\n",
              "[50 rows x 7 columns]"
            ]
          },
          "metadata": {
            "tags": []
          },
          "execution_count": 51
        }
      ]
    },
    {
      "cell_type": "code",
      "metadata": {
        "id": "xoC7r0Bbz8aC"
      },
      "source": [
        "agree_disagree.set_index(\"name\", inplace=True)"
      ],
      "execution_count": null,
      "outputs": []
    },
    {
      "cell_type": "code",
      "metadata": {
        "colab": {
          "base_uri": "https://localhost:8080/",
          "height": 1000
        },
        "id": "21Z0li2S0MhC",
        "outputId": "67d460fe-da2d-4b65-8390-c1dfd31d6f89"
      },
      "source": [
        "agree_disagree"
      ],
      "execution_count": null,
      "outputs": [
        {
          "output_type": "execute_result",
          "data": {
            "text/html": [
              "<div>\n",
              "<style scoped>\n",
              "    .dataframe tbody tr th:only-of-type {\n",
              "        vertical-align: middle;\n",
              "    }\n",
              "\n",
              "    .dataframe tbody tr th {\n",
              "        vertical-align: top;\n",
              "    }\n",
              "\n",
              "    .dataframe thead th {\n",
              "        text-align: right;\n",
              "    }\n",
              "</style>\n",
              "<table border=\"1\" class=\"dataframe\">\n",
              "  <thead>\n",
              "    <tr style=\"text-align: right;\">\n",
              "      <th></th>\n",
              "      <th>allsides_page</th>\n",
              "      <th>bias</th>\n",
              "      <th>agree</th>\n",
              "      <th>disagree</th>\n",
              "      <th>agree_ratio</th>\n",
              "      <th>agreeance_text</th>\n",
              "    </tr>\n",
              "    <tr>\n",
              "      <th>name</th>\n",
              "      <th></th>\n",
              "      <th></th>\n",
              "      <th></th>\n",
              "      <th></th>\n",
              "      <th></th>\n",
              "      <th></th>\n",
              "    </tr>\n",
              "  </thead>\n",
              "  <tbody>\n",
              "    <tr>\n",
              "      <th>ABC News (Online)</th>\n",
              "      <td>https://www.allsides.com/news-source/abc-news-...</td>\n",
              "      <td>left-center</td>\n",
              "      <td>33390</td>\n",
              "      <td>17034</td>\n",
              "      <td>1.960197</td>\n",
              "      <td>agrees</td>\n",
              "    </tr>\n",
              "    <tr>\n",
              "      <th>AlterNet</th>\n",
              "      <td>https://www.allsides.com/news-source/alternet-...</td>\n",
              "      <td>left</td>\n",
              "      <td>12621</td>\n",
              "      <td>2574</td>\n",
              "      <td>4.903263</td>\n",
              "      <td>absolutely agrees</td>\n",
              "    </tr>\n",
              "    <tr>\n",
              "      <th>AP Politics &amp; Fact Check</th>\n",
              "      <td>https://www.allsides.com/news-source/ap-fact-c...</td>\n",
              "      <td>left-center</td>\n",
              "      <td>3893</td>\n",
              "      <td>4630</td>\n",
              "      <td>0.840821</td>\n",
              "      <td>somewhat disagrees</td>\n",
              "    </tr>\n",
              "    <tr>\n",
              "      <th>Associated Press</th>\n",
              "      <td>https://www.allsides.com/news-source/associate...</td>\n",
              "      <td>center</td>\n",
              "      <td>25091</td>\n",
              "      <td>18956</td>\n",
              "      <td>1.323644</td>\n",
              "      <td>somewhat agrees</td>\n",
              "    </tr>\n",
              "    <tr>\n",
              "      <th>Axios</th>\n",
              "      <td>https://www.allsides.com/news-source/axios</td>\n",
              "      <td>center</td>\n",
              "      <td>5220</td>\n",
              "      <td>5525</td>\n",
              "      <td>0.944796</td>\n",
              "      <td>somewhat disagrees</td>\n",
              "    </tr>\n",
              "    <tr>\n",
              "      <th>BBC News</th>\n",
              "      <td>https://www.allsides.com/news-source/bbc-news-...</td>\n",
              "      <td>center</td>\n",
              "      <td>27695</td>\n",
              "      <td>23754</td>\n",
              "      <td>1.165909</td>\n",
              "      <td>somewhat agrees</td>\n",
              "    </tr>\n",
              "    <tr>\n",
              "      <th>Bloomberg</th>\n",
              "      <td>https://www.allsides.com/news-source/bloomberg...</td>\n",
              "      <td>left-center</td>\n",
              "      <td>14997</td>\n",
              "      <td>20335</td>\n",
              "      <td>0.737497</td>\n",
              "      <td>somewhat disagrees</td>\n",
              "    </tr>\n",
              "    <tr>\n",
              "      <th>Breitbart News</th>\n",
              "      <td>https://www.allsides.com/news-source/breitbart</td>\n",
              "      <td>right</td>\n",
              "      <td>37442</td>\n",
              "      <td>10854</td>\n",
              "      <td>3.449604</td>\n",
              "      <td>absolutely agrees</td>\n",
              "    </tr>\n",
              "    <tr>\n",
              "      <th>BuzzFeed News</th>\n",
              "      <td>https://www.allsides.com/news-source/buzzfeed-...</td>\n",
              "      <td>left</td>\n",
              "      <td>22958</td>\n",
              "      <td>8937</td>\n",
              "      <td>2.568871</td>\n",
              "      <td>strongly agrees</td>\n",
              "    </tr>\n",
              "    <tr>\n",
              "      <th>CBS News (Online)</th>\n",
              "      <td>https://www.allsides.com/news-source/cbs-news-...</td>\n",
              "      <td>left-center</td>\n",
              "      <td>17982</td>\n",
              "      <td>11474</td>\n",
              "      <td>1.567195</td>\n",
              "      <td>agrees</td>\n",
              "    </tr>\n",
              "    <tr>\n",
              "      <th>Christian Science Monitor</th>\n",
              "      <td>https://www.allsides.com/news-source/christian...</td>\n",
              "      <td>center</td>\n",
              "      <td>14924</td>\n",
              "      <td>18533</td>\n",
              "      <td>0.805266</td>\n",
              "      <td>somewhat disagrees</td>\n",
              "    </tr>\n",
              "    <tr>\n",
              "      <th>CNN (Online News)</th>\n",
              "      <td>https://www.allsides.com/news-source/cnn-media...</td>\n",
              "      <td>left</td>\n",
              "      <td>48085</td>\n",
              "      <td>46748</td>\n",
              "      <td>1.028600</td>\n",
              "      <td>somewhat agrees</td>\n",
              "    </tr>\n",
              "    <tr>\n",
              "      <th>CNN (Opinion)</th>\n",
              "      <td>https://www.allsides.com/news-source/cnn-edito...</td>\n",
              "      <td>left</td>\n",
              "      <td>31064</td>\n",
              "      <td>6835</td>\n",
              "      <td>4.544843</td>\n",
              "      <td>absolutely agrees</td>\n",
              "    </tr>\n",
              "    <tr>\n",
              "      <th>Daily Beast</th>\n",
              "      <td>https://www.allsides.com/news-source/daily-bea...</td>\n",
              "      <td>left</td>\n",
              "      <td>18175</td>\n",
              "      <td>5838</td>\n",
              "      <td>3.113224</td>\n",
              "      <td>absolutely agrees</td>\n",
              "    </tr>\n",
              "    <tr>\n",
              "      <th>Daily Mail</th>\n",
              "      <td>https://www.allsides.com/news-source/daily-mail</td>\n",
              "      <td>right</td>\n",
              "      <td>10843</td>\n",
              "      <td>5970</td>\n",
              "      <td>1.816248</td>\n",
              "      <td>agrees</td>\n",
              "    </tr>\n",
              "    <tr>\n",
              "      <th>Democracy Now</th>\n",
              "      <td>https://www.allsides.com/news-source/democracy...</td>\n",
              "      <td>left</td>\n",
              "      <td>12522</td>\n",
              "      <td>2849</td>\n",
              "      <td>4.395226</td>\n",
              "      <td>absolutely agrees</td>\n",
              "    </tr>\n",
              "    <tr>\n",
              "      <th>Forbes</th>\n",
              "      <td>https://www.allsides.com/news-source/forbes</td>\n",
              "      <td>center</td>\n",
              "      <td>12752</td>\n",
              "      <td>7556</td>\n",
              "      <td>1.687665</td>\n",
              "      <td>agrees</td>\n",
              "    </tr>\n",
              "    <tr>\n",
              "      <th>Fox News (Online News)</th>\n",
              "      <td>https://www.allsides.com/news-source/fox-news-...</td>\n",
              "      <td>right</td>\n",
              "      <td>39413</td>\n",
              "      <td>46064</td>\n",
              "      <td>0.855614</td>\n",
              "      <td>somewhat disagrees</td>\n",
              "    </tr>\n",
              "    <tr>\n",
              "      <th>Fox News (Opinion)</th>\n",
              "      <td>https://www.allsides.com/news-source/fox-news-...</td>\n",
              "      <td>right</td>\n",
              "      <td>25709</td>\n",
              "      <td>6030</td>\n",
              "      <td>4.263516</td>\n",
              "      <td>absolutely agrees</td>\n",
              "    </tr>\n",
              "    <tr>\n",
              "      <th>HuffPost</th>\n",
              "      <td>https://www.allsides.com/news-source/huffpost-...</td>\n",
              "      <td>left</td>\n",
              "      <td>34235</td>\n",
              "      <td>21999</td>\n",
              "      <td>1.556207</td>\n",
              "      <td>agrees</td>\n",
              "    </tr>\n",
              "    <tr>\n",
              "      <th>Mother Jones</th>\n",
              "      <td>https://www.allsides.com/news-source/mother-jo...</td>\n",
              "      <td>left</td>\n",
              "      <td>14336</td>\n",
              "      <td>2081</td>\n",
              "      <td>6.888996</td>\n",
              "      <td>absolutely agrees</td>\n",
              "    </tr>\n",
              "    <tr>\n",
              "      <th>MSNBC</th>\n",
              "      <td>https://www.allsides.com/news-source/msnbc</td>\n",
              "      <td>left</td>\n",
              "      <td>19574</td>\n",
              "      <td>5104</td>\n",
              "      <td>3.835031</td>\n",
              "      <td>absolutely agrees</td>\n",
              "    </tr>\n",
              "    <tr>\n",
              "      <th>National Review</th>\n",
              "      <td>https://www.allsides.com/news-source/national-...</td>\n",
              "      <td>right</td>\n",
              "      <td>17906</td>\n",
              "      <td>7298</td>\n",
              "      <td>2.453549</td>\n",
              "      <td>strongly agrees</td>\n",
              "    </tr>\n",
              "    <tr>\n",
              "      <th>NBC News (Online)</th>\n",
              "      <td>https://www.allsides.com/news-source/nbc-news-...</td>\n",
              "      <td>left-center</td>\n",
              "      <td>11357</td>\n",
              "      <td>11283</td>\n",
              "      <td>1.006559</td>\n",
              "      <td>somewhat agrees</td>\n",
              "    </tr>\n",
              "    <tr>\n",
              "      <th>New York Post (News)</th>\n",
              "      <td>https://www.allsides.com/news-source/new-york-...</td>\n",
              "      <td>right-center</td>\n",
              "      <td>13078</td>\n",
              "      <td>7086</td>\n",
              "      <td>1.845611</td>\n",
              "      <td>agrees</td>\n",
              "    </tr>\n",
              "    <tr>\n",
              "      <th>New York Times (News)</th>\n",
              "      <td>https://www.allsides.com/news-source/new-york-...</td>\n",
              "      <td>left-center</td>\n",
              "      <td>27730</td>\n",
              "      <td>37486</td>\n",
              "      <td>0.739743</td>\n",
              "      <td>somewhat disagrees</td>\n",
              "    </tr>\n",
              "    <tr>\n",
              "      <th>New York Times (Opinion)</th>\n",
              "      <td>https://www.allsides.com/news-source/new-york-...</td>\n",
              "      <td>left</td>\n",
              "      <td>13275</td>\n",
              "      <td>3573</td>\n",
              "      <td>3.715365</td>\n",
              "      <td>absolutely agrees</td>\n",
              "    </tr>\n",
              "    <tr>\n",
              "      <th>NPR (Online News)</th>\n",
              "      <td>https://www.allsides.com/news-source/npr-media...</td>\n",
              "      <td>center</td>\n",
              "      <td>30532</td>\n",
              "      <td>27923</td>\n",
              "      <td>1.093436</td>\n",
              "      <td>somewhat agrees</td>\n",
              "    </tr>\n",
              "    <tr>\n",
              "      <th>NPR (Opinion)</th>\n",
              "      <td>https://www.allsides.com/news-source/npr-edito...</td>\n",
              "      <td>left-center</td>\n",
              "      <td>7705</td>\n",
              "      <td>8584</td>\n",
              "      <td>0.897600</td>\n",
              "      <td>somewhat disagrees</td>\n",
              "    </tr>\n",
              "    <tr>\n",
              "      <th>Politico</th>\n",
              "      <td>https://www.allsides.com/news-source/politico-...</td>\n",
              "      <td>left-center</td>\n",
              "      <td>22506</td>\n",
              "      <td>29355</td>\n",
              "      <td>0.766684</td>\n",
              "      <td>somewhat disagrees</td>\n",
              "    </tr>\n",
              "    <tr>\n",
              "      <th>Reason</th>\n",
              "      <td>https://www.allsides.com/news-source/reason</td>\n",
              "      <td>right-center</td>\n",
              "      <td>8933</td>\n",
              "      <td>5445</td>\n",
              "      <td>1.640588</td>\n",
              "      <td>agrees</td>\n",
              "    </tr>\n",
              "    <tr>\n",
              "      <th>Reuters</th>\n",
              "      <td>https://www.allsides.com/news-source/reuters</td>\n",
              "      <td>center</td>\n",
              "      <td>17005</td>\n",
              "      <td>9288</td>\n",
              "      <td>1.830857</td>\n",
              "      <td>agrees</td>\n",
              "    </tr>\n",
              "    <tr>\n",
              "      <th>Slate</th>\n",
              "      <td>https://www.allsides.com/news-source/slate</td>\n",
              "      <td>left</td>\n",
              "      <td>8862</td>\n",
              "      <td>3323</td>\n",
              "      <td>2.666867</td>\n",
              "      <td>strongly agrees</td>\n",
              "    </tr>\n",
              "    <tr>\n",
              "      <th>The American Spectator</th>\n",
              "      <td>https://www.allsides.com/news-source/american-...</td>\n",
              "      <td>right</td>\n",
              "      <td>11561</td>\n",
              "      <td>3987</td>\n",
              "      <td>2.899674</td>\n",
              "      <td>strongly agrees</td>\n",
              "    </tr>\n",
              "    <tr>\n",
              "      <th>The Atlantic</th>\n",
              "      <td>https://www.allsides.com/news-source/atlantic</td>\n",
              "      <td>left-center</td>\n",
              "      <td>13745</td>\n",
              "      <td>7327</td>\n",
              "      <td>1.875938</td>\n",
              "      <td>agrees</td>\n",
              "    </tr>\n",
              "    <tr>\n",
              "      <th>The Daily Caller</th>\n",
              "      <td>https://www.allsides.com/news-source/daily-caller</td>\n",
              "      <td>right</td>\n",
              "      <td>9416</td>\n",
              "      <td>3779</td>\n",
              "      <td>2.491664</td>\n",
              "      <td>strongly agrees</td>\n",
              "    </tr>\n",
              "    <tr>\n",
              "      <th>The Daily Wire</th>\n",
              "      <td>https://www.allsides.com/news-source/daily-wire</td>\n",
              "      <td>right</td>\n",
              "      <td>9683</td>\n",
              "      <td>3486</td>\n",
              "      <td>2.777682</td>\n",
              "      <td>strongly agrees</td>\n",
              "    </tr>\n",
              "    <tr>\n",
              "      <th>The Economist</th>\n",
              "      <td>https://www.allsides.com/news-source/economist</td>\n",
              "      <td>left-center</td>\n",
              "      <td>5364</td>\n",
              "      <td>9342</td>\n",
              "      <td>0.574181</td>\n",
              "      <td>disagrees</td>\n",
              "    </tr>\n",
              "    <tr>\n",
              "      <th>The Epoch Times</th>\n",
              "      <td>https://www.allsides.com/news-source/epoch-tim...</td>\n",
              "      <td>right-center</td>\n",
              "      <td>10551</td>\n",
              "      <td>4753</td>\n",
              "      <td>2.219861</td>\n",
              "      <td>strongly agrees</td>\n",
              "    </tr>\n",
              "    <tr>\n",
              "      <th>The Federalist</th>\n",
              "      <td>https://www.allsides.com/news-source/federalist</td>\n",
              "      <td>right</td>\n",
              "      <td>8462</td>\n",
              "      <td>2574</td>\n",
              "      <td>3.287490</td>\n",
              "      <td>absolutely agrees</td>\n",
              "    </tr>\n",
              "    <tr>\n",
              "      <th>The Guardian</th>\n",
              "      <td>https://www.allsides.com/news-source/guardian</td>\n",
              "      <td>left-center</td>\n",
              "      <td>12737</td>\n",
              "      <td>7633</td>\n",
              "      <td>1.668675</td>\n",
              "      <td>agrees</td>\n",
              "    </tr>\n",
              "    <tr>\n",
              "      <th>The Hill</th>\n",
              "      <td>https://www.allsides.com/news-source/hill-medi...</td>\n",
              "      <td>center</td>\n",
              "      <td>15176</td>\n",
              "      <td>19987</td>\n",
              "      <td>0.759294</td>\n",
              "      <td>somewhat disagrees</td>\n",
              "    </tr>\n",
              "    <tr>\n",
              "      <th>The Intercept</th>\n",
              "      <td>https://www.allsides.com/news-source/intercept</td>\n",
              "      <td>left</td>\n",
              "      <td>4974</td>\n",
              "      <td>1405</td>\n",
              "      <td>3.540214</td>\n",
              "      <td>absolutely agrees</td>\n",
              "    </tr>\n",
              "    <tr>\n",
              "      <th>The New Yorker</th>\n",
              "      <td>https://www.allsides.com/news-source/new-yorker</td>\n",
              "      <td>left</td>\n",
              "      <td>8699</td>\n",
              "      <td>2067</td>\n",
              "      <td>4.208515</td>\n",
              "      <td>absolutely agrees</td>\n",
              "    </tr>\n",
              "    <tr>\n",
              "      <th>TheBlaze.com</th>\n",
              "      <td>https://www.allsides.com/news-source/theblaze-...</td>\n",
              "      <td>right</td>\n",
              "      <td>97202</td>\n",
              "      <td>78816</td>\n",
              "      <td>1.233278</td>\n",
              "      <td>somewhat agrees</td>\n",
              "    </tr>\n",
              "    <tr>\n",
              "      <th>Time Magazine</th>\n",
              "      <td>https://www.allsides.com/news-source/time-maga...</td>\n",
              "      <td>left-center</td>\n",
              "      <td>8839</td>\n",
              "      <td>7361</td>\n",
              "      <td>1.200788</td>\n",
              "      <td>somewhat agrees</td>\n",
              "    </tr>\n",
              "    <tr>\n",
              "      <th>USA TODAY</th>\n",
              "      <td>https://www.allsides.com/news-source/usa-today...</td>\n",
              "      <td>center</td>\n",
              "      <td>17559</td>\n",
              "      <td>19687</td>\n",
              "      <td>0.891908</td>\n",
              "      <td>somewhat disagrees</td>\n",
              "    </tr>\n",
              "    <tr>\n",
              "      <th>Vox</th>\n",
              "      <td>https://www.allsides.com/news-source/vox-news-...</td>\n",
              "      <td>left</td>\n",
              "      <td>28115</td>\n",
              "      <td>14749</td>\n",
              "      <td>1.906231</td>\n",
              "      <td>agrees</td>\n",
              "    </tr>\n",
              "    <tr>\n",
              "      <th>Wall Street Journal (News)</th>\n",
              "      <td>https://www.allsides.com/news-source/wall-stre...</td>\n",
              "      <td>center</td>\n",
              "      <td>20892</td>\n",
              "      <td>24077</td>\n",
              "      <td>0.867716</td>\n",
              "      <td>somewhat disagrees</td>\n",
              "    </tr>\n",
              "    <tr>\n",
              "      <th>Wall Street Journal (Opinion)</th>\n",
              "      <td>https://www.allsides.com/news-source/wall-stre...</td>\n",
              "      <td>right-center</td>\n",
              "      <td>10388</td>\n",
              "      <td>6981</td>\n",
              "      <td>1.488039</td>\n",
              "      <td>somewhat agrees</td>\n",
              "    </tr>\n",
              "  </tbody>\n",
              "</table>\n",
              "</div>"
            ],
            "text/plain": [
              "                                                                   allsides_page  ...      agreeance_text\n",
              "name                                                                              ...                    \n",
              "ABC News (Online)              https://www.allsides.com/news-source/abc-news-...  ...              agrees\n",
              "AlterNet                       https://www.allsides.com/news-source/alternet-...  ...   absolutely agrees\n",
              "AP Politics & Fact Check       https://www.allsides.com/news-source/ap-fact-c...  ...  somewhat disagrees\n",
              "Associated Press               https://www.allsides.com/news-source/associate...  ...     somewhat agrees\n",
              "Axios                                 https://www.allsides.com/news-source/axios  ...  somewhat disagrees\n",
              "BBC News                       https://www.allsides.com/news-source/bbc-news-...  ...     somewhat agrees\n",
              "Bloomberg                      https://www.allsides.com/news-source/bloomberg...  ...  somewhat disagrees\n",
              "Breitbart News                    https://www.allsides.com/news-source/breitbart  ...   absolutely agrees\n",
              "BuzzFeed News                  https://www.allsides.com/news-source/buzzfeed-...  ...     strongly agrees\n",
              "CBS News (Online)              https://www.allsides.com/news-source/cbs-news-...  ...              agrees\n",
              "Christian Science Monitor      https://www.allsides.com/news-source/christian...  ...  somewhat disagrees\n",
              "CNN (Online News)              https://www.allsides.com/news-source/cnn-media...  ...     somewhat agrees\n",
              "CNN (Opinion)                  https://www.allsides.com/news-source/cnn-edito...  ...   absolutely agrees\n",
              "Daily Beast                    https://www.allsides.com/news-source/daily-bea...  ...   absolutely agrees\n",
              "Daily Mail                       https://www.allsides.com/news-source/daily-mail  ...              agrees\n",
              "Democracy Now                  https://www.allsides.com/news-source/democracy...  ...   absolutely agrees\n",
              "Forbes                               https://www.allsides.com/news-source/forbes  ...              agrees\n",
              "Fox News (Online News)         https://www.allsides.com/news-source/fox-news-...  ...  somewhat disagrees\n",
              "Fox News (Opinion)             https://www.allsides.com/news-source/fox-news-...  ...   absolutely agrees\n",
              "HuffPost                       https://www.allsides.com/news-source/huffpost-...  ...              agrees\n",
              "Mother Jones                   https://www.allsides.com/news-source/mother-jo...  ...   absolutely agrees\n",
              "MSNBC                                 https://www.allsides.com/news-source/msnbc  ...   absolutely agrees\n",
              "National Review                https://www.allsides.com/news-source/national-...  ...     strongly agrees\n",
              "NBC News (Online)              https://www.allsides.com/news-source/nbc-news-...  ...     somewhat agrees\n",
              "New York Post (News)           https://www.allsides.com/news-source/new-york-...  ...              agrees\n",
              "New York Times (News)          https://www.allsides.com/news-source/new-york-...  ...  somewhat disagrees\n",
              "New York Times (Opinion)       https://www.allsides.com/news-source/new-york-...  ...   absolutely agrees\n",
              "NPR (Online News)              https://www.allsides.com/news-source/npr-media...  ...     somewhat agrees\n",
              "NPR (Opinion)                  https://www.allsides.com/news-source/npr-edito...  ...  somewhat disagrees\n",
              "Politico                       https://www.allsides.com/news-source/politico-...  ...  somewhat disagrees\n",
              "Reason                               https://www.allsides.com/news-source/reason  ...              agrees\n",
              "Reuters                             https://www.allsides.com/news-source/reuters  ...              agrees\n",
              "Slate                                 https://www.allsides.com/news-source/slate  ...     strongly agrees\n",
              "The American Spectator         https://www.allsides.com/news-source/american-...  ...     strongly agrees\n",
              "The Atlantic                       https://www.allsides.com/news-source/atlantic  ...              agrees\n",
              "The Daily Caller               https://www.allsides.com/news-source/daily-caller  ...     strongly agrees\n",
              "The Daily Wire                   https://www.allsides.com/news-source/daily-wire  ...     strongly agrees\n",
              "The Economist                     https://www.allsides.com/news-source/economist  ...           disagrees\n",
              "The Epoch Times                https://www.allsides.com/news-source/epoch-tim...  ...     strongly agrees\n",
              "The Federalist                   https://www.allsides.com/news-source/federalist  ...   absolutely agrees\n",
              "The Guardian                       https://www.allsides.com/news-source/guardian  ...              agrees\n",
              "The Hill                       https://www.allsides.com/news-source/hill-medi...  ...  somewhat disagrees\n",
              "The Intercept                     https://www.allsides.com/news-source/intercept  ...   absolutely agrees\n",
              "The New Yorker                   https://www.allsides.com/news-source/new-yorker  ...   absolutely agrees\n",
              "TheBlaze.com                   https://www.allsides.com/news-source/theblaze-...  ...     somewhat agrees\n",
              "Time Magazine                  https://www.allsides.com/news-source/time-maga...  ...     somewhat agrees\n",
              "USA TODAY                      https://www.allsides.com/news-source/usa-today...  ...  somewhat disagrees\n",
              "Vox                            https://www.allsides.com/news-source/vox-news-...  ...              agrees\n",
              "Wall Street Journal (News)     https://www.allsides.com/news-source/wall-stre...  ...  somewhat disagrees\n",
              "Wall Street Journal (Opinion)  https://www.allsides.com/news-source/wall-stre...  ...     somewhat agrees\n",
              "\n",
              "[50 rows x 6 columns]"
            ]
          },
          "metadata": {
            "tags": []
          },
          "execution_count": 55
        }
      ]
    },
    {
      "cell_type": "code",
      "metadata": {
        "id": "JOQWUetZ0NJY"
      },
      "source": [
        "elp_ = \"https://elperiodico.com.gt/nacionales/2021/05/28/fiscalia-impugna-resolucion-que-favorecio-a-patricia-marroquin-de-morales/\""
      ],
      "execution_count": null,
      "outputs": []
    },
    {
      "cell_type": "code",
      "metadata": {
        "id": "YtwAPNio08CN"
      },
      "source": [
        "r_elp = requests.get(elp_)"
      ],
      "execution_count": null,
      "outputs": []
    },
    {
      "cell_type": "code",
      "metadata": {
        "id": "piqlGHsd1DYF"
      },
      "source": [
        "elp_doc = BeautifulSoup(r.content, 'html.parser')"
      ],
      "execution_count": null,
      "outputs": []
    },
    {
      "cell_type": "code",
      "metadata": {
        "colab": {
          "base_uri": "https://localhost:8080/"
        },
        "id": "0CAqND4o1JZD",
        "outputId": "f9f04288-dc1d-48bf-a603-44822e413ef1"
      },
      "source": [
        "elp_doc.select(\".panel-content > section > div > a\")"
      ],
      "execution_count": null,
      "outputs": [
        {
          "output_type": "execute_result",
          "data": {
            "text/plain": [
              "[<a class=\"post-thumbnail \" href=\"https://elperiodico.com.gt/opinion/opiniones-de-hoy/2021/03/25/un-busto-digno-de-su-grandeza/\">\n",
              " <img alt=\"noticia\" src=\"https://d25nlln9isiu5y.cloudfront.net/wp-content/uploads/2020/10/11192408/miguel-angel-alvizures.jpg\"/>\n",
              " <span class=\"credit\">Miguel Ángel Albizures</span>\n",
              " </a>,\n",
              " <a class=\"post-thumbnail \" href=\"https://elperiodico.com.gt/noticias/domingo/2021/05/23/temporada-alta-en-turismo-de-vacunas/\">\n",
              " <img alt=\"noticia\" src=\"https://d25nlln9isiu5y.cloudfront.net/wp-content/uploads/2021/05/22205200/FOTO-PARA-DOMINGO-NOTA-DE-CINDY-Archivo-1024x576.jpg\"/>\n",
              " <span class=\"credit\">Cindy Espina cespina@elperiodico.com.gt</span>\n",
              " </a>,\n",
              " <a class=\"post-thumbnail \" href=\"https://elperiodico.com.gt/cultura/artediseno/2021/01/12/artistas-retratan-toma-del-capitolio-de-e-uu-con-caricaturas/\">\n",
              " <img alt=\"noticia\" src=\"https://d25nlln9isiu5y.cloudfront.net/wp-content/uploads/2021/01/12154804/WhatsApp-Image-2021-01-12-at-9.40.44-AM.jpeg\"/>\n",
              " <span class=\"credit\">Redacción</span>\n",
              " </a>,\n",
              " <a class=\"post-thumbnail noimage\" href=\"https://elperiodico.com.gt/nacionales/2021/04/21/mp-presenta-solicitud-de-antejuicio-contra-jimmy-morales-3/\">\n",
              " <img alt=\"noticia\" src=\"https://d25nlln9isiu5y.cloudfront.net/wp-content/uploads/2021/04/21102848/PAG-04-F01-ARCHIVO-1024x788-1.jpg\"/>\n",
              " <span class=\"credit\">Luisa Paredes /elPeriódico</span>\n",
              " </a>,\n",
              " <a class=\"post-thumbnail\" href=\"https://elperiodico.com.gt/nacionales/2021/05/28/situacion-en-centros-de-vacunacion-es-distinta-a-la-descrita-por-el-presidente/\">\n",
              " <img alt=\"otras-noticias\" src=\"https://d25nlln9isiu5y.cloudfront.net/wp-content/uploads/2021/05/28151239/WhatsApp-Image-2021-05-28-at-10.49.28-AM-1024x682.jpeg\"/>\n",
              " </a>,\n",
              " <a class=\"post-thumbnail\" href=\"https://elperiodico.com.gt/lo-mas-importante-de-hoy/2021/05/28/estos-fueron-los-ganadores-del-prestigioso-concurso-de-elegancia-de-amelia-island-en-2021/\">\n",
              " <img alt=\"otras-noticias\" src=\"https://d25nlln9isiu5y.cloudfront.net/wp-content/uploads/2021/05/28142213/Hispano-Suiza-1024x683.jpg\"/>\n",
              " </a>,\n",
              " <a class=\"post-thumbnail\" href=\"https://elperiodico.com.gt/nacionales/2021/05/28/organizaciones-piden-un-alto-a-la-violencia-contra-las-ninas-y-mujeres/\">\n",
              " <img alt=\"otras-noticias\" src=\"https://d25nlln9isiu5y.cloudfront.net/wp-content/uploads/2021/05/28135045/Organizaciones-manifiestan-en-favor-de-la-nin%CC%83ez-y-las-mujeres-03-1024x682.jpeg\"/>\n",
              " </a>]"
            ]
          },
          "metadata": {
            "tags": []
          },
          "execution_count": 64
        }
      ]
    },
    {
      "cell_type": "code",
      "metadata": {
        "id": "d5i_wQ881LOV"
      },
      "source": [
        "a1 = elp_doc.select(\".panel-content > section > div > a\")[0]"
      ],
      "execution_count": null,
      "outputs": []
    },
    {
      "cell_type": "code",
      "metadata": {
        "colab": {
          "base_uri": "https://localhost:8080/",
          "height": 35
        },
        "id": "4G8a8fyF1heW",
        "outputId": "d10a211b-debb-48cc-9fc0-681fab2bb06b"
      },
      "source": [
        "a1.attrs['href']"
      ],
      "execution_count": null,
      "outputs": [
        {
          "output_type": "execute_result",
          "data": {
            "application/vnd.google.colaboratory.intrinsic+json": {
              "type": "string"
            },
            "text/plain": [
              "'https://elperiodico.com.gt/opinion/opiniones-de-hoy/2021/03/25/un-busto-digno-de-su-grandeza/'"
            ]
          },
          "metadata": {
            "tags": []
          },
          "execution_count": 76
        }
      ]
    },
    {
      "cell_type": "code",
      "metadata": {
        "id": "7SrOkWDV11rJ"
      },
      "source": [
        ""
      ],
      "execution_count": null,
      "outputs": []
    },
    {
      "cell_type": "markdown",
      "metadata": {
        "id": "7K8MbyJi2Tt1"
      },
      "source": [
        "\n",
        "\n",
        "---\n",
        "\n"
      ]
    },
    {
      "cell_type": "code",
      "metadata": {
        "colab": {
          "base_uri": "https://localhost:8080/"
        },
        "id": "mSGtvpol2V9e",
        "outputId": "7f8bd3f5-7c64-43c4-82c0-cdaeadceae2d"
      },
      "source": [
        "abs_agree = [d for d in data if d['agree_ratio'] > 2]\n",
        "\n",
        "print(f\"{'Outlet':<20} {'Bias':<20}\")\n",
        "print(\"-\" * 30)\n",
        "\n",
        "for d in abs_agree:\n",
        "    print(f\"{d['name']:<20} {d['bias']:<20}\")"
      ],
      "execution_count": null,
      "outputs": [
        {
          "output_type": "stream",
          "text": [
            "Outlet               Bias                \n",
            "------------------------------\n",
            "AlterNet             left                \n",
            "Breitbart News       right               \n",
            "BuzzFeed News        left                \n",
            "CNN (Opinion)        left                \n",
            "Daily Beast          left                \n",
            "Democracy Now        left                \n",
            "Fox News (Opinion)   right               \n",
            "Mother Jones         left                \n",
            "MSNBC                left                \n",
            "National Review      right               \n",
            "New York Times (Opinion) left                \n",
            "Slate                left                \n",
            "The American Spectator right               \n",
            "The Daily Caller     right               \n",
            "The Daily Wire       right               \n",
            "The Epoch Times      right-center        \n",
            "The Federalist       right               \n",
            "The Intercept        left                \n",
            "The New Yorker       left                \n"
          ],
          "name": "stdout"
        }
      ]
    },
    {
      "cell_type": "code",
      "metadata": {
        "id": "zB2q-S4S2W3v"
      },
      "source": [
        ""
      ],
      "execution_count": null,
      "outputs": []
    },
    {
      "cell_type": "code",
      "metadata": {
        "id": "Sa3n9MSI2_-F"
      },
      "source": [
        "agree_disagree['total_votes'] = agree_disagree['agree'] + agree_disagree['disagree']\n"
      ],
      "execution_count": null,
      "outputs": []
    },
    {
      "cell_type": "code",
      "metadata": {
        "colab": {
          "base_uri": "https://localhost:8080/",
          "height": 378
        },
        "id": "fFLNuvRy3GTO",
        "outputId": "78e92532-fb9b-4b27-c62f-80df24d03e36"
      },
      "source": [
        "agree_disagree.sort_values('agree_ratio', ascending=False, inplace=True)\n",
        "agree_disagree.head(10)"
      ],
      "execution_count": null,
      "outputs": [
        {
          "output_type": "execute_result",
          "data": {
            "text/html": [
              "<div>\n",
              "<style scoped>\n",
              "    .dataframe tbody tr th:only-of-type {\n",
              "        vertical-align: middle;\n",
              "    }\n",
              "\n",
              "    .dataframe tbody tr th {\n",
              "        vertical-align: top;\n",
              "    }\n",
              "\n",
              "    .dataframe thead th {\n",
              "        text-align: right;\n",
              "    }\n",
              "</style>\n",
              "<table border=\"1\" class=\"dataframe\">\n",
              "  <thead>\n",
              "    <tr style=\"text-align: right;\">\n",
              "      <th></th>\n",
              "      <th>allsides_page</th>\n",
              "      <th>bias</th>\n",
              "      <th>agree</th>\n",
              "      <th>disagree</th>\n",
              "      <th>agree_ratio</th>\n",
              "      <th>agreeance_text</th>\n",
              "      <th>total_votes</th>\n",
              "    </tr>\n",
              "    <tr>\n",
              "      <th>name</th>\n",
              "      <th></th>\n",
              "      <th></th>\n",
              "      <th></th>\n",
              "      <th></th>\n",
              "      <th></th>\n",
              "      <th></th>\n",
              "      <th></th>\n",
              "    </tr>\n",
              "  </thead>\n",
              "  <tbody>\n",
              "    <tr>\n",
              "      <th>TheBlaze.com</th>\n",
              "      <td>https://www.allsides.com/news-source/theblaze-...</td>\n",
              "      <td>right</td>\n",
              "      <td>97202</td>\n",
              "      <td>78816</td>\n",
              "      <td>1.233278</td>\n",
              "      <td>somewhat agrees</td>\n",
              "      <td>176018</td>\n",
              "    </tr>\n",
              "    <tr>\n",
              "      <th>CNN (Online News)</th>\n",
              "      <td>https://www.allsides.com/news-source/cnn-media...</td>\n",
              "      <td>left</td>\n",
              "      <td>48085</td>\n",
              "      <td>46748</td>\n",
              "      <td>1.028600</td>\n",
              "      <td>somewhat agrees</td>\n",
              "      <td>94833</td>\n",
              "    </tr>\n",
              "    <tr>\n",
              "      <th>Fox News (Online News)</th>\n",
              "      <td>https://www.allsides.com/news-source/fox-news-...</td>\n",
              "      <td>right</td>\n",
              "      <td>39413</td>\n",
              "      <td>46064</td>\n",
              "      <td>0.855614</td>\n",
              "      <td>somewhat disagrees</td>\n",
              "      <td>85477</td>\n",
              "    </tr>\n",
              "    <tr>\n",
              "      <th>New York Times (News)</th>\n",
              "      <td>https://www.allsides.com/news-source/new-york-...</td>\n",
              "      <td>left-center</td>\n",
              "      <td>27730</td>\n",
              "      <td>37486</td>\n",
              "      <td>0.739743</td>\n",
              "      <td>somewhat disagrees</td>\n",
              "      <td>65216</td>\n",
              "    </tr>\n",
              "    <tr>\n",
              "      <th>NPR (Online News)</th>\n",
              "      <td>https://www.allsides.com/news-source/npr-media...</td>\n",
              "      <td>center</td>\n",
              "      <td>30532</td>\n",
              "      <td>27923</td>\n",
              "      <td>1.093436</td>\n",
              "      <td>somewhat agrees</td>\n",
              "      <td>58455</td>\n",
              "    </tr>\n",
              "    <tr>\n",
              "      <th>HuffPost</th>\n",
              "      <td>https://www.allsides.com/news-source/huffpost-...</td>\n",
              "      <td>left</td>\n",
              "      <td>34235</td>\n",
              "      <td>21999</td>\n",
              "      <td>1.556207</td>\n",
              "      <td>agrees</td>\n",
              "      <td>56234</td>\n",
              "    </tr>\n",
              "    <tr>\n",
              "      <th>Politico</th>\n",
              "      <td>https://www.allsides.com/news-source/politico-...</td>\n",
              "      <td>left-center</td>\n",
              "      <td>22506</td>\n",
              "      <td>29355</td>\n",
              "      <td>0.766684</td>\n",
              "      <td>somewhat disagrees</td>\n",
              "      <td>51861</td>\n",
              "    </tr>\n",
              "    <tr>\n",
              "      <th>BBC News</th>\n",
              "      <td>https://www.allsides.com/news-source/bbc-news-...</td>\n",
              "      <td>center</td>\n",
              "      <td>27695</td>\n",
              "      <td>23754</td>\n",
              "      <td>1.165909</td>\n",
              "      <td>somewhat agrees</td>\n",
              "      <td>51449</td>\n",
              "    </tr>\n",
              "    <tr>\n",
              "      <th>ABC News (Online)</th>\n",
              "      <td>https://www.allsides.com/news-source/abc-news-...</td>\n",
              "      <td>left-center</td>\n",
              "      <td>33390</td>\n",
              "      <td>17034</td>\n",
              "      <td>1.960197</td>\n",
              "      <td>agrees</td>\n",
              "      <td>50424</td>\n",
              "    </tr>\n",
              "    <tr>\n",
              "      <th>Breitbart News</th>\n",
              "      <td>https://www.allsides.com/news-source/breitbart</td>\n",
              "      <td>right</td>\n",
              "      <td>37442</td>\n",
              "      <td>10854</td>\n",
              "      <td>3.449604</td>\n",
              "      <td>absolutely agrees</td>\n",
              "      <td>48296</td>\n",
              "    </tr>\n",
              "  </tbody>\n",
              "</table>\n",
              "</div>"
            ],
            "text/plain": [
              "                                                            allsides_page  ... total_votes\n",
              "name                                                                       ...            \n",
              "TheBlaze.com            https://www.allsides.com/news-source/theblaze-...  ...      176018\n",
              "CNN (Online News)       https://www.allsides.com/news-source/cnn-media...  ...       94833\n",
              "Fox News (Online News)  https://www.allsides.com/news-source/fox-news-...  ...       85477\n",
              "New York Times (News)   https://www.allsides.com/news-source/new-york-...  ...       65216\n",
              "NPR (Online News)       https://www.allsides.com/news-source/npr-media...  ...       58455\n",
              "HuffPost                https://www.allsides.com/news-source/huffpost-...  ...       56234\n",
              "Politico                https://www.allsides.com/news-source/politico-...  ...       51861\n",
              "BBC News                https://www.allsides.com/news-source/bbc-news-...  ...       51449\n",
              "ABC News (Online)       https://www.allsides.com/news-source/abc-news-...  ...       50424\n",
              "Breitbart News             https://www.allsides.com/news-source/breitbart  ...       48296\n",
              "\n",
              "[10 rows x 7 columns]"
            ]
          },
          "metadata": {
            "tags": []
          },
          "execution_count": 83
        }
      ]
    },
    {
      "cell_type": "code",
      "metadata": {
        "id": "RlwZvcCd3Ju_"
      },
      "source": [
        ""
      ],
      "execution_count": null,
      "outputs": []
    },
    {
      "cell_type": "code",
      "metadata": {
        "id": "_JAV_uNa3Tr0"
      },
      "source": [
        "import matplotlib.pyplot as plt\n",
        "import seaborn \n",
        "plt.style.use('seaborn-darkgrid')\n"
      ],
      "execution_count": null,
      "outputs": []
    },
    {
      "cell_type": "code",
      "metadata": {
        "id": "MeipAnE53V0I"
      },
      "source": [
        "top_agree = agree_disagree.head(25).copy()\n",
        "\n",
        "top_agree.sort_values('agree_ratio', ascending=False, inplace=True)"
      ],
      "execution_count": null,
      "outputs": []
    },
    {
      "cell_type": "code",
      "metadata": {
        "colab": {
          "base_uri": "https://localhost:8080/",
          "height": 751
        },
        "id": "XxmaxVJp3gf-",
        "outputId": "c1e7f189-cd7d-4131-f15a-319b16784fe4"
      },
      "source": [
        "fig, ax = plt.subplots(figsize=(20, 10))\n",
        "\n",
        "ax.bar(top_agree.index, top_agree['agree'], color=\"#1F1\")\n",
        "ax.bar(top_agree.index, top_agree['disagree'], color=\"#F11\", bottom=top_agree['agree'])\n",
        "\n",
        "ax.set_ylabel = 'Total feedback'\n",
        "\n",
        "plt.yticks(fontsize='x-large')\n",
        "plt.xticks(rotation=60, ha='right', fontsize='x-large', rotation_mode='anchor')\n",
        "\n",
        "plt.legend(['Agree', 'Disagree'], fontsize='xx-large')\n",
        "plt.title('AllSides Bias Rating vs. Community Feedback', fontsize='xx-large')\n",
        "plt.show()\n",
        "\n"
      ],
      "execution_count": null,
      "outputs": [
        {
          "output_type": "display_data",
          "data": {
            "image/png": "[encoded data removed]",
            "text/plain": [
              "<Figure size 1440x720 with 1 Axes>"
            ]
          },
          "metadata": {
            "tags": []
          }
        }
      ]
    },
    {
      "cell_type": "code",
      "metadata": {
        "id": "nxpLu2Kn44Lf"
      },
      "source": [
        ""
      ],
      "execution_count": null,
      "outputs": []
    }
  ]
}