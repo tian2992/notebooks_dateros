{
 "cells": [
  {
   "cell_type": "code",
   "execution_count": 46,
   "metadata": {
    "collapsed": true
   },
   "outputs": [],
   "source": [
    "import numpy as np\n",
    "import matplotlib.pyplot as plt\n",
    "from sklearn import datasets\n",
    "\n",
    "from sklearn.model_selection import train_test_split\n",
    "from sklearn.metrics import confusion_matrix, plot_confusion_matrix, classification_report, accuracy_score"
   ]
  },
  {
   "cell_type": "code",
   "execution_count": 26,
   "outputs": [
    {
     "name": "stdout",
     "output_type": "stream",
     "text": [
      "['DESCR', 'data', 'feature_names', 'frame', 'images', 'target', 'target_names']\n"
     ]
    }
   ],
   "source": [
    "digits = datasets.load_digits()\n",
    "print(dir(digits))"
   ],
   "metadata": {
    "collapsed": false,
    "pycharm": {
     "name": "#%%\n"
    }
   }
  },
  {
   "cell_type": "code",
   "execution_count": 27,
   "outputs": [
    {
     "data": {
      "text/plain": "array([[[ 0.,  0.,  5., ...,  1.,  0.,  0.],\n        [ 0.,  0., 13., ..., 15.,  5.,  0.],\n        [ 0.,  3., 15., ..., 11.,  8.,  0.],\n        ...,\n        [ 0.,  4., 11., ..., 12.,  7.,  0.],\n        [ 0.,  2., 14., ..., 12.,  0.,  0.],\n        [ 0.,  0.,  6., ...,  0.,  0.,  0.]],\n\n       [[ 0.,  0.,  0., ...,  5.,  0.,  0.],\n        [ 0.,  0.,  0., ...,  9.,  0.,  0.],\n        [ 0.,  0.,  3., ...,  6.,  0.,  0.],\n        ...,\n        [ 0.,  0.,  1., ...,  6.,  0.,  0.],\n        [ 0.,  0.,  1., ...,  6.,  0.,  0.],\n        [ 0.,  0.,  0., ..., 10.,  0.,  0.]],\n\n       [[ 0.,  0.,  0., ..., 12.,  0.,  0.],\n        [ 0.,  0.,  3., ..., 14.,  0.,  0.],\n        [ 0.,  0.,  8., ..., 16.,  0.,  0.],\n        ...,\n        [ 0.,  9., 16., ...,  0.,  0.,  0.],\n        [ 0.,  3., 13., ..., 11.,  5.,  0.],\n        [ 0.,  0.,  0., ..., 16.,  9.,  0.]],\n\n       ...,\n\n       [[ 0.,  0.,  1., ...,  1.,  0.,  0.],\n        [ 0.,  0., 13., ...,  2.,  1.,  0.],\n        [ 0.,  0., 16., ..., 16.,  5.,  0.],\n        ...,\n        [ 0.,  0., 16., ..., 15.,  0.,  0.],\n        [ 0.,  0., 15., ..., 16.,  0.,  0.],\n        [ 0.,  0.,  2., ...,  6.,  0.,  0.]],\n\n       [[ 0.,  0.,  2., ...,  0.,  0.,  0.],\n        [ 0.,  0., 14., ..., 15.,  1.,  0.],\n        [ 0.,  4., 16., ..., 16.,  7.,  0.],\n        ...,\n        [ 0.,  0.,  0., ..., 16.,  2.,  0.],\n        [ 0.,  0.,  4., ..., 16.,  2.,  0.],\n        [ 0.,  0.,  5., ..., 12.,  0.,  0.]],\n\n       [[ 0.,  0., 10., ...,  1.,  0.,  0.],\n        [ 0.,  2., 16., ...,  1.,  0.,  0.],\n        [ 0.,  0., 15., ..., 15.,  0.,  0.],\n        ...,\n        [ 0.,  4., 16., ..., 16.,  6.,  0.],\n        [ 0.,  8., 16., ..., 16.,  8.,  0.],\n        [ 0.,  1.,  8., ..., 12.,  1.,  0.]]])"
     },
     "execution_count": 27,
     "metadata": {},
     "output_type": "execute_result"
    }
   ],
   "source": [
    "digits.images"
   ],
   "metadata": {
    "collapsed": false,
    "pycharm": {
     "name": "#%%\n"
    }
   }
  },
  {
   "cell_type": "code",
   "execution_count": 28,
   "outputs": [
    {
     "data": {
      "text/plain": "(1797, 8, 8)"
     },
     "execution_count": 28,
     "metadata": {},
     "output_type": "execute_result"
    }
   ],
   "source": [
    "digits.images.shape"
   ],
   "metadata": {
    "collapsed": false,
    "pycharm": {
     "name": "#%%\n"
    }
   }
  },
  {
   "cell_type": "code",
   "execution_count": 34,
   "outputs": [
    {
     "data": {
      "text/plain": "<Figure size 720x216 with 4 Axes>",
      "image/png": "[encoded data removed]"
     },
     "metadata": {
      "needs_background": "light"
     },
     "output_type": "display_data"
    }
   ],
   "source": [
    "_, axes = plt.subplots(nrows=1, ncols=4, figsize=(10, 3))\n",
    "for ax, image, label in zip(axes, digits.images, digits.target):\n",
    "    ax.set_axis_off()\n",
    "    ax.imshow(image, cmap=plt.cm.gray_r, interpolation='nearest')\n",
    "    ax.set_title('Training: %i' % label)"
   ],
   "metadata": {
    "collapsed": false,
    "pycharm": {
     "name": "#%%\n"
    }
   }
  },
  {
   "cell_type": "code",
   "execution_count": 29,
   "outputs": [],
   "source": [],
   "metadata": {
    "collapsed": false,
    "pycharm": {
     "name": "#%%\n"
    }
   }
  },
  {
   "cell_type": "code",
   "execution_count": 29,
   "outputs": [],
   "source": [],
   "metadata": {
    "collapsed": false,
    "pycharm": {
     "name": "#%%\n"
    }
   }
  },
  {
   "cell_type": "code",
   "execution_count": 38,
   "outputs": [
    {
     "data": {
      "text/plain": "<Figure size 432x288 with 1 Axes>",
      "image/png": "[encoded data removed]"
     },
     "metadata": {
      "needs_background": "light"
     },
     "output_type": "display_data"
    },
    {
     "name": "stdout",
     "output_type": "stream",
     "text": [
      "2\n"
     ]
    },
    {
     "data": {
      "text/plain": "<Figure size 432x288 with 1 Axes>",
      "image/png": "[encoded data removed]"
     },
     "metadata": {
      "needs_background": "light"
     },
     "output_type": "display_data"
    }
   ],
   "source": [
    "def show_digit(numy):\n",
    "    print(digits.target[numy])\n",
    "    plt.imshow(digits.images[numy],cmap='binary')\n",
    "    plt.show()"
   ],
   "metadata": {
    "collapsed": false,
    "pycharm": {
     "name": "#%%\n"
    }
   }
  },
  {
   "cell_type": "markdown",
   "source": [
    "## Convertimos las imagenes en arreglos unidimensionales\n"
   ],
   "metadata": {
    "collapsed": false,
    "pycharm": {
     "name": "#%% md\n"
    }
   }
  },
  {
   "cell_type": "code",
   "execution_count": 31,
   "outputs": [],
   "source": [
    "n_samples = len(digits.images)\n",
    "flattened_images = digits.images.reshape((n_samples, -1))"
   ],
   "metadata": {
    "collapsed": false,
    "pycharm": {
     "name": "#%%\n"
    }
   }
  },
  {
   "cell_type": "code",
   "execution_count": 32,
   "outputs": [
    {
     "name": "stdout",
     "output_type": "stream",
     "text": [
      "(1797, 64)\n",
      "[ 0.  0.  5. 13.  9.  1.  0.  0.  0.  0. 13. 15. 10. 15.  5.  0.  0.  3.\n",
      " 15.  2.  0. 11.  8.  0.  0.  4. 12.  0.  0.  8.  8.  0.  0.  5.  8.  0.\n",
      "  0.  9.  8.  0.  0.  4. 11.  0.  1. 12.  7.  0.  0.  2. 14.  5. 10. 12.\n",
      "  0.  0.  0.  0.  6. 13. 10.  0.  0.  0.]\n"
     ]
    }
   ],
   "source": [
    "print(flattened_images.shape)\n",
    "print(flattened_images[0])"
   ],
   "metadata": {
    "collapsed": false,
    "pycharm": {
     "name": "#%%\n"
    }
   }
  },
  {
   "cell_type": "code",
   "execution_count": 33,
   "outputs": [],
   "source": [
    "y = digits.target\n",
    "x = flattened_images\n",
    "\n",
    "split = 1700\n",
    "x_train = x[:split]\n",
    "Y_train = y[:split]\n",
    "\n",
    "x_test = x[split:]\n",
    "Y_test = y[split:]\n",
    "\n",
    "## equivalente\n",
    "\n",
    "#X_train, X_test, y_train, y_test = train_test_split(flattened_images, digits.target,\n",
    "#                                                    test_size=split/n_samples)\n"
   ],
   "metadata": {
    "collapsed": false,
    "pycharm": {
     "name": "#%%\n"
    }
   }
  },
  {
   "cell_type": "markdown",
   "source": [
    "# Support Vector Machine\n"
   ],
   "metadata": {
    "collapsed": false,
    "pycharm": {
     "name": "#%% md\n"
    }
   }
  },
  {
   "cell_type": "code",
   "execution_count": 41,
   "outputs": [],
   "source": [
    "\n",
    "\n",
    "from sklearn import svm\n",
    "\n",
    "svm_model = svm.SVC(gamma=0.001, C=100.)\n",
    "svm_model.fit(x_train, Y_train)\n",
    "\n",
    "svm_predict = svm_model.predict(x_test)"
   ],
   "metadata": {
    "collapsed": false,
    "pycharm": {
     "name": "#%%\n"
    }
   }
  },
  {
   "cell_type": "code",
   "execution_count": 44,
   "outputs": [
    {
     "name": "stdout",
     "output_type": "stream",
     "text": [
      "Classification report for classifier SVC(C=100.0, gamma=0.001):\n",
      "              precision    recall  f1-score   support\n",
      "\n",
      "           0       1.00      1.00      1.00         9\n",
      "           1       1.00      1.00      1.00        10\n",
      "           2       1.00      1.00      1.00        10\n",
      "           3       1.00      0.80      0.89        10\n",
      "           4       1.00      1.00      1.00        10\n",
      "           5       0.90      1.00      0.95         9\n",
      "           6       1.00      1.00      1.00        10\n",
      "           7       1.00      1.00      1.00        10\n",
      "           8       0.91      1.00      0.95        10\n",
      "           9       1.00      1.00      1.00         9\n",
      "\n",
      "    accuracy                           0.98        97\n",
      "   macro avg       0.98      0.98      0.98        97\n",
      "weighted avg       0.98      0.98      0.98        97\n",
      "\n",
      "\n"
     ]
    }
   ],
   "source": [
    "print(f\"Classification report for classifier {svm_model}:\\n\"\n",
    "      f\"{classification_report(Y_test, svm_predict)}\\n\")\n",
    "\n"
   ],
   "metadata": {
    "collapsed": false,
    "pycharm": {
     "name": "#%%\n"
    }
   }
  },
  {
   "cell_type": "markdown",
   "source": [
    "# Arbol de decisión\n",
    "\n",
    "\n",
    "\n"
   ],
   "metadata": {
    "collapsed": false,
    "pycharm": {
     "name": "#%% md\n"
    }
   }
  },
  {
   "cell_type": "code",
   "execution_count": 47,
   "outputs": [
    {
     "name": "stdout",
     "output_type": "stream",
     "text": [
      "Classification report for classifier DecisionTreeClassifier():\n",
      "              precision    recall  f1-score   support\n",
      "\n",
      "           0       1.00      1.00      1.00         9\n",
      "           1       0.80      0.80      0.80        10\n",
      "           2       0.89      0.80      0.84        10\n",
      "           3       0.67      0.40      0.50        10\n",
      "           4       0.83      1.00      0.91        10\n",
      "           5       1.00      0.56      0.71         9\n",
      "           6       0.77      1.00      0.87        10\n",
      "           7       1.00      1.00      1.00        10\n",
      "           8       0.69      0.90      0.78        10\n",
      "           9       0.80      0.89      0.84         9\n",
      "\n",
      "    accuracy                           0.84        97\n",
      "   macro avg       0.85      0.83      0.83        97\n",
      "weighted avg       0.84      0.84      0.83        97\n",
      "\n",
      "\n"
     ]
    }
   ],
   "source": [
    "from sklearn.tree import DecisionTreeClassifier\n",
    "\n",
    "dt_model = DecisionTreeClassifier(criterion = 'gini')\n",
    "dt_model.fit(x_train, Y_train)\n",
    "\n",
    "dt_predict = dt_model.predict(x_test)\n",
    "\n",
    "print(f\"Classification report for classifier {dt_model}:\\n\"\n",
    "      f\"{classification_report(Y_test, dt_predict)}\\n\")\n"
   ],
   "metadata": {
    "collapsed": false,
    "pycharm": {
     "name": "#%%\n"
    }
   }
  },
  {
   "cell_type": "markdown",
   "source": [
    "# Con clasificador de arbol aleatorio"
   ],
   "metadata": {
    "collapsed": false,
    "pycharm": {
     "name": "#%% md\n"
    }
   }
  },
  {
   "cell_type": "code",
   "execution_count": 48,
   "outputs": [
    {
     "name": "stdout",
     "output_type": "stream",
     "text": [
      "Classification report for classifier RandomForestClassifier(n_estimators=150):\n",
      "              precision    recall  f1-score   support\n",
      "\n",
      "           0       1.00      1.00      1.00         9\n",
      "           1       0.91      1.00      0.95        10\n",
      "           2       1.00      1.00      1.00        10\n",
      "           3       1.00      0.70      0.82        10\n",
      "           4       1.00      1.00      1.00        10\n",
      "           5       0.82      1.00      0.90         9\n",
      "           6       1.00      1.00      1.00        10\n",
      "           7       1.00      1.00      1.00        10\n",
      "           8       0.90      0.90      0.90        10\n",
      "           9       1.00      1.00      1.00         9\n",
      "\n",
      "    accuracy                           0.96        97\n",
      "   macro avg       0.96      0.96      0.96        97\n",
      "weighted avg       0.96      0.96      0.96        97\n",
      "\n",
      "\n"
     ]
    }
   ],
   "source": [
    "\n",
    "from sklearn.ensemble import RandomForestClassifier\n",
    "\n",
    "rc_model = RandomForestClassifier(n_estimators = 150)\n",
    "rc_model.fit(x_train, Y_train)\n",
    "\n",
    "rc_predict = rc_model.predict(x_test)\n",
    "\n",
    "print(f\"Classification report for classifier {rc_model}:\\n\"\n",
    "      f\"{classification_report(Y_test, rc_predict)}\\n\")"
   ],
   "metadata": {
    "collapsed": false,
    "pycharm": {
     "name": "#%%\n"
    }
   }
  },
  {
   "cell_type": "code",
   "execution_count": null,
   "outputs": [],
   "source": [],
   "metadata": {
    "collapsed": false,
    "pycharm": {
     "name": "#%%\n"
    }
   }
  },
  {
   "cell_type": "code",
   "execution_count": 49,
   "outputs": [
    {
     "name": "stdout",
     "output_type": "stream",
     "text": [
      "0.9587628865979382\n"
     ]
    }
   ],
   "source": [
    "print(accuracy_score(Y_test, rc_predict))"
   ],
   "metadata": {
    "collapsed": false,
    "pycharm": {
     "name": "#%%\n"
    }
   }
  },
  {
   "cell_type": "markdown",
   "source": [
    "# Con Red Neuronal"
   ],
   "metadata": {
    "collapsed": false,
    "pycharm": {
     "name": "#%% md\n"
    }
   }
  },
  {
   "cell_type": "code",
   "execution_count": 53,
   "outputs": [
    {
     "name": "stdout",
     "output_type": "stream",
     "text": [
      "Iteration 1, loss = 2.11696120\n",
      "Iteration 2, loss = 1.59315175\n",
      "Iteration 3, loss = 1.11243578\n",
      "Iteration 4, loss = 0.75312112\n",
      "Iteration 5, loss = 0.53314736\n",
      "Iteration 6, loss = 0.39753838\n",
      "Iteration 7, loss = 0.31506314\n",
      "Iteration 8, loss = 0.25999020\n",
      "Iteration 9, loss = 0.22759167\n",
      "Iteration 10, loss = 0.20024342\n",
      "Iteration 11, loss = 0.17550139\n",
      "Iteration 12, loss = 0.15822439\n",
      "Iteration 13, loss = 0.14266516\n",
      "Iteration 14, loss = 0.13323783\n",
      "Iteration 15, loss = 0.12635878\n",
      "Iteration 16, loss = 0.11543863\n",
      "Iteration 17, loss = 0.10873206\n",
      "Iteration 18, loss = 0.10058183\n",
      "Iteration 19, loss = 0.09619648\n",
      "Iteration 20, loss = 0.09437513\n",
      "Iteration 21, loss = 0.08853922\n",
      "Iteration 22, loss = 0.08446977\n",
      "Iteration 23, loss = 0.08050310\n",
      "Iteration 24, loss = 0.07631371\n",
      "Iteration 25, loss = 0.07409111\n",
      "Iteration 26, loss = 0.07258852\n",
      "Iteration 27, loss = 0.06901664\n",
      "Iteration 28, loss = 0.06551617\n",
      "Iteration 29, loss = 0.06390392\n",
      "Iteration 30, loss = 0.06213605\n",
      "Iteration 31, loss = 0.05949688\n",
      "Iteration 32, loss = 0.05904152\n",
      "Iteration 33, loss = 0.05725646\n",
      "Iteration 34, loss = 0.05336156\n",
      "Iteration 35, loss = 0.05376191\n",
      "Iteration 36, loss = 0.05112985\n",
      "Iteration 37, loss = 0.05086213\n",
      "Iteration 38, loss = 0.04836177\n",
      "Iteration 39, loss = 0.04866101\n",
      "Iteration 40, loss = 0.04677347\n",
      "Iteration 41, loss = 0.04522541\n",
      "Iteration 42, loss = 0.04450307\n",
      "Iteration 43, loss = 0.04397961\n",
      "Iteration 44, loss = 0.04213601\n",
      "Iteration 45, loss = 0.04377786\n",
      "Iteration 46, loss = 0.04159052\n",
      "Iteration 47, loss = 0.04074565\n",
      "Iteration 48, loss = 0.03915680\n",
      "Iteration 49, loss = 0.03898471\n",
      "Iteration 50, loss = 0.03836735\n",
      "Iteration 51, loss = 0.03807950\n",
      "Iteration 52, loss = 0.03624073\n",
      "Iteration 53, loss = 0.03539035\n",
      "Iteration 54, loss = 0.03479529\n",
      "Iteration 55, loss = 0.03430932\n",
      "Iteration 56, loss = 0.03320990\n",
      "Iteration 57, loss = 0.03288341\n",
      "Iteration 58, loss = 0.03287142\n",
      "Iteration 59, loss = 0.03185193\n",
      "Iteration 60, loss = 0.03131072\n",
      "Iteration 61, loss = 0.03202289\n",
      "Iteration 62, loss = 0.03110402\n",
      "Iteration 63, loss = 0.03056097\n",
      "Iteration 64, loss = 0.03019602\n",
      "Iteration 65, loss = 0.02941759\n",
      "Iteration 66, loss = 0.02921660\n",
      "Iteration 67, loss = 0.02891111\n",
      "Iteration 68, loss = 0.02838996\n",
      "Iteration 69, loss = 0.02821859\n",
      "Iteration 70, loss = 0.02839114\n",
      "Iteration 71, loss = 0.02772803\n",
      "Iteration 72, loss = 0.02742211\n",
      "Iteration 73, loss = 0.02725011\n",
      "Iteration 74, loss = 0.02691449\n",
      "Iteration 75, loss = 0.02639422\n",
      "Iteration 76, loss = 0.02607190\n",
      "Iteration 77, loss = 0.02580037\n",
      "Iteration 78, loss = 0.02564330\n",
      "Iteration 79, loss = 0.02547671\n",
      "Iteration 80, loss = 0.02526120\n",
      "Iteration 81, loss = 0.02488048\n",
      "Iteration 82, loss = 0.02459536\n",
      "Iteration 83, loss = 0.02445646\n",
      "Iteration 84, loss = 0.02417968\n",
      "Iteration 85, loss = 0.02347724\n",
      "Iteration 86, loss = 0.02325464\n",
      "Iteration 87, loss = 0.02339473\n",
      "Iteration 88, loss = 0.02327607\n",
      "Iteration 89, loss = 0.02302347\n",
      "Iteration 90, loss = 0.02336481\n",
      "Iteration 91, loss = 0.02231633\n",
      "Iteration 92, loss = 0.02201585\n",
      "Iteration 93, loss = 0.02136389\n",
      "Iteration 94, loss = 0.02097811\n",
      "Iteration 95, loss = 0.02084674\n",
      "Iteration 96, loss = 0.02033473\n",
      "Iteration 97, loss = 0.02086500\n",
      "Iteration 98, loss = 0.02052062\n",
      "Iteration 99, loss = 0.01994585\n",
      "Iteration 100, loss = 0.01984665\n",
      "Iteration 101, loss = 0.01980780\n",
      "Iteration 102, loss = 0.01980967\n",
      "Iteration 103, loss = 0.01937939\n",
      "Iteration 104, loss = 0.01924019\n",
      "Iteration 105, loss = 0.01876816\n",
      "Iteration 106, loss = 0.01876130\n",
      "Iteration 107, loss = 0.01861453\n",
      "Iteration 108, loss = 0.01841856\n",
      "Iteration 109, loss = 0.01838970\n",
      "Iteration 110, loss = 0.01810558\n",
      "Iteration 111, loss = 0.01794168\n",
      "Iteration 112, loss = 0.01782441\n",
      "Iteration 113, loss = 0.01760831\n",
      "Iteration 114, loss = 0.01782873\n",
      "Iteration 115, loss = 0.01753661\n",
      "Iteration 116, loss = 0.01744861\n",
      "Iteration 117, loss = 0.01730234\n",
      "Iteration 118, loss = 0.01733644\n",
      "Iteration 119, loss = 0.01708310\n",
      "Iteration 120, loss = 0.01688851\n",
      "Iteration 121, loss = 0.01673638\n",
      "Iteration 122, loss = 0.01669588\n",
      "Iteration 123, loss = 0.01659952\n",
      "Iteration 124, loss = 0.01662691\n",
      "Iteration 125, loss = 0.01636254\n",
      "Iteration 126, loss = 0.01627146\n",
      "Iteration 127, loss = 0.01611583\n",
      "Iteration 128, loss = 0.01601188\n",
      "Iteration 129, loss = 0.01590265\n",
      "Iteration 130, loss = 0.01586454\n",
      "Iteration 131, loss = 0.01584854\n",
      "Iteration 132, loss = 0.01563693\n",
      "Iteration 133, loss = 0.01560660\n",
      "Iteration 134, loss = 0.01546444\n",
      "Iteration 135, loss = 0.01535882\n",
      "Iteration 136, loss = 0.01538433\n",
      "Iteration 137, loss = 0.01526316\n",
      "Iteration 138, loss = 0.01517770\n",
      "Iteration 139, loss = 0.01496201\n",
      "Iteration 140, loss = 0.01483589\n",
      "Iteration 141, loss = 0.01471122\n",
      "Iteration 142, loss = 0.01486776\n",
      "Iteration 143, loss = 0.01475474\n",
      "Iteration 144, loss = 0.01465315\n",
      "Iteration 145, loss = 0.01449836\n",
      "Iteration 146, loss = 0.01441431\n",
      "Iteration 147, loss = 0.01450403\n",
      "Iteration 148, loss = 0.01430266\n",
      "Iteration 149, loss = 0.01418462\n",
      "Iteration 150, loss = 0.01407264\n",
      "Iteration 151, loss = 0.01405052\n",
      "Iteration 152, loss = 0.01401304\n",
      "Iteration 153, loss = 0.01390918\n",
      "Iteration 154, loss = 0.01380528\n",
      "Iteration 155, loss = 0.01370245\n",
      "Iteration 156, loss = 0.01362839\n",
      "Iteration 157, loss = 0.01355780\n",
      "Iteration 158, loss = 0.01362737\n",
      "Iteration 159, loss = 0.01354438\n",
      "Iteration 160, loss = 0.01337022\n",
      "Iteration 161, loss = 0.01332304\n",
      "Iteration 162, loss = 0.01331628\n",
      "Iteration 163, loss = 0.01318140\n",
      "Iteration 164, loss = 0.01316561\n",
      "Iteration 165, loss = 0.01313187\n",
      "Iteration 166, loss = 0.01314777\n",
      "Iteration 167, loss = 0.01308423\n",
      "Iteration 168, loss = 0.01300807\n",
      "Iteration 169, loss = 0.01283624\n",
      "Iteration 170, loss = 0.01291845\n",
      "Iteration 171, loss = 0.01273411\n",
      "Iteration 172, loss = 0.01277001\n",
      "Iteration 173, loss = 0.01272066\n",
      "Iteration 174, loss = 0.01261552\n",
      "Iteration 175, loss = 0.01252945\n",
      "Iteration 176, loss = 0.01243880\n",
      "Iteration 177, loss = 0.01239037\n",
      "Iteration 178, loss = 0.01235943\n",
      "Iteration 179, loss = 0.01232082\n",
      "Iteration 180, loss = 0.01227212\n",
      "Iteration 181, loss = 0.01218684\n",
      "Iteration 182, loss = 0.01214912\n",
      "Iteration 183, loss = 0.01210441\n",
      "Iteration 184, loss = 0.01217189\n",
      "Iteration 185, loss = 0.01210717\n",
      "Training loss did not improve more than tol=0.000100 for 10 consecutive epochs. Stopping.\n",
      "Classification report for classifier MLPClassifier(activation='logistic', hidden_layer_sizes=(15,),\n",
      "              learning_rate_init=0.1, random_state=1, solver='sgd',\n",
      "              verbose=True):\n",
      "              precision    recall  f1-score   support\n",
      "\n",
      "           0       1.00      1.00      1.00         9\n",
      "           1       0.91      1.00      0.95        10\n",
      "           2       1.00      0.90      0.95        10\n",
      "           3       0.88      0.70      0.78        10\n",
      "           4       1.00      1.00      1.00        10\n",
      "           5       0.75      1.00      0.86         9\n",
      "           6       1.00      1.00      1.00        10\n",
      "           7       1.00      1.00      1.00        10\n",
      "           8       0.89      0.80      0.84        10\n",
      "           9       1.00      1.00      1.00         9\n",
      "\n",
      "    accuracy                           0.94        97\n",
      "   macro avg       0.94      0.94      0.94        97\n",
      "weighted avg       0.94      0.94      0.94        97\n",
      "\n",
      "\n"
     ]
    }
   ],
   "source": [
    "from sklearn.neural_network import MLPClassifier\n",
    "\n",
    "mlp_model = MLPClassifier(\n",
    "                hidden_layer_sizes=(15,), # 15 capas ocultas de Red Neuronal\n",
    "                activation='logistic',\n",
    "                alpha=1e-4,\n",
    "                solver='sgd',\n",
    "                tol=1e-4,\n",
    "                random_state=1,\n",
    "                learning_rate_init=.1,\n",
    "                verbose=True)\n",
    "\n",
    "mlp_model.fit(x_train, Y_train)\n",
    "\n",
    "mlp_predict = mlp_model.predict(x_test)\n",
    "\n",
    "print(f\"Classification report for classifier {mlp_model}:\\n\"\n",
    "      f\"{classification_report(Y_test, mlp_predict)}\\n\")"
   ],
   "metadata": {
    "collapsed": false,
    "pycharm": {
     "name": "#%%\n"
    }
   }
  },
  {
   "cell_type": "code",
   "execution_count": 54,
   "outputs": [
    {
     "data": {
      "text/plain": "<Figure size 432x288 with 2 Axes>",
      "image/png": "[encoded data removed]"
     },
     "metadata": {
      "needs_background": "light"
     },
     "output_type": "display_data"
    }
   ],
   "source": [
    "disp = plot_confusion_matrix(mlp_model, x_test, Y_test)"
   ],
   "metadata": {
    "collapsed": false,
    "pycharm": {
     "name": "#%%\n"
    }
   }
  },
  {
   "cell_type": "code",
   "execution_count": null,
   "outputs": [],
   "source": [],
   "metadata": {
    "collapsed": false,
    "pycharm": {
     "name": "#%%\n"
    }
   }
  }
 ],
 "metadata": {
  "kernelspec": {
   "display_name": "Python 3",
   "language": "python",
   "name": "python3"
  },
  "language_info": {
   "codemirror_mode": {
    "name": "ipython",
    "version": 2
   },
   "file_extension": ".py",
   "mimetype": "text/x-python",
   "name": "python",
   "nbconvert_exporter": "python",
   "pygments_lexer": "ipython2",
   "version": "2.7.6"
  }
 },
 "nbformat": 4,
 "nbformat_minor": 0
}